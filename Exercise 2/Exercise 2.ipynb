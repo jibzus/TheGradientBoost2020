{
 "cells": [
  {
   "cell_type": "markdown",
   "metadata": {},
   "source": [
    "# Exercise\n",
    "\n",
    "Ok, its time to practice what we just covered in the Opening and reading files chapter. We are going to use pandas to open a csv and then proceed to carry out a bit.\n",
    "\n",
    "Let's start off by downloading the csv combined_indicators_for_nigeria_2. This is a csv file, read the file using pandas.\n",
    "\n",
    "- Print the first 5 rows in the dataframe and the name of all the columns\n",
    "- in addition to this change the column <strong><i>country_iso3</i></strong> to <strong><i>country iso code</i></strong>"
   ]
  },
  {
   "cell_type": "code",
   "execution_count": 6,
   "metadata": {},
   "outputs": [
    {
     "output_type": "execute_result",
     "data": {
      "text/plain": "  country_name country_iso3  year                    indicator_name  \\\n0      Nigeria          NGA  2007  Agricultural machinery, tractors   \n1      Nigeria          NGA  2006  Agricultural machinery, tractors   \n2      Nigeria          NGA  2005  Agricultural machinery, tractors   \n3      Nigeria          NGA  2004  Agricultural machinery, tractors   \n4      Nigeria          NGA  2003  Agricultural machinery, tractors   \n\n   indicator_code    value  \n0  AG.AGR.TRAC.NO  24800.0  \n1  AG.AGR.TRAC.NO  23999.0  \n2  AG.AGR.TRAC.NO  23000.0  \n3  AG.AGR.TRAC.NO  23000.0  \n4  AG.AGR.TRAC.NO  22000.0  ",
      "text/html": "<div>\n<style scoped>\n    .dataframe tbody tr th:only-of-type {\n        vertical-align: middle;\n    }\n\n    .dataframe tbody tr th {\n        vertical-align: top;\n    }\n\n    .dataframe thead th {\n        text-align: right;\n    }\n</style>\n<table border=\"1\" class=\"dataframe\">\n  <thead>\n    <tr style=\"text-align: right;\">\n      <th></th>\n      <th>country_name</th>\n      <th>country_iso3</th>\n      <th>year</th>\n      <th>indicator_name</th>\n      <th>indicator_code</th>\n      <th>value</th>\n    </tr>\n  </thead>\n  <tbody>\n    <tr>\n      <th>0</th>\n      <td>Nigeria</td>\n      <td>NGA</td>\n      <td>2007</td>\n      <td>Agricultural machinery, tractors</td>\n      <td>AG.AGR.TRAC.NO</td>\n      <td>24800.0</td>\n    </tr>\n    <tr>\n      <th>1</th>\n      <td>Nigeria</td>\n      <td>NGA</td>\n      <td>2006</td>\n      <td>Agricultural machinery, tractors</td>\n      <td>AG.AGR.TRAC.NO</td>\n      <td>23999.0</td>\n    </tr>\n    <tr>\n      <th>2</th>\n      <td>Nigeria</td>\n      <td>NGA</td>\n      <td>2005</td>\n      <td>Agricultural machinery, tractors</td>\n      <td>AG.AGR.TRAC.NO</td>\n      <td>23000.0</td>\n    </tr>\n    <tr>\n      <th>3</th>\n      <td>Nigeria</td>\n      <td>NGA</td>\n      <td>2004</td>\n      <td>Agricultural machinery, tractors</td>\n      <td>AG.AGR.TRAC.NO</td>\n      <td>23000.0</td>\n    </tr>\n    <tr>\n      <th>4</th>\n      <td>Nigeria</td>\n      <td>NGA</td>\n      <td>2003</td>\n      <td>Agricultural machinery, tractors</td>\n      <td>AG.AGR.TRAC.NO</td>\n      <td>22000.0</td>\n    </tr>\n  </tbody>\n</table>\n</div>"
     },
     "metadata": {},
     "execution_count": 6
    }
   ],
   "source": [
    "path = '/Users/ejire/Desktop/TGB/combined_indicators_for_nigeria_2.csv'\n",
    "import pandas as pd\n",
    "df = pd.read_csv(path)\n",
    "df.head(5)"
   ]
  },
  {
   "cell_type": "code",
   "execution_count": 88,
   "metadata": {
    "tags": []
   },
   "outputs": [
    {
     "output_type": "stream",
     "name": "stdout",
     "text": "<class 'float'>\n"
    }
   ],
   "source": [
    "d = 4/3\n",
    "print(type(d))"
   ]
  },
  {
   "cell_type": "code",
   "execution_count": 7,
   "metadata": {},
   "outputs": [
    {
     "output_type": "execute_result",
     "data": {
      "text/plain": "Index(['country_name', 'country_iso3', 'year', 'indicator_name',\n       'indicator_code', 'value'],\n      dtype='object')"
     },
     "metadata": {},
     "execution_count": 7
    }
   ],
   "source": [
    "df.columns"
   ]
  },
  {
   "cell_type": "code",
   "execution_count": 5,
   "metadata": {},
   "outputs": [
    {
     "output_type": "execute_result",
     "data": {
      "text/plain": "  country_name country iso code  year                    indicator_name  \\\n0      Nigeria              NGA  2007  Agricultural machinery, tractors   \n1      Nigeria              NGA  2006  Agricultural machinery, tractors   \n2      Nigeria              NGA  2005  Agricultural machinery, tractors   \n3      Nigeria              NGA  2004  Agricultural machinery, tractors   \n4      Nigeria              NGA  2003  Agricultural machinery, tractors   \n\n   indicator_code    value  \n0  AG.AGR.TRAC.NO  24800.0  \n1  AG.AGR.TRAC.NO  23999.0  \n2  AG.AGR.TRAC.NO  23000.0  \n3  AG.AGR.TRAC.NO  23000.0  \n4  AG.AGR.TRAC.NO  22000.0  ",
      "text/html": "<div>\n<style scoped>\n    .dataframe tbody tr th:only-of-type {\n        vertical-align: middle;\n    }\n\n    .dataframe tbody tr th {\n        vertical-align: top;\n    }\n\n    .dataframe thead th {\n        text-align: right;\n    }\n</style>\n<table border=\"1\" class=\"dataframe\">\n  <thead>\n    <tr style=\"text-align: right;\">\n      <th></th>\n      <th>country_name</th>\n      <th>country iso code</th>\n      <th>year</th>\n      <th>indicator_name</th>\n      <th>indicator_code</th>\n      <th>value</th>\n    </tr>\n  </thead>\n  <tbody>\n    <tr>\n      <th>0</th>\n      <td>Nigeria</td>\n      <td>NGA</td>\n      <td>2007</td>\n      <td>Agricultural machinery, tractors</td>\n      <td>AG.AGR.TRAC.NO</td>\n      <td>24800.0</td>\n    </tr>\n    <tr>\n      <th>1</th>\n      <td>Nigeria</td>\n      <td>NGA</td>\n      <td>2006</td>\n      <td>Agricultural machinery, tractors</td>\n      <td>AG.AGR.TRAC.NO</td>\n      <td>23999.0</td>\n    </tr>\n    <tr>\n      <th>2</th>\n      <td>Nigeria</td>\n      <td>NGA</td>\n      <td>2005</td>\n      <td>Agricultural machinery, tractors</td>\n      <td>AG.AGR.TRAC.NO</td>\n      <td>23000.0</td>\n    </tr>\n    <tr>\n      <th>3</th>\n      <td>Nigeria</td>\n      <td>NGA</td>\n      <td>2004</td>\n      <td>Agricultural machinery, tractors</td>\n      <td>AG.AGR.TRAC.NO</td>\n      <td>23000.0</td>\n    </tr>\n    <tr>\n      <th>4</th>\n      <td>Nigeria</td>\n      <td>NGA</td>\n      <td>2003</td>\n      <td>Agricultural machinery, tractors</td>\n      <td>AG.AGR.TRAC.NO</td>\n      <td>22000.0</td>\n    </tr>\n  </tbody>\n</table>\n</div>"
     },
     "metadata": {},
     "execution_count": 5
    }
   ],
   "source": [
    "df.rename(columns={'country_iso3':'country iso code'},inplace=True)"
   ]
  },
  {
   "cell_type": "markdown",
   "metadata": {},
   "source": [
    "# Question 1\n",
    "\n",
    "Select data in your dataframe where the indicator name is;\n",
    "- \"Net bilateral aid flows from DAC donors, Australia (current US$) or\n",
    "- Net bilateral aid flows from DAC donors, United Kingdom or\n",
    "- Net bilateral aid flows from DAC donors, United States or \n",
    "- Net bilateral aid flows from DAC donors, European Union institutions\n",
    "\n",
    "Save this as western_dac_donors"
   ]
  },
  {
   "cell_type": "code",
   "execution_count": 84,
   "metadata": {},
   "outputs": [
    {
     "output_type": "execute_result",
     "data": {
      "text/plain": "     country_name country_iso3  year  \\\n1760      Nigeria          NGA  2017   \n1761      Nigeria          NGA  2016   \n1762      Nigeria          NGA  2015   \n1763      Nigeria          NGA  2014   \n1764      Nigeria          NGA  2013   \n\n                                         indicator_name  indicator_code  \\\n1760  Net bilateral aid flows from DAC donors, Austr...  DC.DAC.AUSL.CD   \n1761  Net bilateral aid flows from DAC donors, Austr...  DC.DAC.AUSL.CD   \n1762  Net bilateral aid flows from DAC donors, Austr...  DC.DAC.AUSL.CD   \n1763  Net bilateral aid flows from DAC donors, Austr...  DC.DAC.AUSL.CD   \n1764  Net bilateral aid flows from DAC donors, Austr...  DC.DAC.AUSL.CD   \n\n          value  \n1760  8780000.0  \n1761  1680000.0  \n1762  2090000.0  \n1763  2380000.0  \n1764  3670000.0  ",
      "text/html": "<div>\n<style scoped>\n    .dataframe tbody tr th:only-of-type {\n        vertical-align: middle;\n    }\n\n    .dataframe tbody tr th {\n        vertical-align: top;\n    }\n\n    .dataframe thead th {\n        text-align: right;\n    }\n</style>\n<table border=\"1\" class=\"dataframe\">\n  <thead>\n    <tr style=\"text-align: right;\">\n      <th></th>\n      <th>country_name</th>\n      <th>country_iso3</th>\n      <th>year</th>\n      <th>indicator_name</th>\n      <th>indicator_code</th>\n      <th>value</th>\n    </tr>\n  </thead>\n  <tbody>\n    <tr>\n      <th>1760</th>\n      <td>Nigeria</td>\n      <td>NGA</td>\n      <td>2017</td>\n      <td>Net bilateral aid flows from DAC donors, Austr...</td>\n      <td>DC.DAC.AUSL.CD</td>\n      <td>8780000.0</td>\n    </tr>\n    <tr>\n      <th>1761</th>\n      <td>Nigeria</td>\n      <td>NGA</td>\n      <td>2016</td>\n      <td>Net bilateral aid flows from DAC donors, Austr...</td>\n      <td>DC.DAC.AUSL.CD</td>\n      <td>1680000.0</td>\n    </tr>\n    <tr>\n      <th>1762</th>\n      <td>Nigeria</td>\n      <td>NGA</td>\n      <td>2015</td>\n      <td>Net bilateral aid flows from DAC donors, Austr...</td>\n      <td>DC.DAC.AUSL.CD</td>\n      <td>2090000.0</td>\n    </tr>\n    <tr>\n      <th>1763</th>\n      <td>Nigeria</td>\n      <td>NGA</td>\n      <td>2014</td>\n      <td>Net bilateral aid flows from DAC donors, Austr...</td>\n      <td>DC.DAC.AUSL.CD</td>\n      <td>2380000.0</td>\n    </tr>\n    <tr>\n      <th>1764</th>\n      <td>Nigeria</td>\n      <td>NGA</td>\n      <td>2013</td>\n      <td>Net bilateral aid flows from DAC donors, Austr...</td>\n      <td>DC.DAC.AUSL.CD</td>\n      <td>3670000.0</td>\n    </tr>\n  </tbody>\n</table>\n</div>"
     },
     "metadata": {},
     "execution_count": 84
    }
   ],
   "source": [
    "sort_para = df['indicator_name'].isin(['Net bilateral aid flows from DAC donors, Australia (current US$)'])|df['indicator_name'].isin(['Net bilateral aid flows from DAC donors, United Kingdom (current US$)'])|df['indicator_name'].isin(['Net bilateral aid flows from DAC donors, United States (current US$)'])|df['indicator_name'].isin(['Net bilateral aid flows from DAC donors, European Union institutions (current US$)'])\n",
    "western_dac_donors = df[sort_para] \n",
    "western_dac_donors.head()"
   ]
  },
  {
   "cell_type": "code",
   "execution_count": 87,
   "metadata": {
    "tags": []
   },
   "outputs": [
    {
     "output_type": "stream",
     "name": "stdout",
     "text": "country_name country_iso3  year  \\\n1760      Nigeria          NGA  2017   \n1761      Nigeria          NGA  2016   \n1762      Nigeria          NGA  2015   \n1763      Nigeria          NGA  2014   \n1764      Nigeria          NGA  2013   \n\n                                         indicator_name  indicator_code  \\\n1760  Net bilateral aid flows from DAC donors, Austr...  DC.DAC.AUSL.CD   \n1761  Net bilateral aid flows from DAC donors, Austr...  DC.DAC.AUSL.CD   \n1762  Net bilateral aid flows from DAC donors, Austr...  DC.DAC.AUSL.CD   \n1763  Net bilateral aid flows from DAC donors, Austr...  DC.DAC.AUSL.CD   \n1764  Net bilateral aid flows from DAC donors, Austr...  DC.DAC.AUSL.CD   \n\n          value  \n1760  8780000.0  \n1761  1680000.0  \n1762  2090000.0  \n1763  2380000.0  \n1764  3670000.0  \n"
    }
   ],
   "source": [
    "print(western_dac_donors.head())"
   ]
  },
  {
   "cell_type": "code",
   "execution_count": 26,
   "metadata": {},
   "outputs": [
    {
     "output_type": "execute_result",
     "data": {
      "text/plain": "array(['Agricultural machinery, tractors',\n       'Fertilizer consumption (% of fertilizer production)',\n       'Fertilizer consumption (kilograms per hectare of arable land)',\n       'Agricultural land (sq. km)', 'Agricultural land (% of land area)',\n       'Arable land (hectares)', 'Arable land (hectares per person)',\n       'Arable land (% of land area)',\n       'Land under cereal production (hectares)',\n       'Permanent cropland (% of land area)',\n       'Rural land area where elevation is below 5 meters (sq. km)',\n       'Rural land area where elevation is below 5 meters (% of total land area)',\n       'Forest area (sq. km)', 'Forest area (% of land area)',\n       'Agricultural irrigated land (% of total agricultural land)',\n       'Average precipitation in depth (mm per year)',\n       'Land area (sq. km)', 'Rural land area (sq. km)',\n       'Agricultural machinery, tractors per 100 sq. km of arable land',\n       'Cereal production (metric tons)',\n       'Crop production index (2004-2006 = 100)',\n       'Food production index (2004-2006 = 100)',\n       'Livestock production index (2004-2006 = 100)',\n       'Surface area (sq. km)', 'Cereal yield (kg per hectare)',\n       'Access to electricity, rural (% of rural population)',\n       'Agricultural methane emissions (thousand metric tons of CO2 equivalent)',\n       'Agricultural methane emissions (% of total)',\n       'Agricultural nitrous oxide emissions (thousand metric tons of CO2 equivalent)',\n       'Agricultural nitrous oxide emissions (% of total)',\n       'Rural population living in areas where elevation is below 5 meters (% of total population)',\n       'Annual freshwater withdrawals, agriculture (% of total freshwater withdrawal)',\n       'Agriculture, forestry, and fishing, value added (current US$)',\n       'Agriculture, forestry, and fishing, value added (% of GDP)',\n       'Rural poverty gap at national poverty lines (%)',\n       'Rural poverty headcount ratio at national poverty lines (% of rural population)',\n       'Employment in agriculture, female (% of female employment) (modeled ILO estimate)',\n       'Employment in agriculture, male (% of male employment) (modeled ILO estimate)',\n       'Employment in agriculture (% of total employment) (modeled ILO estimate)',\n       'Rural population', 'Rural population growth (annual %)',\n       'Rural population (% of total population)',\n       'Agricultural raw materials imports (% of merchandise imports)',\n       'Agricultural raw materials exports (% of merchandise exports)',\n       'Economically active population in agriculture (number)',\n       'Grants, excluding technical cooperation (BoP, current US$)',\n       'Technical cooperation grants (BoP, current US$)',\n       'Net bilateral aid flows from DAC donors, Australia (current US$)',\n       'Net bilateral aid flows from DAC donors, Austria (current US$)',\n       'Net bilateral aid flows from DAC donors, Belgium (current US$)',\n       'Net bilateral aid flows from DAC donors, Canada (current US$)',\n       'Net bilateral aid flows from DAC donors, European Union institutions (current US$)',\n       'Net bilateral aid flows from DAC donors, Switzerland (current US$)',\n       'Net bilateral aid flows from DAC donors, Czech Republic (current US$)',\n       'Net bilateral aid flows from DAC donors, Germany (current US$)',\n       'Net bilateral aid flows from DAC donors, Denmark (current US$)',\n       'Net bilateral aid flows from DAC donors, Spain (current US$)',\n       'Net bilateral aid flows from DAC donors, Finland (current US$)',\n       'Net bilateral aid flows from DAC donors, France (current US$)',\n       'Net bilateral aid flows from DAC donors, United Kingdom (current US$)',\n       'Net bilateral aid flows from DAC donors, Greece (current US$)',\n       'Net bilateral aid flows from DAC donors, Ireland (current US$)',\n       'Net bilateral aid flows from DAC donors, Italy (current US$)',\n       'Net bilateral aid flows from DAC donors, Japan (current US$)',\n       'Net bilateral aid flows from DAC donors, Korea, Rep. (current US$)',\n       'Net bilateral aid flows from DAC donors, Luxembourg (current US$)',\n       'Net bilateral aid flows from DAC donors, Netherlands (current US$)',\n       'Net bilateral aid flows from DAC donors, Norway (current US$)',\n       'Net bilateral aid flows from DAC donors, New Zealand (current US$)',\n       'Net bilateral aid flows from DAC donors, Poland (current US$)',\n       'Net bilateral aid flows from DAC donors, Portugal (current US$)',\n       'Net bilateral aid flows from DAC donors, Slovak Republic (current US$)',\n       'Net bilateral aid flows from DAC donors, Slovenia (current US$)',\n       'Net bilateral aid flows from DAC donors, Sweden (current US$)',\n       'Net bilateral aid flows from DAC donors, Total (current US$)',\n       'Net bilateral aid flows from DAC donors, United States (current US$)',\n       'Net official flows from UN agencies, FAO (current US$)',\n       'Net official flows from UN agencies, IAEA (current US$)',\n       'Net official flows from UN agencies, IFAD (current US$)',\n       'Net official flows from UN agencies, ILO (current US$)',\n       'Net official flows from UN agencies, UNAIDS (current US$)',\n       'Net official flows from UN agencies, UNICEF (current US$)',\n       'Net official flows from UN agencies, UNHCR (current US$)',\n       'Net official flows from UN agencies, UNDP (current US$)',\n       'Net official flows from UN agencies, UNFPA (current US$)',\n       'Net official flows from UN agencies, UNTA (current US$)',\n       'Net official flows from UN agencies, WFP (current US$)',\n       'Net official flows from UN agencies, WHO (current US$)',\n       'Net official development assistance and official aid received (current US$)',\n       'Net official development assistance and official aid received (constant 2015 US$)',\n       'Net official development assistance received (current US$)',\n       'Net ODA received (% of gross capital formation)',\n       'Net ODA received (% of GNI)',\n       'Net official development assistance received (constant 2015 US$)',\n       'Net ODA received (% of imports of goods, services and primary income)',\n       'Net ODA received per capita (current US$)',\n       'School enrollment, primary and secondary (gross), gender parity index (GPI)',\n       'Primary completion rate, total (% of relevant age group)',\n       'Prevalence of HIV, total (% of population ages 15-49)',\n       'Mortality rate, under-5 (per 1,000 live births)',\n       'Pregnant women receiving prenatal care (%)',\n       'Maternal mortality ratio (modeled estimate, per 100,000 live births)',\n       'Prevalence of stunting, height for age (% of children under 5)',\n       'Incidence of tuberculosis (per 100,000 people)',\n       'Income share held by lowest 20%',\n       'Poverty headcount ratio at $1.90 a day (2011 PPP) (% of population)',\n       'Vulnerable employment, total (% of total employment) (modeled ILO estimate)',\n       'Net migration', 'IDA grants (current US$)',\n       'Debt forgiveness grants (current US$)',\n       'Trade in services (% of GDP)',\n       'Communications, computer, etc. (% of service imports, BoP)',\n       'Primary income payments (BoP, current US$)',\n       'Imports of goods and services (BoP, current US$)',\n       'Insurance and financial services (% of service imports, BoP)',\n       'Goods imports (BoP, current US$)',\n       'Service imports (BoP, current US$)',\n       'Charges for the use of intellectual property, payments (BoP, current US$)',\n       'Imports of goods, services and primary income (BoP, current US$)',\n       'Transport services (% of service imports, BoP)',\n       'Travel services (% of service imports, BoP)',\n       'Foreign direct investment, net outflows (BoP, current US$)',\n       'Foreign direct investment, net outflows (% of GDP)',\n       'Secondary income, other sectors, payments (BoP, current US$)',\n       'Personal remittances, paid (current US$)',\n       'Current account balance (BoP, current US$)',\n       'Current account balance (% of GDP)',\n       'Net financial account (BoP, current US$)',\n       'Net primary income (BoP, current US$)',\n       'Net trade in goods and services (BoP, current US$)',\n       'Net trade in goods (BoP, current US$)',\n       'Net errors and omissions (BoP, current US$)',\n       'Foreign direct investment, net (BoP, current US$)',\n       'Portfolio investment, net (BoP, current US$)',\n       'Reserves and related items (BoP, current US$)',\n       'Net secondary income (BoP, current US$)',\n       'Net capital account (BoP, current US$)'], dtype=object)"
     },
     "metadata": {},
     "execution_count": 26
    }
   ],
   "source": [
    "df['indicator_name'].unique()"
   ]
  },
  {
   "cell_type": "markdown",
   "metadata": {},
   "source": [
    "# Question 2\n",
    "\n",
    "Great, now select the rows where the indicator_name relates to Net official flows from UN agencies, save this subset as un_agencies_donor"
   ]
  },
  {
   "cell_type": "code",
   "execution_count": 39,
   "metadata": {},
   "outputs": [
    {
     "output_type": "execute_result",
     "data": {
      "text/plain": "array(['Net official flows from UN agencies, FAO (current US$)',\n       'Net official flows from UN agencies, IAEA (current US$)',\n       'Net official flows from UN agencies, IFAD (current US$)',\n       'Net official flows from UN agencies, ILO (current US$)',\n       'Net official flows from UN agencies, UNAIDS (current US$)',\n       'Net official flows from UN agencies, UNICEF (current US$)',\n       'Net official flows from UN agencies, UNHCR (current US$)',\n       'Net official flows from UN agencies, UNDP (current US$)',\n       'Net official flows from UN agencies, UNFPA (current US$)',\n       'Net official flows from UN agencies, UNTA (current US$)',\n       'Net official flows from UN agencies, WFP (current US$)',\n       'Net official flows from UN agencies, WHO (current US$)'],\n      dtype=object)"
     },
     "metadata": {},
     "execution_count": 39
    }
   ],
   "source": [
    "# un_sort_param = df['indicator_name'].isin(['Net official flows from UN agencies, FAO (current US$)'])|df['indicator_name'].isin(['Net official flows from UN agencies, IAEA (current US$)'])|df['indicator_name'].isin(['Net official flows from UN agencies, IFAD (current US$)'])|df['indicator_name'].isin(['Net official flows from UN agencies, ILO (current US$)'])|df['indicator_name'].isin(['Net official flows from UN agencies, UNAIDS (current US$)'])|df['indicator_name'].isin(['Net official flows from UN agencies, UNICEF (current US$)'])|df['indicator_name'].isin(['Net official flows from UN agencies, UNDP (current US$)'])|df['indicator_name'].isin(['Net official flows from UN agencies, UNFPA (current US$)'])|df['indicator_name'].isin(['Net official flows from UN agencies, UNHCR (current US$)'])|df['indicator_name'].isin(['Net official flows from UN agencies, UNTA (current US$)'])|df['indicator_name'].isin(['Net official flows from UN agencies, WFP (current US$)'])|df['indicator_name'].isin(['Net official flows from UN agencies, WHO (current US$)'])\n",
    "\n",
    "un_sort_param = df['indicator_name'].isin([\n",
    "'Net official flows from UN agencies, FAO (current US$)',\n",
    "'Net official flows from UN agencies, IAEA (current US$)',\n",
    "'Net official flows from UN agencies, IFAD (current US$)',\n",
    "'Net official flows from UN agencies, ILO (current US$)',\n",
    "'Net official flows from UN agencies, UNAIDS (current US$)',\n",
    "'Net official flows from UN agencies, UNICEF (current US$)',\n",
    "'Net official flows from UN agencies, UNDP (current US$)',\n",
    "'Net official flows from UN agencies, UNFPA (current US$)',\n",
    "'Net official flows from UN agencies, UNHCR (current US$)',\n",
    "'Net official flows from UN agencies, UNTA (current US$)',\n",
    "'Net official flows from UN agencies, WFP (current US$)',\n",
    "'Net official flows from UN agencies, WHO (current US$)'])\n",
    "\n",
    "un_agencies_donor = df[un_sort_param]\n",
    "un_agencies_donor['indicator_name'].unique()\n",
    "\n",
    "\n"
   ]
  },
  {
   "cell_type": "markdown",
   "metadata": {},
   "source": [
    "# Question 3\n",
    "\n",
    "Select all the rows in un_agencies_donor where the year is greater than or equal to 2015, sort these rows by <strong>value</strong> in descending order ie. starting with the largest value"
   ]
  },
  {
   "cell_type": "code",
   "execution_count": 51,
   "metadata": {},
   "outputs": [
    {
     "output_type": "execute_result",
     "data": {
      "text/plain": "(27, 6)"
     },
     "metadata": {},
     "execution_count": 51
    }
   ],
   "source": [
    "# un_agencies_donor.head(5)\n",
    "year_sort_param = un_agencies_donor['year'].isin([2015,2016,2017,2018,2019])\n",
    "year_sort = un_agencies_donor[year_sort_param]\n",
    "year_sort_by_cols = year_sort.sort_values(by='year',ascending=False)\n",
    "year_sort_by_cols.shape"
   ]
  },
  {
   "cell_type": "code",
   "execution_count": 58,
   "metadata": {},
   "outputs": [
    {
     "output_type": "execute_result",
     "data": {
      "text/plain": "     country_name country_iso3  year  \\\n2895      Nigeria          NGA  2017   \n3040      Nigeria          NGA  2017   \n2907      Nigeria          NGA  2017   \n3181      Nigeria          NGA  2017   \n2936      Nigeria          NGA  2017   \n3169      Nigeria          NGA  2017   \n2942      Nigeria          NGA  2017   \n3090      Nigeria          NGA  2017   \n2955      Nigeria          NGA  2017   \n3182      Nigeria          NGA  2016   \n3170      Nigeria          NGA  2016   \n3091      Nigeria          NGA  2016   \n3041      Nigeria          NGA  2016   \n2956      Nigeria          NGA  2016   \n2896      Nigeria          NGA  2016   \n2943      Nigeria          NGA  2016   \n2937      Nigeria          NGA  2016   \n2908      Nigeria          NGA  2016   \n2957      Nigeria          NGA  2015   \n3003      Nigeria          NGA  2015   \n2944      Nigeria          NGA  2015   \n3042      Nigeria          NGA  2015   \n2938      Nigeria          NGA  2015   \n3092      Nigeria          NGA  2015   \n2909      Nigeria          NGA  2015   \n2897      Nigeria          NGA  2015   \n3183      Nigeria          NGA  2015   \n\n                                         indicator_name  indicator_code  \\\n2895  Net official flows from UN agencies, IAEA (cur...  DT.NFL.IAEA.CD   \n3040  Net official flows from UN agencies, UNDP (cur...  DT.NFL.UNDP.CD   \n2907  Net official flows from UN agencies, IFAD (cur...  DT.NFL.IFAD.CD   \n3181  Net official flows from UN agencies, WHO (curr...  DT.NFL.WHOL.CD   \n2936  Net official flows from UN agencies, ILO (curr...  DT.NFL.ILOG.CD   \n3169  Net official flows from UN agencies, WFP (curr...  DT.NFL.WFPG.CD   \n2942  Net official flows from UN agencies, UNAIDS (c...  DT.NFL.UNAI.CD   \n3090  Net official flows from UN agencies, UNFPA (cu...  DT.NFL.UNFP.CD   \n2955  Net official flows from UN agencies, UNICEF (c...  DT.NFL.UNCF.CD   \n3182  Net official flows from UN agencies, WHO (curr...  DT.NFL.WHOL.CD   \n3170  Net official flows from UN agencies, WFP (curr...  DT.NFL.WFPG.CD   \n3091  Net official flows from UN agencies, UNFPA (cu...  DT.NFL.UNFP.CD   \n3041  Net official flows from UN agencies, UNDP (cur...  DT.NFL.UNDP.CD   \n2956  Net official flows from UN agencies, UNICEF (c...  DT.NFL.UNCF.CD   \n2896  Net official flows from UN agencies, IAEA (cur...  DT.NFL.IAEA.CD   \n2943  Net official flows from UN agencies, UNAIDS (c...  DT.NFL.UNAI.CD   \n2937  Net official flows from UN agencies, ILO (curr...  DT.NFL.ILOG.CD   \n2908  Net official flows from UN agencies, IFAD (cur...  DT.NFL.IFAD.CD   \n2957  Net official flows from UN agencies, UNICEF (c...  DT.NFL.UNCF.CD   \n3003  Net official flows from UN agencies, UNHCR (cu...  DT.NFL.UNCR.CD   \n2944  Net official flows from UN agencies, UNAIDS (c...  DT.NFL.UNAI.CD   \n3042  Net official flows from UN agencies, UNDP (cur...  DT.NFL.UNDP.CD   \n2938  Net official flows from UN agencies, ILO (curr...  DT.NFL.ILOG.CD   \n3092  Net official flows from UN agencies, UNFPA (cu...  DT.NFL.UNFP.CD   \n2909  Net official flows from UN agencies, IFAD (cur...  DT.NFL.IFAD.CD   \n2897  Net official flows from UN agencies, IAEA (cur...  DT.NFL.IAEA.CD   \n3183  Net official flows from UN agencies, WHO (curr...  DT.NFL.WHOL.CD   \n\n           value  \n2895    470000.0  \n3040   5240000.0  \n2907  30840000.0  \n3181   4510000.0  \n2936    670000.0  \n3169  18510000.0  \n2942   2220000.0  \n3090   6100000.0  \n2955  55020000.0  \n3182   2670000.0  \n3170   1390000.0  \n3091   5970000.0  \n3041   9690000.0  \n2956  57920000.0  \n2896    510000.0  \n2943   2390000.0  \n2937    520000.0  \n2908  19600000.0  \n2957  48950000.0  \n3003   1390000.0  \n2944   2640000.0  \n3042   9860000.0  \n2938    580000.0  \n3092   7400000.0  \n2909  10980000.0  \n2897    400000.0  \n3183   5770000.0  ",
      "text/html": "<div>\n<style scoped>\n    .dataframe tbody tr th:only-of-type {\n        vertical-align: middle;\n    }\n\n    .dataframe tbody tr th {\n        vertical-align: top;\n    }\n\n    .dataframe thead th {\n        text-align: right;\n    }\n</style>\n<table border=\"1\" class=\"dataframe\">\n  <thead>\n    <tr style=\"text-align: right;\">\n      <th></th>\n      <th>country_name</th>\n      <th>country_iso3</th>\n      <th>year</th>\n      <th>indicator_name</th>\n      <th>indicator_code</th>\n      <th>value</th>\n    </tr>\n  </thead>\n  <tbody>\n    <tr>\n      <th>2895</th>\n      <td>Nigeria</td>\n      <td>NGA</td>\n      <td>2017</td>\n      <td>Net official flows from UN agencies, IAEA (cur...</td>\n      <td>DT.NFL.IAEA.CD</td>\n      <td>470000.0</td>\n    </tr>\n    <tr>\n      <th>3040</th>\n      <td>Nigeria</td>\n      <td>NGA</td>\n      <td>2017</td>\n      <td>Net official flows from UN agencies, UNDP (cur...</td>\n      <td>DT.NFL.UNDP.CD</td>\n      <td>5240000.0</td>\n    </tr>\n    <tr>\n      <th>2907</th>\n      <td>Nigeria</td>\n      <td>NGA</td>\n      <td>2017</td>\n      <td>Net official flows from UN agencies, IFAD (cur...</td>\n      <td>DT.NFL.IFAD.CD</td>\n      <td>30840000.0</td>\n    </tr>\n    <tr>\n      <th>3181</th>\n      <td>Nigeria</td>\n      <td>NGA</td>\n      <td>2017</td>\n      <td>Net official flows from UN agencies, WHO (curr...</td>\n      <td>DT.NFL.WHOL.CD</td>\n      <td>4510000.0</td>\n    </tr>\n    <tr>\n      <th>2936</th>\n      <td>Nigeria</td>\n      <td>NGA</td>\n      <td>2017</td>\n      <td>Net official flows from UN agencies, ILO (curr...</td>\n      <td>DT.NFL.ILOG.CD</td>\n      <td>670000.0</td>\n    </tr>\n    <tr>\n      <th>3169</th>\n      <td>Nigeria</td>\n      <td>NGA</td>\n      <td>2017</td>\n      <td>Net official flows from UN agencies, WFP (curr...</td>\n      <td>DT.NFL.WFPG.CD</td>\n      <td>18510000.0</td>\n    </tr>\n    <tr>\n      <th>2942</th>\n      <td>Nigeria</td>\n      <td>NGA</td>\n      <td>2017</td>\n      <td>Net official flows from UN agencies, UNAIDS (c...</td>\n      <td>DT.NFL.UNAI.CD</td>\n      <td>2220000.0</td>\n    </tr>\n    <tr>\n      <th>3090</th>\n      <td>Nigeria</td>\n      <td>NGA</td>\n      <td>2017</td>\n      <td>Net official flows from UN agencies, UNFPA (cu...</td>\n      <td>DT.NFL.UNFP.CD</td>\n      <td>6100000.0</td>\n    </tr>\n    <tr>\n      <th>2955</th>\n      <td>Nigeria</td>\n      <td>NGA</td>\n      <td>2017</td>\n      <td>Net official flows from UN agencies, UNICEF (c...</td>\n      <td>DT.NFL.UNCF.CD</td>\n      <td>55020000.0</td>\n    </tr>\n    <tr>\n      <th>3182</th>\n      <td>Nigeria</td>\n      <td>NGA</td>\n      <td>2016</td>\n      <td>Net official flows from UN agencies, WHO (curr...</td>\n      <td>DT.NFL.WHOL.CD</td>\n      <td>2670000.0</td>\n    </tr>\n    <tr>\n      <th>3170</th>\n      <td>Nigeria</td>\n      <td>NGA</td>\n      <td>2016</td>\n      <td>Net official flows from UN agencies, WFP (curr...</td>\n      <td>DT.NFL.WFPG.CD</td>\n      <td>1390000.0</td>\n    </tr>\n    <tr>\n      <th>3091</th>\n      <td>Nigeria</td>\n      <td>NGA</td>\n      <td>2016</td>\n      <td>Net official flows from UN agencies, UNFPA (cu...</td>\n      <td>DT.NFL.UNFP.CD</td>\n      <td>5970000.0</td>\n    </tr>\n    <tr>\n      <th>3041</th>\n      <td>Nigeria</td>\n      <td>NGA</td>\n      <td>2016</td>\n      <td>Net official flows from UN agencies, UNDP (cur...</td>\n      <td>DT.NFL.UNDP.CD</td>\n      <td>9690000.0</td>\n    </tr>\n    <tr>\n      <th>2956</th>\n      <td>Nigeria</td>\n      <td>NGA</td>\n      <td>2016</td>\n      <td>Net official flows from UN agencies, UNICEF (c...</td>\n      <td>DT.NFL.UNCF.CD</td>\n      <td>57920000.0</td>\n    </tr>\n    <tr>\n      <th>2896</th>\n      <td>Nigeria</td>\n      <td>NGA</td>\n      <td>2016</td>\n      <td>Net official flows from UN agencies, IAEA (cur...</td>\n      <td>DT.NFL.IAEA.CD</td>\n      <td>510000.0</td>\n    </tr>\n    <tr>\n      <th>2943</th>\n      <td>Nigeria</td>\n      <td>NGA</td>\n      <td>2016</td>\n      <td>Net official flows from UN agencies, UNAIDS (c...</td>\n      <td>DT.NFL.UNAI.CD</td>\n      <td>2390000.0</td>\n    </tr>\n    <tr>\n      <th>2937</th>\n      <td>Nigeria</td>\n      <td>NGA</td>\n      <td>2016</td>\n      <td>Net official flows from UN agencies, ILO (curr...</td>\n      <td>DT.NFL.ILOG.CD</td>\n      <td>520000.0</td>\n    </tr>\n    <tr>\n      <th>2908</th>\n      <td>Nigeria</td>\n      <td>NGA</td>\n      <td>2016</td>\n      <td>Net official flows from UN agencies, IFAD (cur...</td>\n      <td>DT.NFL.IFAD.CD</td>\n      <td>19600000.0</td>\n    </tr>\n    <tr>\n      <th>2957</th>\n      <td>Nigeria</td>\n      <td>NGA</td>\n      <td>2015</td>\n      <td>Net official flows from UN agencies, UNICEF (c...</td>\n      <td>DT.NFL.UNCF.CD</td>\n      <td>48950000.0</td>\n    </tr>\n    <tr>\n      <th>3003</th>\n      <td>Nigeria</td>\n      <td>NGA</td>\n      <td>2015</td>\n      <td>Net official flows from UN agencies, UNHCR (cu...</td>\n      <td>DT.NFL.UNCR.CD</td>\n      <td>1390000.0</td>\n    </tr>\n    <tr>\n      <th>2944</th>\n      <td>Nigeria</td>\n      <td>NGA</td>\n      <td>2015</td>\n      <td>Net official flows from UN agencies, UNAIDS (c...</td>\n      <td>DT.NFL.UNAI.CD</td>\n      <td>2640000.0</td>\n    </tr>\n    <tr>\n      <th>3042</th>\n      <td>Nigeria</td>\n      <td>NGA</td>\n      <td>2015</td>\n      <td>Net official flows from UN agencies, UNDP (cur...</td>\n      <td>DT.NFL.UNDP.CD</td>\n      <td>9860000.0</td>\n    </tr>\n    <tr>\n      <th>2938</th>\n      <td>Nigeria</td>\n      <td>NGA</td>\n      <td>2015</td>\n      <td>Net official flows from UN agencies, ILO (curr...</td>\n      <td>DT.NFL.ILOG.CD</td>\n      <td>580000.0</td>\n    </tr>\n    <tr>\n      <th>3092</th>\n      <td>Nigeria</td>\n      <td>NGA</td>\n      <td>2015</td>\n      <td>Net official flows from UN agencies, UNFPA (cu...</td>\n      <td>DT.NFL.UNFP.CD</td>\n      <td>7400000.0</td>\n    </tr>\n    <tr>\n      <th>2909</th>\n      <td>Nigeria</td>\n      <td>NGA</td>\n      <td>2015</td>\n      <td>Net official flows from UN agencies, IFAD (cur...</td>\n      <td>DT.NFL.IFAD.CD</td>\n      <td>10980000.0</td>\n    </tr>\n    <tr>\n      <th>2897</th>\n      <td>Nigeria</td>\n      <td>NGA</td>\n      <td>2015</td>\n      <td>Net official flows from UN agencies, IAEA (cur...</td>\n      <td>DT.NFL.IAEA.CD</td>\n      <td>400000.0</td>\n    </tr>\n    <tr>\n      <th>3183</th>\n      <td>Nigeria</td>\n      <td>NGA</td>\n      <td>2015</td>\n      <td>Net official flows from UN agencies, WHO (curr...</td>\n      <td>DT.NFL.WHOL.CD</td>\n      <td>5770000.0</td>\n    </tr>\n  </tbody>\n</table>\n</div>"
     },
     "metadata": {},
     "execution_count": 58
    }
   ],
   "source": [
    "#method 2 \n",
    "# un_sort_param_2 = df['indicator_name'].isin([\n",
    "# 'Net official flows from UN agencies, FAO (current US$)',\n",
    "# 'Net official flows from UN agencies, IAEA (current US$)',\n",
    "# 'Net official flows from UN agencies, IFAD (current US$)',\n",
    "# 'Net official flows from UN agencies, ILO (current US$)',\n",
    "# 'Net official flows from UN agencies, UNAIDS (current US$)',\n",
    "# 'Net official flows from UN agencies, UNICEF (current US$)',\n",
    "# 'Net official flows from UN agencies, UNDP (current US$)',\n",
    "# 'Net official flows from UN agencies, UNFPA (current US$)',\n",
    "# 'Net official flows from UN agencies, UNHCR (current US$)',\n",
    "# 'Net official flows from UN agencies, UNTA (current US$)',\n",
    "# 'Net official flows from UN agencies, WFP (current US$)',\n",
    "# 'Net official flows from UN agencies, WHO (current US$)'])&df['year'].isin([2015,2016,2017,2018,2019])\n",
    "\n",
    "# new_sort = df[un_sort_param_2]\n",
    "# new_sort_cols = new_sort.sort_values(by='year',ascending=False)\n",
    "# new_sort_cols"
   ]
  },
  {
   "cell_type": "markdown",
   "metadata": {},
   "source": [
    "# Question 4\n",
    "How much money did Nigeria receive from \n",
    "- i.) WHO in 2016 and 2017\n",
    "- ii.) bilateral aid flows from DAC donor, United Kingdom in 2016 and 2017"
   ]
  },
  {
   "cell_type": "code",
   "execution_count": 71,
   "metadata": {},
   "outputs": [
    {
     "output_type": "execute_result",
     "data": {
      "text/plain": "7180000.0"
     },
     "metadata": {},
     "execution_count": 71
    }
   ],
   "source": [
    "# year_sort_by_cols['value'].sum()\n",
    "\n",
    "WHO_sort_param = df['indicator_name'].isin(['Net official flows from UN agencies, WHO (current US$)'])&df['year'].isin([2016,2017])\n",
    "WHO_sort = df[WHO_sort_param]\n",
    "WHO_sum = WHO_sort['value'].sum()\n",
    "WHO_sum"
   ]
  },
  {
   "cell_type": "code",
   "execution_count": 72,
   "metadata": {},
   "outputs": [
    {
     "output_type": "execute_result",
     "data": {
      "text/plain": "852610000.0"
     },
     "metadata": {},
     "execution_count": 72
    }
   ],
   "source": [
    "UK_sort_param = df['indicator_name'].isin(['Net bilateral aid flows from DAC donors, United Kingdom (current US$)'])&df['year'].isin([2016,2017])\n",
    "UK_sort = df[UK_sort_param]\n",
    "UK_sum = UK_sort['value'].sum()\n",
    "UK_sum"
   ]
  },
  {
   "cell_type": "markdown",
   "metadata": {},
   "source": [
    "# Question 5\n",
    "\n",
    "- i.) Calculate the mean value of all net official flows from UN agencies in 2016\n",
    "- ii.) Calculate the median value of all net official flows from UN agencies in 2016"
   ]
  },
  {
   "cell_type": "code",
   "execution_count": 78,
   "metadata": {
    "tags": []
   },
   "outputs": [],
   "source": [
    "un_agencies_donor_sort_param = un_agencies_donor['year'].isin([2016])\n",
    "un_agencies_donor_sort = un_agencies_donor[un_agencies_donor_sort_param]"
   ]
  },
  {
   "cell_type": "code",
   "execution_count": 83,
   "metadata": {},
   "outputs": [
    {
     "output_type": "execute_result",
     "data": {
      "text/plain": "(11184444.444444444, 2670000.0)"
     },
     "metadata": {},
     "execution_count": 83
    }
   ],
   "source": [
    "UN_mean = un_agencies_donor_sort['value'].mean()\n",
    "UN_median = un_agencies_donor_sort['value'].median()\n",
    "UN_mean, UN_median"
   ]
  }
 ],
 "metadata": {
  "kernelspec": {
   "display_name": "Python 3",
   "language": "python",
   "name": "python3"
  },
  "language_info": {
   "codemirror_mode": {
    "name": "ipython",
    "version": 3
   },
   "file_extension": ".py",
   "mimetype": "text/x-python",
   "name": "python",
   "nbconvert_exporter": "python",
   "pygments_lexer": "ipython3",
   "version": "3.7.2-final"
  }
 },
 "nbformat": 4,
 "nbformat_minor": 2
}