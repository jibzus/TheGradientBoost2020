{
 "cells": [
  {
   "cell_type": "code",
   "execution_count": 4,
   "metadata": {},
   "outputs": [
    {
     "output_type": "execute_result",
     "data": {
      "text/plain": "<bound method NDFrame.head of      country_name country_iso3  ...     indicator_code         value\n0         Nigeria          NGA  ...     AG.AGR.TRAC.NO  2.480000e+04\n1         Nigeria          NGA  ...     AG.AGR.TRAC.NO  2.399900e+04\n2         Nigeria          NGA  ...     AG.AGR.TRAC.NO  2.300000e+04\n3         Nigeria          NGA  ...     AG.AGR.TRAC.NO  2.300000e+04\n4         Nigeria          NGA  ...     AG.AGR.TRAC.NO  2.200000e+04\n...           ...          ...  ...                ...           ...\n4995      Nigeria          NGA  ...  BX.GRT.EXTA.CD.WD  1.304920e+09\n4996      Nigeria          NGA  ...  BX.GRT.EXTA.CD.WD  1.138818e+10\n4997      Nigeria          NGA  ...  BX.GRT.EXTA.CD.WD  5.840000e+09\n4998      Nigeria          NGA  ...  BX.GRT.EXTA.CD.WD  1.651300e+08\n4999      Nigeria          NGA  ...  BX.GRT.EXTA.CD.WD  1.148600e+08\n\n[5000 rows x 6 columns]>"
     },
     "metadata": {},
     "execution_count": 4
    }
   ],
   "source": [
    "import numpy as np\n",
    "import pandas as pd \n",
    "file = pd.read_csv('/Users/ejire/Desktop/combined_indicators_for_nigeria_2.csv')\n",
    "file.head\n"
   ]
  },
  {
   "cell_type": "code",
   "execution_count": 5,
   "metadata": {},
   "outputs": [
    {
     "output_type": "execute_result",
     "data": {
      "text/plain": "(5000, 6)"
     },
     "metadata": {},
     "execution_count": 5
    }
   ],
   "source": [
    "file.shape"
   ]
  },
  {
   "cell_type": "code",
   "execution_count": 6,
   "metadata": {},
   "outputs": [
    {
     "output_type": "execute_result",
     "data": {
      "text/plain": "Index(['country_name', 'country_iso3', 'year', 'indicator_name',\n       'indicator_code', 'value'],\n      dtype='object')"
     },
     "metadata": {},
     "execution_count": 6
    }
   ],
   "source": [
    "file.columns"
   ]
  },
  {
   "cell_type": "code",
   "execution_count": 7,
   "metadata": {},
   "outputs": [
    {
     "output_type": "execute_result",
     "data": {
      "text/plain": "  country_name country_iso3  ...  indicator_code    value\n0      Nigeria          NGA  ...  AG.AGR.TRAC.NO  24800.0\n1      Nigeria          NGA  ...  AG.AGR.TRAC.NO  23999.0\n2      Nigeria          NGA  ...  AG.AGR.TRAC.NO  23000.0\n3      Nigeria          NGA  ...  AG.AGR.TRAC.NO  23000.0\n4      Nigeria          NGA  ...  AG.AGR.TRAC.NO  22000.0\n\n[5 rows x 6 columns]",
      "text/html": "<div>\n<style scoped>\n    .dataframe tbody tr th:only-of-type {\n        vertical-align: middle;\n    }\n\n    .dataframe tbody tr th {\n        vertical-align: top;\n    }\n\n    .dataframe thead th {\n        text-align: right;\n    }\n</style>\n<table border=\"1\" class=\"dataframe\">\n  <thead>\n    <tr style=\"text-align: right;\">\n      <th></th>\n      <th>country_name</th>\n      <th>country_iso3</th>\n      <th>year</th>\n      <th>indicator_name</th>\n      <th>indicator_code</th>\n      <th>value</th>\n    </tr>\n  </thead>\n  <tbody>\n    <tr>\n      <th>0</th>\n      <td>Nigeria</td>\n      <td>NGA</td>\n      <td>2007</td>\n      <td>Agricultural machinery, tractors</td>\n      <td>AG.AGR.TRAC.NO</td>\n      <td>24800.0</td>\n    </tr>\n    <tr>\n      <th>1</th>\n      <td>Nigeria</td>\n      <td>NGA</td>\n      <td>2006</td>\n      <td>Agricultural machinery, tractors</td>\n      <td>AG.AGR.TRAC.NO</td>\n      <td>23999.0</td>\n    </tr>\n    <tr>\n      <th>2</th>\n      <td>Nigeria</td>\n      <td>NGA</td>\n      <td>2005</td>\n      <td>Agricultural machinery, tractors</td>\n      <td>AG.AGR.TRAC.NO</td>\n      <td>23000.0</td>\n    </tr>\n    <tr>\n      <th>3</th>\n      <td>Nigeria</td>\n      <td>NGA</td>\n      <td>2004</td>\n      <td>Agricultural machinery, tractors</td>\n      <td>AG.AGR.TRAC.NO</td>\n      <td>23000.0</td>\n    </tr>\n    <tr>\n      <th>4</th>\n      <td>Nigeria</td>\n      <td>NGA</td>\n      <td>2003</td>\n      <td>Agricultural machinery, tractors</td>\n      <td>AG.AGR.TRAC.NO</td>\n      <td>22000.0</td>\n    </tr>\n  </tbody>\n</table>\n</div>"
     },
     "metadata": {},
     "execution_count": 7
    }
   ],
   "source": [
    "file.head(5)"
   ]
  },
  {
   "cell_type": "code",
   "execution_count": 8,
   "metadata": {},
   "outputs": [
    {
     "output_type": "execute_result",
     "data": {
      "text/plain": "  country_name country code(iso3)  ...  indicator_code    value\n0      Nigeria                NGA  ...  AG.AGR.TRAC.NO  24800.0\n1      Nigeria                NGA  ...  AG.AGR.TRAC.NO  23999.0\n2      Nigeria                NGA  ...  AG.AGR.TRAC.NO  23000.0\n3      Nigeria                NGA  ...  AG.AGR.TRAC.NO  23000.0\n4      Nigeria                NGA  ...  AG.AGR.TRAC.NO  22000.0\n\n[5 rows x 6 columns]",
      "text/html": "<div>\n<style scoped>\n    .dataframe tbody tr th:only-of-type {\n        vertical-align: middle;\n    }\n\n    .dataframe tbody tr th {\n        vertical-align: top;\n    }\n\n    .dataframe thead th {\n        text-align: right;\n    }\n</style>\n<table border=\"1\" class=\"dataframe\">\n  <thead>\n    <tr style=\"text-align: right;\">\n      <th></th>\n      <th>country_name</th>\n      <th>country code(iso3)</th>\n      <th>year</th>\n      <th>indicator_name</th>\n      <th>indicator_code</th>\n      <th>value</th>\n    </tr>\n  </thead>\n  <tbody>\n    <tr>\n      <th>0</th>\n      <td>Nigeria</td>\n      <td>NGA</td>\n      <td>2007</td>\n      <td>Agricultural machinery, tractors</td>\n      <td>AG.AGR.TRAC.NO</td>\n      <td>24800.0</td>\n    </tr>\n    <tr>\n      <th>1</th>\n      <td>Nigeria</td>\n      <td>NGA</td>\n      <td>2006</td>\n      <td>Agricultural machinery, tractors</td>\n      <td>AG.AGR.TRAC.NO</td>\n      <td>23999.0</td>\n    </tr>\n    <tr>\n      <th>2</th>\n      <td>Nigeria</td>\n      <td>NGA</td>\n      <td>2005</td>\n      <td>Agricultural machinery, tractors</td>\n      <td>AG.AGR.TRAC.NO</td>\n      <td>23000.0</td>\n    </tr>\n    <tr>\n      <th>3</th>\n      <td>Nigeria</td>\n      <td>NGA</td>\n      <td>2004</td>\n      <td>Agricultural machinery, tractors</td>\n      <td>AG.AGR.TRAC.NO</td>\n      <td>23000.0</td>\n    </tr>\n    <tr>\n      <th>4</th>\n      <td>Nigeria</td>\n      <td>NGA</td>\n      <td>2003</td>\n      <td>Agricultural machinery, tractors</td>\n      <td>AG.AGR.TRAC.NO</td>\n      <td>22000.0</td>\n    </tr>\n  </tbody>\n</table>\n</div>"
     },
     "metadata": {},
     "execution_count": 8
    }
   ],
   "source": [
    "file.rename(columns={'country_iso3': 'country code(iso3)'}, inplace=True)\n",
    "file.head()"
   ]
  },
  {
   "cell_type": "code",
   "execution_count": 9,
   "metadata": {},
   "outputs": [
    {
     "output_type": "execute_result",
     "data": {
      "text/plain": "  country_name country code(iso3)  ...  indicator_code    value\n0      Nigeria                NGA  ...  AG.AGR.TRAC.NO  24800.0\n1      Nigeria                NGA  ...  AG.AGR.TRAC.NO  23999.0\n2      Nigeria                NGA  ...  AG.AGR.TRAC.NO  23000.0\n3      Nigeria                NGA  ...  AG.AGR.TRAC.NO  23000.0\n4      Nigeria                NGA  ...  AG.AGR.TRAC.NO  22000.0\n\n[5 rows x 6 columns]",
      "text/html": "<div>\n<style scoped>\n    .dataframe tbody tr th:only-of-type {\n        vertical-align: middle;\n    }\n\n    .dataframe tbody tr th {\n        vertical-align: top;\n    }\n\n    .dataframe thead th {\n        text-align: right;\n    }\n</style>\n<table border=\"1\" class=\"dataframe\">\n  <thead>\n    <tr style=\"text-align: right;\">\n      <th></th>\n      <th>country_name</th>\n      <th>country code(iso3)</th>\n      <th>year</th>\n      <th>Indicator Tags</th>\n      <th>indicator_code</th>\n      <th>value</th>\n    </tr>\n  </thead>\n  <tbody>\n    <tr>\n      <th>0</th>\n      <td>Nigeria</td>\n      <td>NGA</td>\n      <td>2007</td>\n      <td>Agricultural machinery, tractors</td>\n      <td>AG.AGR.TRAC.NO</td>\n      <td>24800.0</td>\n    </tr>\n    <tr>\n      <th>1</th>\n      <td>Nigeria</td>\n      <td>NGA</td>\n      <td>2006</td>\n      <td>Agricultural machinery, tractors</td>\n      <td>AG.AGR.TRAC.NO</td>\n      <td>23999.0</td>\n    </tr>\n    <tr>\n      <th>2</th>\n      <td>Nigeria</td>\n      <td>NGA</td>\n      <td>2005</td>\n      <td>Agricultural machinery, tractors</td>\n      <td>AG.AGR.TRAC.NO</td>\n      <td>23000.0</td>\n    </tr>\n    <tr>\n      <th>3</th>\n      <td>Nigeria</td>\n      <td>NGA</td>\n      <td>2004</td>\n      <td>Agricultural machinery, tractors</td>\n      <td>AG.AGR.TRAC.NO</td>\n      <td>23000.0</td>\n    </tr>\n    <tr>\n      <th>4</th>\n      <td>Nigeria</td>\n      <td>NGA</td>\n      <td>2003</td>\n      <td>Agricultural machinery, tractors</td>\n      <td>AG.AGR.TRAC.NO</td>\n      <td>22000.0</td>\n    </tr>\n  </tbody>\n</table>\n</div>"
     },
     "metadata": {},
     "execution_count": 9
    }
   ],
   "source": [
    "file.rename(columns={'indicator_name': 'Indicator Tags'}, inplace=True)\n",
    "file.head()"
   ]
  },
  {
   "cell_type": "code",
   "execution_count": 10,
   "metadata": {},
   "outputs": [
    {
     "output_type": "execute_result",
     "data": {
      "text/plain": "1322439603.309291"
     },
     "metadata": {},
     "execution_count": 10
    }
   ],
   "source": [
    "file.value.mean()"
   ]
  },
  {
   "cell_type": "code",
   "execution_count": 11,
   "metadata": {},
   "outputs": [
    {
     "output_type": "execute_result",
     "data": {
      "text/plain": "-26734880186.1829"
     },
     "metadata": {},
     "execution_count": 11
    }
   ],
   "source": [
    "file.value.min()"
   ]
  },
  {
   "cell_type": "code",
   "execution_count": 12,
   "metadata": {},
   "outputs": [
    {
     "output_type": "execute_result",
     "data": {
      "text/plain": "114473909728.746"
     },
     "metadata": {},
     "execution_count": 12
    }
   ],
   "source": [
    "file.value.max()"
   ]
  },
  {
   "cell_type": "code",
   "execution_count": 20,
   "metadata": {},
   "outputs": [
    {
     "output_type": "execute_result",
     "data": {
      "text/plain": "<bound method NDFrame.head of 0                        Agricultural machinery, tractors\n1                        Agricultural machinery, tractors\n2                        Agricultural machinery, tractors\n3                        Agricultural machinery, tractors\n4                        Agricultural machinery, tractors\n                              ...                        \n4995    Grants, excluding technical cooperation (BoP, ...\n4996    Grants, excluding technical cooperation (BoP, ...\n4997    Grants, excluding technical cooperation (BoP, ...\n4998    Grants, excluding technical cooperation (BoP, ...\n4999    Grants, excluding technical cooperation (BoP, ...\nName: Indicator Tags, Length: 5000, dtype: object>"
     },
     "metadata": {},
     "execution_count": 20
    }
   ],
   "source": [
    "sulice = file['Indicator Tags']\n",
    "sulice.head"
   ]
  },
  {
   "cell_type": "code",
   "execution_count": 23,
   "metadata": {},
   "outputs": [],
   "source": [
    "feelter = file[file['Indicator Tags'].eq('Income share held by lowest 20%')]"
   ]
  },
  {
   "cell_type": "code",
   "execution_count": 24,
   "metadata": {},
   "outputs": [
    {
     "output_type": "execute_result",
     "data": {
      "text/plain": "(5, 6)"
     },
     "metadata": {},
     "execution_count": 24
    }
   ],
   "source": [
    "feelter.shape"
   ]
  },
  {
   "cell_type": "code",
   "execution_count": 27,
   "metadata": {},
   "outputs": [
    {
     "output_type": "execute_result",
     "data": {
      "text/plain": "array(['Agricultural machinery, tractors',\n       'Fertilizer consumption (% of fertilizer production)',\n       'Fertilizer consumption (kilograms per hectare of arable land)',\n       'Agricultural land (sq. km)', 'Agricultural land (% of land area)',\n       'Arable land (hectares)', 'Arable land (hectares per person)',\n       'Arable land (% of land area)',\n       'Land under cereal production (hectares)',\n       'Permanent cropland (% of land area)',\n       'Rural land area where elevation is below 5 meters (sq. km)',\n       'Rural land area where elevation is below 5 meters (% of total land area)',\n       'Forest area (sq. km)', 'Forest area (% of land area)',\n       'Agricultural irrigated land (% of total agricultural land)',\n       'Average precipitation in depth (mm per year)',\n       'Land area (sq. km)', 'Rural land area (sq. km)',\n       'Agricultural machinery, tractors per 100 sq. km of arable land',\n       'Cereal production (metric tons)',\n       'Crop production index (2004-2006 = 100)',\n       'Food production index (2004-2006 = 100)',\n       'Livestock production index (2004-2006 = 100)',\n       'Surface area (sq. km)', 'Cereal yield (kg per hectare)',\n       'Access to electricity, rural (% of rural population)',\n       'Agricultural methane emissions (thousand metric tons of CO2 equivalent)',\n       'Agricultural methane emissions (% of total)',\n       'Agricultural nitrous oxide emissions (thousand metric tons of CO2 equivalent)',\n       'Agricultural nitrous oxide emissions (% of total)',\n       'Rural population living in areas where elevation is below 5 meters (% of total population)',\n       'Annual freshwater withdrawals, agriculture (% of total freshwater withdrawal)',\n       'Agriculture, forestry, and fishing, value added (current US$)',\n       'Agriculture, forestry, and fishing, value added (% of GDP)',\n       'Rural poverty gap at national poverty lines (%)',\n       'Rural poverty headcount ratio at national poverty lines (% of rural population)',\n       'Employment in agriculture, female (% of female employment) (modeled ILO estimate)',\n       'Employment in agriculture, male (% of male employment) (modeled ILO estimate)',\n       'Employment in agriculture (% of total employment) (modeled ILO estimate)',\n       'Rural population', 'Rural population growth (annual %)',\n       'Rural population (% of total population)',\n       'Agricultural raw materials imports (% of merchandise imports)',\n       'Agricultural raw materials exports (% of merchandise exports)',\n       'Economically active population in agriculture (number)',\n       'Grants, excluding technical cooperation (BoP, current US$)',\n       'Technical cooperation grants (BoP, current US$)',\n       'Net bilateral aid flows from DAC donors, Australia (current US$)',\n       'Net bilateral aid flows from DAC donors, Austria (current US$)',\n       'Net bilateral aid flows from DAC donors, Belgium (current US$)',\n       'Net bilateral aid flows from DAC donors, Canada (current US$)',\n       'Net bilateral aid flows from DAC donors, European Union institutions (current US$)',\n       'Net bilateral aid flows from DAC donors, Switzerland (current US$)',\n       'Net bilateral aid flows from DAC donors, Czech Republic (current US$)',\n       'Net bilateral aid flows from DAC donors, Germany (current US$)',\n       'Net bilateral aid flows from DAC donors, Denmark (current US$)',\n       'Net bilateral aid flows from DAC donors, Spain (current US$)',\n       'Net bilateral aid flows from DAC donors, Finland (current US$)',\n       'Net bilateral aid flows from DAC donors, France (current US$)',\n       'Net bilateral aid flows from DAC donors, United Kingdom (current US$)',\n       'Net bilateral aid flows from DAC donors, Greece (current US$)',\n       'Net bilateral aid flows from DAC donors, Ireland (current US$)',\n       'Net bilateral aid flows from DAC donors, Italy (current US$)',\n       'Net bilateral aid flows from DAC donors, Japan (current US$)',\n       'Net bilateral aid flows from DAC donors, Korea, Rep. (current US$)',\n       'Net bilateral aid flows from DAC donors, Luxembourg (current US$)',\n       'Net bilateral aid flows from DAC donors, Netherlands (current US$)',\n       'Net bilateral aid flows from DAC donors, Norway (current US$)',\n       'Net bilateral aid flows from DAC donors, New Zealand (current US$)',\n       'Net bilateral aid flows from DAC donors, Poland (current US$)',\n       'Net bilateral aid flows from DAC donors, Portugal (current US$)',\n       'Net bilateral aid flows from DAC donors, Slovak Republic (current US$)',\n       'Net bilateral aid flows from DAC donors, Slovenia (current US$)',\n       'Net bilateral aid flows from DAC donors, Sweden (current US$)',\n       'Net bilateral aid flows from DAC donors, Total (current US$)',\n       'Net bilateral aid flows from DAC donors, United States (current US$)',\n       'Net official flows from UN agencies, FAO (current US$)',\n       'Net official flows from UN agencies, IAEA (current US$)',\n       'Net official flows from UN agencies, IFAD (current US$)',\n       'Net official flows from UN agencies, ILO (current US$)',\n       'Net official flows from UN agencies, UNAIDS (current US$)',\n       'Net official flows from UN agencies, UNICEF (current US$)',\n       'Net official flows from UN agencies, UNHCR (current US$)',\n       'Net official flows from UN agencies, UNDP (current US$)',\n       'Net official flows from UN agencies, UNFPA (current US$)',\n       'Net official flows from UN agencies, UNTA (current US$)',\n       'Net official flows from UN agencies, WFP (current US$)',\n       'Net official flows from UN agencies, WHO (current US$)',\n       'Net official development assistance and official aid received (current US$)',\n       'Net official development assistance and official aid received (constant 2015 US$)',\n       'Net official development assistance received (current US$)',\n       'Net ODA received (% of gross capital formation)',\n       'Net ODA received (% of GNI)',\n       'Net official development assistance received (constant 2015 US$)',\n       'Net ODA received (% of imports of goods, services and primary income)',\n       'Net ODA received per capita (current US$)',\n       'School enrollment, primary and secondary (gross), gender parity index (GPI)',\n       'Primary completion rate, total (% of relevant age group)',\n       'Prevalence of HIV, total (% of population ages 15-49)',\n       'Mortality rate, under-5 (per 1,000 live births)',\n       'Pregnant women receiving prenatal care (%)',\n       'Maternal mortality ratio (modeled estimate, per 100,000 live births)',\n       'Prevalence of stunting, height for age (% of children under 5)',\n       'Incidence of tuberculosis (per 100,000 people)',\n       'Income share held by lowest 20%',\n       'Poverty headcount ratio at $1.90 a day (2011 PPP) (% of population)',\n       'Vulnerable employment, total (% of total employment) (modeled ILO estimate)',\n       'Net migration', 'IDA grants (current US$)',\n       'Debt forgiveness grants (current US$)',\n       'Trade in services (% of GDP)',\n       'Communications, computer, etc. (% of service imports, BoP)',\n       'Primary income payments (BoP, current US$)',\n       'Imports of goods and services (BoP, current US$)',\n       'Insurance and financial services (% of service imports, BoP)',\n       'Goods imports (BoP, current US$)',\n       'Service imports (BoP, current US$)',\n       'Charges for the use of intellectual property, payments (BoP, current US$)',\n       'Imports of goods, services and primary income (BoP, current US$)',\n       'Transport services (% of service imports, BoP)',\n       'Travel services (% of service imports, BoP)',\n       'Foreign direct investment, net outflows (BoP, current US$)',\n       'Foreign direct investment, net outflows (% of GDP)',\n       'Secondary income, other sectors, payments (BoP, current US$)',\n       'Personal remittances, paid (current US$)',\n       'Current account balance (BoP, current US$)',\n       'Current account balance (% of GDP)',\n       'Net financial account (BoP, current US$)',\n       'Net primary income (BoP, current US$)',\n       'Net trade in goods and services (BoP, current US$)',\n       'Net trade in goods (BoP, current US$)',\n       'Net errors and omissions (BoP, current US$)',\n       'Foreign direct investment, net (BoP, current US$)',\n       'Portfolio investment, net (BoP, current US$)',\n       'Reserves and related items (BoP, current US$)',\n       'Net secondary income (BoP, current US$)',\n       'Net capital account (BoP, current US$)'], dtype=object)"
     },
     "metadata": {},
     "execution_count": 27
    }
   ],
   "source": [
    "#learn the different unique indicator tags \n",
    "file['Indicator Tags'].unique()"
   ]
  },
  {
   "cell_type": "code",
   "execution_count": 29,
   "metadata": {},
   "outputs": [
    {
     "output_type": "execute_result",
     "data": {
      "text/plain": "     country_name country code(iso3)  ...  indicator_code  value\n3775      Nigeria                NGA  ...     SH.TBS.INCD  219.0\n3776      Nigeria                NGA  ...     SH.TBS.INCD  219.0\n3777      Nigeria                NGA  ...     SH.TBS.INCD  219.0\n3778      Nigeria                NGA  ...     SH.TBS.INCD  219.0\n3779      Nigeria                NGA  ...     SH.TBS.INCD  219.0\n3780      Nigeria                NGA  ...     SH.TBS.INCD  219.0\n3781      Nigeria                NGA  ...     SH.TBS.INCD  219.0\n3782      Nigeria                NGA  ...     SH.TBS.INCD  219.0\n3783      Nigeria                NGA  ...     SH.TBS.INCD  219.0\n3784      Nigeria                NGA  ...     SH.TBS.INCD  219.0\n3785      Nigeria                NGA  ...     SH.TBS.INCD  219.0\n3786      Nigeria                NGA  ...     SH.TBS.INCD  219.0\n3787      Nigeria                NGA  ...     SH.TBS.INCD  219.0\n3788      Nigeria                NGA  ...     SH.TBS.INCD  219.0\n3789      Nigeria                NGA  ...     SH.TBS.INCD  219.0\n3790      Nigeria                NGA  ...     SH.TBS.INCD  219.0\n3791      Nigeria                NGA  ...     SH.TBS.INCD  219.0\n3792      Nigeria                NGA  ...     SH.TBS.INCD  219.0\n3798      Nigeria                NGA  ...     SI.POV.DDAY   53.5\n3799      Nigeria                NGA  ...     SI.POV.DDAY   53.5\n3800      Nigeria                NGA  ...     SI.POV.DDAY   63.5\n3801      Nigeria                NGA  ...     SI.POV.DDAY   57.1\n3802      Nigeria                NGA  ...     SI.POV.DDAY   53.3\n\n[23 rows x 6 columns]",
      "text/html": "<div>\n<style scoped>\n    .dataframe tbody tr th:only-of-type {\n        vertical-align: middle;\n    }\n\n    .dataframe tbody tr th {\n        vertical-align: top;\n    }\n\n    .dataframe thead th {\n        text-align: right;\n    }\n</style>\n<table border=\"1\" class=\"dataframe\">\n  <thead>\n    <tr style=\"text-align: right;\">\n      <th></th>\n      <th>country_name</th>\n      <th>country code(iso3)</th>\n      <th>year</th>\n      <th>Indicator Tags</th>\n      <th>indicator_code</th>\n      <th>value</th>\n    </tr>\n  </thead>\n  <tbody>\n    <tr>\n      <th>3775</th>\n      <td>Nigeria</td>\n      <td>NGA</td>\n      <td>2017</td>\n      <td>Incidence of tuberculosis (per 100,000 people)</td>\n      <td>SH.TBS.INCD</td>\n      <td>219.0</td>\n    </tr>\n    <tr>\n      <th>3776</th>\n      <td>Nigeria</td>\n      <td>NGA</td>\n      <td>2016</td>\n      <td>Incidence of tuberculosis (per 100,000 people)</td>\n      <td>SH.TBS.INCD</td>\n      <td>219.0</td>\n    </tr>\n    <tr>\n      <th>3777</th>\n      <td>Nigeria</td>\n      <td>NGA</td>\n      <td>2015</td>\n      <td>Incidence of tuberculosis (per 100,000 people)</td>\n      <td>SH.TBS.INCD</td>\n      <td>219.0</td>\n    </tr>\n    <tr>\n      <th>3778</th>\n      <td>Nigeria</td>\n      <td>NGA</td>\n      <td>2014</td>\n      <td>Incidence of tuberculosis (per 100,000 people)</td>\n      <td>SH.TBS.INCD</td>\n      <td>219.0</td>\n    </tr>\n    <tr>\n      <th>3779</th>\n      <td>Nigeria</td>\n      <td>NGA</td>\n      <td>2013</td>\n      <td>Incidence of tuberculosis (per 100,000 people)</td>\n      <td>SH.TBS.INCD</td>\n      <td>219.0</td>\n    </tr>\n    <tr>\n      <th>3780</th>\n      <td>Nigeria</td>\n      <td>NGA</td>\n      <td>2012</td>\n      <td>Incidence of tuberculosis (per 100,000 people)</td>\n      <td>SH.TBS.INCD</td>\n      <td>219.0</td>\n    </tr>\n    <tr>\n      <th>3781</th>\n      <td>Nigeria</td>\n      <td>NGA</td>\n      <td>2011</td>\n      <td>Incidence of tuberculosis (per 100,000 people)</td>\n      <td>SH.TBS.INCD</td>\n      <td>219.0</td>\n    </tr>\n    <tr>\n      <th>3782</th>\n      <td>Nigeria</td>\n      <td>NGA</td>\n      <td>2010</td>\n      <td>Incidence of tuberculosis (per 100,000 people)</td>\n      <td>SH.TBS.INCD</td>\n      <td>219.0</td>\n    </tr>\n    <tr>\n      <th>3783</th>\n      <td>Nigeria</td>\n      <td>NGA</td>\n      <td>2009</td>\n      <td>Incidence of tuberculosis (per 100,000 people)</td>\n      <td>SH.TBS.INCD</td>\n      <td>219.0</td>\n    </tr>\n    <tr>\n      <th>3784</th>\n      <td>Nigeria</td>\n      <td>NGA</td>\n      <td>2008</td>\n      <td>Incidence of tuberculosis (per 100,000 people)</td>\n      <td>SH.TBS.INCD</td>\n      <td>219.0</td>\n    </tr>\n    <tr>\n      <th>3785</th>\n      <td>Nigeria</td>\n      <td>NGA</td>\n      <td>2007</td>\n      <td>Incidence of tuberculosis (per 100,000 people)</td>\n      <td>SH.TBS.INCD</td>\n      <td>219.0</td>\n    </tr>\n    <tr>\n      <th>3786</th>\n      <td>Nigeria</td>\n      <td>NGA</td>\n      <td>2006</td>\n      <td>Incidence of tuberculosis (per 100,000 people)</td>\n      <td>SH.TBS.INCD</td>\n      <td>219.0</td>\n    </tr>\n    <tr>\n      <th>3787</th>\n      <td>Nigeria</td>\n      <td>NGA</td>\n      <td>2005</td>\n      <td>Incidence of tuberculosis (per 100,000 people)</td>\n      <td>SH.TBS.INCD</td>\n      <td>219.0</td>\n    </tr>\n    <tr>\n      <th>3788</th>\n      <td>Nigeria</td>\n      <td>NGA</td>\n      <td>2004</td>\n      <td>Incidence of tuberculosis (per 100,000 people)</td>\n      <td>SH.TBS.INCD</td>\n      <td>219.0</td>\n    </tr>\n    <tr>\n      <th>3789</th>\n      <td>Nigeria</td>\n      <td>NGA</td>\n      <td>2003</td>\n      <td>Incidence of tuberculosis (per 100,000 people)</td>\n      <td>SH.TBS.INCD</td>\n      <td>219.0</td>\n    </tr>\n    <tr>\n      <th>3790</th>\n      <td>Nigeria</td>\n      <td>NGA</td>\n      <td>2002</td>\n      <td>Incidence of tuberculosis (per 100,000 people)</td>\n      <td>SH.TBS.INCD</td>\n      <td>219.0</td>\n    </tr>\n    <tr>\n      <th>3791</th>\n      <td>Nigeria</td>\n      <td>NGA</td>\n      <td>2001</td>\n      <td>Incidence of tuberculosis (per 100,000 people)</td>\n      <td>SH.TBS.INCD</td>\n      <td>219.0</td>\n    </tr>\n    <tr>\n      <th>3792</th>\n      <td>Nigeria</td>\n      <td>NGA</td>\n      <td>2000</td>\n      <td>Incidence of tuberculosis (per 100,000 people)</td>\n      <td>SH.TBS.INCD</td>\n      <td>219.0</td>\n    </tr>\n    <tr>\n      <th>3798</th>\n      <td>Nigeria</td>\n      <td>NGA</td>\n      <td>2009</td>\n      <td>Poverty headcount ratio at $1.90 a day (2011 P...</td>\n      <td>SI.POV.DDAY</td>\n      <td>53.5</td>\n    </tr>\n    <tr>\n      <th>3799</th>\n      <td>Nigeria</td>\n      <td>NGA</td>\n      <td>2003</td>\n      <td>Poverty headcount ratio at $1.90 a day (2011 P...</td>\n      <td>SI.POV.DDAY</td>\n      <td>53.5</td>\n    </tr>\n    <tr>\n      <th>3800</th>\n      <td>Nigeria</td>\n      <td>NGA</td>\n      <td>1996</td>\n      <td>Poverty headcount ratio at $1.90 a day (2011 P...</td>\n      <td>SI.POV.DDAY</td>\n      <td>63.5</td>\n    </tr>\n    <tr>\n      <th>3801</th>\n      <td>Nigeria</td>\n      <td>NGA</td>\n      <td>1992</td>\n      <td>Poverty headcount ratio at $1.90 a day (2011 P...</td>\n      <td>SI.POV.DDAY</td>\n      <td>57.1</td>\n    </tr>\n    <tr>\n      <th>3802</th>\n      <td>Nigeria</td>\n      <td>NGA</td>\n      <td>1985</td>\n      <td>Poverty headcount ratio at $1.90 a day (2011 P...</td>\n      <td>SI.POV.DDAY</td>\n      <td>53.3</td>\n    </tr>\n  </tbody>\n</table>\n</div>"
     },
     "metadata": {},
     "execution_count": 29
    }
   ],
   "source": [
    "#let's look at poverty and health numbers \n",
    "\n",
    "poverty_and_health = file[file['Indicator Tags'].eq('Incidence of tuberculosis (per 100,000 people)')|file['Indicator Tags'].eq('Poverty headcount ratio at $1.90 a day (2011 PPP) (% of population)')]\n",
    "poverty_and_health.shape\n",
    "poverty_and_health"
   ]
  },
  {
   "cell_type": "code",
   "execution_count": 44,
   "metadata": {},
   "outputs": [
    {
     "output_type": "execute_result",
     "data": {
      "text/plain": "     country_name country code(iso3)  ...  indicator_code  value\n3775      Nigeria                NGA  ...     SH.TBS.INCD  219.0\n3776      Nigeria                NGA  ...     SH.TBS.INCD  219.0\n3777      Nigeria                NGA  ...     SH.TBS.INCD  219.0\n3778      Nigeria                NGA  ...     SH.TBS.INCD  219.0\n3779      Nigeria                NGA  ...     SH.TBS.INCD  219.0\n3780      Nigeria                NGA  ...     SH.TBS.INCD  219.0\n3781      Nigeria                NGA  ...     SH.TBS.INCD  219.0\n3782      Nigeria                NGA  ...     SH.TBS.INCD  219.0\n3783      Nigeria                NGA  ...     SH.TBS.INCD  219.0\n3784      Nigeria                NGA  ...     SH.TBS.INCD  219.0\n3785      Nigeria                NGA  ...     SH.TBS.INCD  219.0\n3786      Nigeria                NGA  ...     SH.TBS.INCD  219.0\n3787      Nigeria                NGA  ...     SH.TBS.INCD  219.0\n3788      Nigeria                NGA  ...     SH.TBS.INCD  219.0\n3789      Nigeria                NGA  ...     SH.TBS.INCD  219.0\n3790      Nigeria                NGA  ...     SH.TBS.INCD  219.0\n3791      Nigeria                NGA  ...     SH.TBS.INCD  219.0\n3792      Nigeria                NGA  ...     SH.TBS.INCD  219.0\n3798      Nigeria                NGA  ...     SI.POV.DDAY   53.5\n3799      Nigeria                NGA  ...     SI.POV.DDAY   53.5\n3800      Nigeria                NGA  ...     SI.POV.DDAY   63.5\n3801      Nigeria                NGA  ...     SI.POV.DDAY   57.1\n3802      Nigeria                NGA  ...     SI.POV.DDAY   53.3\n\n[23 rows x 6 columns]",
      "text/html": "<div>\n<style scoped>\n    .dataframe tbody tr th:only-of-type {\n        vertical-align: middle;\n    }\n\n    .dataframe tbody tr th {\n        vertical-align: top;\n    }\n\n    .dataframe thead th {\n        text-align: right;\n    }\n</style>\n<table border=\"1\" class=\"dataframe\">\n  <thead>\n    <tr style=\"text-align: right;\">\n      <th></th>\n      <th>country_name</th>\n      <th>country code(iso3)</th>\n      <th>year</th>\n      <th>Indicator Tags</th>\n      <th>indicator_code</th>\n      <th>value</th>\n    </tr>\n  </thead>\n  <tbody>\n    <tr>\n      <th>3775</th>\n      <td>Nigeria</td>\n      <td>NGA</td>\n      <td>2017</td>\n      <td>Incidence of tuberculosis (per 100,000 people)</td>\n      <td>SH.TBS.INCD</td>\n      <td>219.0</td>\n    </tr>\n    <tr>\n      <th>3776</th>\n      <td>Nigeria</td>\n      <td>NGA</td>\n      <td>2016</td>\n      <td>Incidence of tuberculosis (per 100,000 people)</td>\n      <td>SH.TBS.INCD</td>\n      <td>219.0</td>\n    </tr>\n    <tr>\n      <th>3777</th>\n      <td>Nigeria</td>\n      <td>NGA</td>\n      <td>2015</td>\n      <td>Incidence of tuberculosis (per 100,000 people)</td>\n      <td>SH.TBS.INCD</td>\n      <td>219.0</td>\n    </tr>\n    <tr>\n      <th>3778</th>\n      <td>Nigeria</td>\n      <td>NGA</td>\n      <td>2014</td>\n      <td>Incidence of tuberculosis (per 100,000 people)</td>\n      <td>SH.TBS.INCD</td>\n      <td>219.0</td>\n    </tr>\n    <tr>\n      <th>3779</th>\n      <td>Nigeria</td>\n      <td>NGA</td>\n      <td>2013</td>\n      <td>Incidence of tuberculosis (per 100,000 people)</td>\n      <td>SH.TBS.INCD</td>\n      <td>219.0</td>\n    </tr>\n    <tr>\n      <th>3780</th>\n      <td>Nigeria</td>\n      <td>NGA</td>\n      <td>2012</td>\n      <td>Incidence of tuberculosis (per 100,000 people)</td>\n      <td>SH.TBS.INCD</td>\n      <td>219.0</td>\n    </tr>\n    <tr>\n      <th>3781</th>\n      <td>Nigeria</td>\n      <td>NGA</td>\n      <td>2011</td>\n      <td>Incidence of tuberculosis (per 100,000 people)</td>\n      <td>SH.TBS.INCD</td>\n      <td>219.0</td>\n    </tr>\n    <tr>\n      <th>3782</th>\n      <td>Nigeria</td>\n      <td>NGA</td>\n      <td>2010</td>\n      <td>Incidence of tuberculosis (per 100,000 people)</td>\n      <td>SH.TBS.INCD</td>\n      <td>219.0</td>\n    </tr>\n    <tr>\n      <th>3783</th>\n      <td>Nigeria</td>\n      <td>NGA</td>\n      <td>2009</td>\n      <td>Incidence of tuberculosis (per 100,000 people)</td>\n      <td>SH.TBS.INCD</td>\n      <td>219.0</td>\n    </tr>\n    <tr>\n      <th>3784</th>\n      <td>Nigeria</td>\n      <td>NGA</td>\n      <td>2008</td>\n      <td>Incidence of tuberculosis (per 100,000 people)</td>\n      <td>SH.TBS.INCD</td>\n      <td>219.0</td>\n    </tr>\n    <tr>\n      <th>3785</th>\n      <td>Nigeria</td>\n      <td>NGA</td>\n      <td>2007</td>\n      <td>Incidence of tuberculosis (per 100,000 people)</td>\n      <td>SH.TBS.INCD</td>\n      <td>219.0</td>\n    </tr>\n    <tr>\n      <th>3786</th>\n      <td>Nigeria</td>\n      <td>NGA</td>\n      <td>2006</td>\n      <td>Incidence of tuberculosis (per 100,000 people)</td>\n      <td>SH.TBS.INCD</td>\n      <td>219.0</td>\n    </tr>\n    <tr>\n      <th>3787</th>\n      <td>Nigeria</td>\n      <td>NGA</td>\n      <td>2005</td>\n      <td>Incidence of tuberculosis (per 100,000 people)</td>\n      <td>SH.TBS.INCD</td>\n      <td>219.0</td>\n    </tr>\n    <tr>\n      <th>3788</th>\n      <td>Nigeria</td>\n      <td>NGA</td>\n      <td>2004</td>\n      <td>Incidence of tuberculosis (per 100,000 people)</td>\n      <td>SH.TBS.INCD</td>\n      <td>219.0</td>\n    </tr>\n    <tr>\n      <th>3789</th>\n      <td>Nigeria</td>\n      <td>NGA</td>\n      <td>2003</td>\n      <td>Incidence of tuberculosis (per 100,000 people)</td>\n      <td>SH.TBS.INCD</td>\n      <td>219.0</td>\n    </tr>\n    <tr>\n      <th>3790</th>\n      <td>Nigeria</td>\n      <td>NGA</td>\n      <td>2002</td>\n      <td>Incidence of tuberculosis (per 100,000 people)</td>\n      <td>SH.TBS.INCD</td>\n      <td>219.0</td>\n    </tr>\n    <tr>\n      <th>3791</th>\n      <td>Nigeria</td>\n      <td>NGA</td>\n      <td>2001</td>\n      <td>Incidence of tuberculosis (per 100,000 people)</td>\n      <td>SH.TBS.INCD</td>\n      <td>219.0</td>\n    </tr>\n    <tr>\n      <th>3792</th>\n      <td>Nigeria</td>\n      <td>NGA</td>\n      <td>2000</td>\n      <td>Incidence of tuberculosis (per 100,000 people)</td>\n      <td>SH.TBS.INCD</td>\n      <td>219.0</td>\n    </tr>\n    <tr>\n      <th>3798</th>\n      <td>Nigeria</td>\n      <td>NGA</td>\n      <td>2009</td>\n      <td>Poverty headcount ratio at $1.90 a day (2011 P...</td>\n      <td>SI.POV.DDAY</td>\n      <td>53.5</td>\n    </tr>\n    <tr>\n      <th>3799</th>\n      <td>Nigeria</td>\n      <td>NGA</td>\n      <td>2003</td>\n      <td>Poverty headcount ratio at $1.90 a day (2011 P...</td>\n      <td>SI.POV.DDAY</td>\n      <td>53.5</td>\n    </tr>\n    <tr>\n      <th>3800</th>\n      <td>Nigeria</td>\n      <td>NGA</td>\n      <td>1996</td>\n      <td>Poverty headcount ratio at $1.90 a day (2011 P...</td>\n      <td>SI.POV.DDAY</td>\n      <td>63.5</td>\n    </tr>\n    <tr>\n      <th>3801</th>\n      <td>Nigeria</td>\n      <td>NGA</td>\n      <td>1992</td>\n      <td>Poverty headcount ratio at $1.90 a day (2011 P...</td>\n      <td>SI.POV.DDAY</td>\n      <td>57.1</td>\n    </tr>\n    <tr>\n      <th>3802</th>\n      <td>Nigeria</td>\n      <td>NGA</td>\n      <td>1985</td>\n      <td>Poverty headcount ratio at $1.90 a day (2011 P...</td>\n      <td>SI.POV.DDAY</td>\n      <td>53.3</td>\n    </tr>\n  </tbody>\n</table>\n</div>"
     },
     "metadata": {},
     "execution_count": 44
    }
   ],
   "source": [
    "#ibid but without using the eq() function. Let's see if it works the same\n",
    "\n",
    "poverty_and_health = file[((file['Indicator Tags'] == 'Incidence of tuberculosis (per 100,000 people)')|(file['Indicator Tags'] == 'Poverty headcount ratio at $1.90 a day (2011 PPP) (% of population)'))]\n",
    "poverty_and_health.shape\n",
    "poverty_and_health\n",
    "\n",
    "# I had a bit of challenge here, and had to make sure that I had the grouped expressions on either side of the boolean in parentheses"
   ]
  },
  {
   "cell_type": "code",
   "execution_count": 46,
   "metadata": {},
   "outputs": [
    {
     "output_type": "execute_result",
     "data": {
      "text/plain": "     country_name country code(iso3)  ...  indicator_code  value\n3775      Nigeria                NGA  ...     SH.TBS.INCD  219.0\n3776      Nigeria                NGA  ...     SH.TBS.INCD  219.0\n3777      Nigeria                NGA  ...     SH.TBS.INCD  219.0\n3778      Nigeria                NGA  ...     SH.TBS.INCD  219.0\n3779      Nigeria                NGA  ...     SH.TBS.INCD  219.0\n3780      Nigeria                NGA  ...     SH.TBS.INCD  219.0\n3781      Nigeria                NGA  ...     SH.TBS.INCD  219.0\n3782      Nigeria                NGA  ...     SH.TBS.INCD  219.0\n3783      Nigeria                NGA  ...     SH.TBS.INCD  219.0\n3784      Nigeria                NGA  ...     SH.TBS.INCD  219.0\n3785      Nigeria                NGA  ...     SH.TBS.INCD  219.0\n3786      Nigeria                NGA  ...     SH.TBS.INCD  219.0\n3787      Nigeria                NGA  ...     SH.TBS.INCD  219.0\n3788      Nigeria                NGA  ...     SH.TBS.INCD  219.0\n3789      Nigeria                NGA  ...     SH.TBS.INCD  219.0\n3790      Nigeria                NGA  ...     SH.TBS.INCD  219.0\n3791      Nigeria                NGA  ...     SH.TBS.INCD  219.0\n3792      Nigeria                NGA  ...     SH.TBS.INCD  219.0\n3798      Nigeria                NGA  ...     SI.POV.DDAY   53.5\n3799      Nigeria                NGA  ...     SI.POV.DDAY   53.5\n3800      Nigeria                NGA  ...     SI.POV.DDAY   63.5\n3801      Nigeria                NGA  ...     SI.POV.DDAY   57.1\n3802      Nigeria                NGA  ...     SI.POV.DDAY   53.3\n\n[23 rows x 6 columns]",
      "text/html": "<div>\n<style scoped>\n    .dataframe tbody tr th:only-of-type {\n        vertical-align: middle;\n    }\n\n    .dataframe tbody tr th {\n        vertical-align: top;\n    }\n\n    .dataframe thead th {\n        text-align: right;\n    }\n</style>\n<table border=\"1\" class=\"dataframe\">\n  <thead>\n    <tr style=\"text-align: right;\">\n      <th></th>\n      <th>country_name</th>\n      <th>country code(iso3)</th>\n      <th>year</th>\n      <th>Indicator Tags</th>\n      <th>indicator_code</th>\n      <th>value</th>\n    </tr>\n  </thead>\n  <tbody>\n    <tr>\n      <th>3775</th>\n      <td>Nigeria</td>\n      <td>NGA</td>\n      <td>2017</td>\n      <td>Incidence of tuberculosis (per 100,000 people)</td>\n      <td>SH.TBS.INCD</td>\n      <td>219.0</td>\n    </tr>\n    <tr>\n      <th>3776</th>\n      <td>Nigeria</td>\n      <td>NGA</td>\n      <td>2016</td>\n      <td>Incidence of tuberculosis (per 100,000 people)</td>\n      <td>SH.TBS.INCD</td>\n      <td>219.0</td>\n    </tr>\n    <tr>\n      <th>3777</th>\n      <td>Nigeria</td>\n      <td>NGA</td>\n      <td>2015</td>\n      <td>Incidence of tuberculosis (per 100,000 people)</td>\n      <td>SH.TBS.INCD</td>\n      <td>219.0</td>\n    </tr>\n    <tr>\n      <th>3778</th>\n      <td>Nigeria</td>\n      <td>NGA</td>\n      <td>2014</td>\n      <td>Incidence of tuberculosis (per 100,000 people)</td>\n      <td>SH.TBS.INCD</td>\n      <td>219.0</td>\n    </tr>\n    <tr>\n      <th>3779</th>\n      <td>Nigeria</td>\n      <td>NGA</td>\n      <td>2013</td>\n      <td>Incidence of tuberculosis (per 100,000 people)</td>\n      <td>SH.TBS.INCD</td>\n      <td>219.0</td>\n    </tr>\n    <tr>\n      <th>3780</th>\n      <td>Nigeria</td>\n      <td>NGA</td>\n      <td>2012</td>\n      <td>Incidence of tuberculosis (per 100,000 people)</td>\n      <td>SH.TBS.INCD</td>\n      <td>219.0</td>\n    </tr>\n    <tr>\n      <th>3781</th>\n      <td>Nigeria</td>\n      <td>NGA</td>\n      <td>2011</td>\n      <td>Incidence of tuberculosis (per 100,000 people)</td>\n      <td>SH.TBS.INCD</td>\n      <td>219.0</td>\n    </tr>\n    <tr>\n      <th>3782</th>\n      <td>Nigeria</td>\n      <td>NGA</td>\n      <td>2010</td>\n      <td>Incidence of tuberculosis (per 100,000 people)</td>\n      <td>SH.TBS.INCD</td>\n      <td>219.0</td>\n    </tr>\n    <tr>\n      <th>3783</th>\n      <td>Nigeria</td>\n      <td>NGA</td>\n      <td>2009</td>\n      <td>Incidence of tuberculosis (per 100,000 people)</td>\n      <td>SH.TBS.INCD</td>\n      <td>219.0</td>\n    </tr>\n    <tr>\n      <th>3784</th>\n      <td>Nigeria</td>\n      <td>NGA</td>\n      <td>2008</td>\n      <td>Incidence of tuberculosis (per 100,000 people)</td>\n      <td>SH.TBS.INCD</td>\n      <td>219.0</td>\n    </tr>\n    <tr>\n      <th>3785</th>\n      <td>Nigeria</td>\n      <td>NGA</td>\n      <td>2007</td>\n      <td>Incidence of tuberculosis (per 100,000 people)</td>\n      <td>SH.TBS.INCD</td>\n      <td>219.0</td>\n    </tr>\n    <tr>\n      <th>3786</th>\n      <td>Nigeria</td>\n      <td>NGA</td>\n      <td>2006</td>\n      <td>Incidence of tuberculosis (per 100,000 people)</td>\n      <td>SH.TBS.INCD</td>\n      <td>219.0</td>\n    </tr>\n    <tr>\n      <th>3787</th>\n      <td>Nigeria</td>\n      <td>NGA</td>\n      <td>2005</td>\n      <td>Incidence of tuberculosis (per 100,000 people)</td>\n      <td>SH.TBS.INCD</td>\n      <td>219.0</td>\n    </tr>\n    <tr>\n      <th>3788</th>\n      <td>Nigeria</td>\n      <td>NGA</td>\n      <td>2004</td>\n      <td>Incidence of tuberculosis (per 100,000 people)</td>\n      <td>SH.TBS.INCD</td>\n      <td>219.0</td>\n    </tr>\n    <tr>\n      <th>3789</th>\n      <td>Nigeria</td>\n      <td>NGA</td>\n      <td>2003</td>\n      <td>Incidence of tuberculosis (per 100,000 people)</td>\n      <td>SH.TBS.INCD</td>\n      <td>219.0</td>\n    </tr>\n    <tr>\n      <th>3790</th>\n      <td>Nigeria</td>\n      <td>NGA</td>\n      <td>2002</td>\n      <td>Incidence of tuberculosis (per 100,000 people)</td>\n      <td>SH.TBS.INCD</td>\n      <td>219.0</td>\n    </tr>\n    <tr>\n      <th>3791</th>\n      <td>Nigeria</td>\n      <td>NGA</td>\n      <td>2001</td>\n      <td>Incidence of tuberculosis (per 100,000 people)</td>\n      <td>SH.TBS.INCD</td>\n      <td>219.0</td>\n    </tr>\n    <tr>\n      <th>3792</th>\n      <td>Nigeria</td>\n      <td>NGA</td>\n      <td>2000</td>\n      <td>Incidence of tuberculosis (per 100,000 people)</td>\n      <td>SH.TBS.INCD</td>\n      <td>219.0</td>\n    </tr>\n    <tr>\n      <th>3798</th>\n      <td>Nigeria</td>\n      <td>NGA</td>\n      <td>2009</td>\n      <td>Poverty headcount ratio at $1.90 a day (2011 P...</td>\n      <td>SI.POV.DDAY</td>\n      <td>53.5</td>\n    </tr>\n    <tr>\n      <th>3799</th>\n      <td>Nigeria</td>\n      <td>NGA</td>\n      <td>2003</td>\n      <td>Poverty headcount ratio at $1.90 a day (2011 P...</td>\n      <td>SI.POV.DDAY</td>\n      <td>53.5</td>\n    </tr>\n    <tr>\n      <th>3800</th>\n      <td>Nigeria</td>\n      <td>NGA</td>\n      <td>1996</td>\n      <td>Poverty headcount ratio at $1.90 a day (2011 P...</td>\n      <td>SI.POV.DDAY</td>\n      <td>63.5</td>\n    </tr>\n    <tr>\n      <th>3801</th>\n      <td>Nigeria</td>\n      <td>NGA</td>\n      <td>1992</td>\n      <td>Poverty headcount ratio at $1.90 a day (2011 P...</td>\n      <td>SI.POV.DDAY</td>\n      <td>57.1</td>\n    </tr>\n    <tr>\n      <th>3802</th>\n      <td>Nigeria</td>\n      <td>NGA</td>\n      <td>1985</td>\n      <td>Poverty headcount ratio at $1.90 a day (2011 P...</td>\n      <td>SI.POV.DDAY</td>\n      <td>53.3</td>\n    </tr>\n  </tbody>\n</table>\n</div>"
     },
     "metadata": {},
     "execution_count": 46
    }
   ],
   "source": [
    "#ibid but without using the eq() function and used 'isin()' function. Let's see if it works the same\n",
    "\n",
    "poverty_and_health = file[((file['Indicator Tags'] == 'Incidence of tuberculosis (per 100,000 people)')|(file['Indicator Tags'].isin(['Poverty headcount ratio at $1.90 a day (2011 PPP) (% of population)'])))]\n",
    "poverty_and_health.shape\n",
    "poverty_and_health\n",
    "\n",
    "# It worked, but I had to be careful about putting the tags I wanted to filter by, in a list. As a string throws up an error. "
   ]
  },
  {
   "cell_type": "code",
   "execution_count": 47,
   "metadata": {},
   "outputs": [
    {
     "output_type": "execute_result",
     "data": {
      "text/plain": "country_name                                   Nigeria\ncountry code(iso3)                                 NGA\nyear                                              2007\nIndicator Tags        Agricultural machinery, tractors\nindicator_code                          AG.AGR.TRAC.NO\nvalue                                            24800\nName: 0, dtype: object"
     },
     "metadata": {},
     "execution_count": 47
    }
   ],
   "source": [
    "#Transitioning to iloc now \n",
    "\n",
    "file.iloc[0]"
   ]
  },
  {
   "cell_type": "code",
   "execution_count": null,
   "metadata": {},
   "outputs": [],
   "source": []
  }
 ],
 "metadata": {
  "language_info": {
   "codemirror_mode": {
    "name": "ipython",
    "version": 3
   },
   "file_extension": ".py",
   "mimetype": "text/x-python",
   "name": "python",
   "nbconvert_exporter": "python",
   "pygments_lexer": "ipython3",
   "version": "3.7.2-final"
  },
  "orig_nbformat": 2,
  "kernelspec": {
   "name": "python3",
   "display_name": "Python 3"
  }
 },
 "nbformat": 4,
 "nbformat_minor": 2
}