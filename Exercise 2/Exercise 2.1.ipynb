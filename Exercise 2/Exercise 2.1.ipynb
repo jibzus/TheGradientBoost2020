{
 "cells": [
  {
   "cell_type": "code",
   "execution_count": 4,
   "metadata": {},
   "outputs": [
    {
     "output_type": "execute_result",
     "data": {
      "text/plain": "<bound method NDFrame.head of      country_name country_iso3  ...     indicator_code         value\n0         Nigeria          NGA  ...     AG.AGR.TRAC.NO  2.480000e+04\n1         Nigeria          NGA  ...     AG.AGR.TRAC.NO  2.399900e+04\n2         Nigeria          NGA  ...     AG.AGR.TRAC.NO  2.300000e+04\n3         Nigeria          NGA  ...     AG.AGR.TRAC.NO  2.300000e+04\n4         Nigeria          NGA  ...     AG.AGR.TRAC.NO  2.200000e+04\n...           ...          ...  ...                ...           ...\n4995      Nigeria          NGA  ...  BX.GRT.EXTA.CD.WD  1.304920e+09\n4996      Nigeria          NGA  ...  BX.GRT.EXTA.CD.WD  1.138818e+10\n4997      Nigeria          NGA  ...  BX.GRT.EXTA.CD.WD  5.840000e+09\n4998      Nigeria          NGA  ...  BX.GRT.EXTA.CD.WD  1.651300e+08\n4999      Nigeria          NGA  ...  BX.GRT.EXTA.CD.WD  1.148600e+08\n\n[5000 rows x 6 columns]>"
     },
     "metadata": {},
     "execution_count": 4
    }
   ],
   "source": [
    "import numpy as np\n",
    "import pandas as pd \n",
    "file = pd.read_csv('/Users/ejire/Desktop/combined_indicators_for_nigeria_2.csv')\n",
    "file.head\n"
   ]
  },
  {
   "cell_type": "code",
   "execution_count": 5,
   "metadata": {},
   "outputs": [
    {
     "output_type": "execute_result",
     "data": {
      "text/plain": "(5000, 6)"
     },
     "metadata": {},
     "execution_count": 5
    }
   ],
   "source": [
    "file.shape"
   ]
  },
  {
   "cell_type": "code",
   "execution_count": 6,
   "metadata": {},
   "outputs": [
    {
     "output_type": "execute_result",
     "data": {
      "text/plain": "Index(['country_name', 'country_iso3', 'year', 'indicator_name',\n       'indicator_code', 'value'],\n      dtype='object')"
     },
     "metadata": {},
     "execution_count": 6
    }
   ],
   "source": [
    "file.columns"
   ]
  },
  {
   "cell_type": "code",
   "execution_count": 7,
   "metadata": {},
   "outputs": [
    {
     "output_type": "execute_result",
     "data": {
      "text/plain": "  country_name country_iso3  ...  indicator_code    value\n0      Nigeria          NGA  ...  AG.AGR.TRAC.NO  24800.0\n1      Nigeria          NGA  ...  AG.AGR.TRAC.NO  23999.0\n2      Nigeria          NGA  ...  AG.AGR.TRAC.NO  23000.0\n3      Nigeria          NGA  ...  AG.AGR.TRAC.NO  23000.0\n4      Nigeria          NGA  ...  AG.AGR.TRAC.NO  22000.0\n\n[5 rows x 6 columns]",
      "text/html": "<div>\n<style scoped>\n    .dataframe tbody tr th:only-of-type {\n        vertical-align: middle;\n    }\n\n    .dataframe tbody tr th {\n        vertical-align: top;\n    }\n\n    .dataframe thead th {\n        text-align: right;\n    }\n</style>\n<table border=\"1\" class=\"dataframe\">\n  <thead>\n    <tr style=\"text-align: right;\">\n      <th></th>\n      <th>country_name</th>\n      <th>country_iso3</th>\n      <th>year</th>\n      <th>indicator_name</th>\n      <th>indicator_code</th>\n      <th>value</th>\n    </tr>\n  </thead>\n  <tbody>\n    <tr>\n      <th>0</th>\n      <td>Nigeria</td>\n      <td>NGA</td>\n      <td>2007</td>\n      <td>Agricultural machinery, tractors</td>\n      <td>AG.AGR.TRAC.NO</td>\n      <td>24800.0</td>\n    </tr>\n    <tr>\n      <th>1</th>\n      <td>Nigeria</td>\n      <td>NGA</td>\n      <td>2006</td>\n      <td>Agricultural machinery, tractors</td>\n      <td>AG.AGR.TRAC.NO</td>\n      <td>23999.0</td>\n    </tr>\n    <tr>\n      <th>2</th>\n      <td>Nigeria</td>\n      <td>NGA</td>\n      <td>2005</td>\n      <td>Agricultural machinery, tractors</td>\n      <td>AG.AGR.TRAC.NO</td>\n      <td>23000.0</td>\n    </tr>\n    <tr>\n      <th>3</th>\n      <td>Nigeria</td>\n      <td>NGA</td>\n      <td>2004</td>\n      <td>Agricultural machinery, tractors</td>\n      <td>AG.AGR.TRAC.NO</td>\n      <td>23000.0</td>\n    </tr>\n    <tr>\n      <th>4</th>\n      <td>Nigeria</td>\n      <td>NGA</td>\n      <td>2003</td>\n      <td>Agricultural machinery, tractors</td>\n      <td>AG.AGR.TRAC.NO</td>\n      <td>22000.0</td>\n    </tr>\n  </tbody>\n</table>\n</div>"
     },
     "metadata": {},
     "execution_count": 7
    }
   ],
   "source": [
    "file.head(5)"
   ]
  },
  {
   "cell_type": "code",
   "execution_count": 8,
   "metadata": {},
   "outputs": [
    {
     "output_type": "execute_result",
     "data": {
      "text/plain": "  country_name country code(iso3)  ...  indicator_code    value\n0      Nigeria                NGA  ...  AG.AGR.TRAC.NO  24800.0\n1      Nigeria                NGA  ...  AG.AGR.TRAC.NO  23999.0\n2      Nigeria                NGA  ...  AG.AGR.TRAC.NO  23000.0\n3      Nigeria                NGA  ...  AG.AGR.TRAC.NO  23000.0\n4      Nigeria                NGA  ...  AG.AGR.TRAC.NO  22000.0\n\n[5 rows x 6 columns]",
      "text/html": "<div>\n<style scoped>\n    .dataframe tbody tr th:only-of-type {\n        vertical-align: middle;\n    }\n\n    .dataframe tbody tr th {\n        vertical-align: top;\n    }\n\n    .dataframe thead th {\n        text-align: right;\n    }\n</style>\n<table border=\"1\" class=\"dataframe\">\n  <thead>\n    <tr style=\"text-align: right;\">\n      <th></th>\n      <th>country_name</th>\n      <th>country code(iso3)</th>\n      <th>year</th>\n      <th>indicator_name</th>\n      <th>indicator_code</th>\n      <th>value</th>\n    </tr>\n  </thead>\n  <tbody>\n    <tr>\n      <th>0</th>\n      <td>Nigeria</td>\n      <td>NGA</td>\n      <td>2007</td>\n      <td>Agricultural machinery, tractors</td>\n      <td>AG.AGR.TRAC.NO</td>\n      <td>24800.0</td>\n    </tr>\n    <tr>\n      <th>1</th>\n      <td>Nigeria</td>\n      <td>NGA</td>\n      <td>2006</td>\n      <td>Agricultural machinery, tractors</td>\n      <td>AG.AGR.TRAC.NO</td>\n      <td>23999.0</td>\n    </tr>\n    <tr>\n      <th>2</th>\n      <td>Nigeria</td>\n      <td>NGA</td>\n      <td>2005</td>\n      <td>Agricultural machinery, tractors</td>\n      <td>AG.AGR.TRAC.NO</td>\n      <td>23000.0</td>\n    </tr>\n    <tr>\n      <th>3</th>\n      <td>Nigeria</td>\n      <td>NGA</td>\n      <td>2004</td>\n      <td>Agricultural machinery, tractors</td>\n      <td>AG.AGR.TRAC.NO</td>\n      <td>23000.0</td>\n    </tr>\n    <tr>\n      <th>4</th>\n      <td>Nigeria</td>\n      <td>NGA</td>\n      <td>2003</td>\n      <td>Agricultural machinery, tractors</td>\n      <td>AG.AGR.TRAC.NO</td>\n      <td>22000.0</td>\n    </tr>\n  </tbody>\n</table>\n</div>"
     },
     "metadata": {},
     "execution_count": 8
    }
   ],
   "source": [
    "file.rename(columns={'country_iso3': 'country code(iso3)'}, inplace=True)\n",
    "file.head()"
   ]
  },
  {
   "cell_type": "code",
   "execution_count": 9,
   "metadata": {},
   "outputs": [
    {
     "output_type": "execute_result",
     "data": {
      "text/plain": "  country_name country code(iso3)  ...  indicator_code    value\n0      Nigeria                NGA  ...  AG.AGR.TRAC.NO  24800.0\n1      Nigeria                NGA  ...  AG.AGR.TRAC.NO  23999.0\n2      Nigeria                NGA  ...  AG.AGR.TRAC.NO  23000.0\n3      Nigeria                NGA  ...  AG.AGR.TRAC.NO  23000.0\n4      Nigeria                NGA  ...  AG.AGR.TRAC.NO  22000.0\n\n[5 rows x 6 columns]",
      "text/html": "<div>\n<style scoped>\n    .dataframe tbody tr th:only-of-type {\n        vertical-align: middle;\n    }\n\n    .dataframe tbody tr th {\n        vertical-align: top;\n    }\n\n    .dataframe thead th {\n        text-align: right;\n    }\n</style>\n<table border=\"1\" class=\"dataframe\">\n  <thead>\n    <tr style=\"text-align: right;\">\n      <th></th>\n      <th>country_name</th>\n      <th>country code(iso3)</th>\n      <th>year</th>\n      <th>Indicator Tags</th>\n      <th>indicator_code</th>\n      <th>value</th>\n    </tr>\n  </thead>\n  <tbody>\n    <tr>\n      <th>0</th>\n      <td>Nigeria</td>\n      <td>NGA</td>\n      <td>2007</td>\n      <td>Agricultural machinery, tractors</td>\n      <td>AG.AGR.TRAC.NO</td>\n      <td>24800.0</td>\n    </tr>\n    <tr>\n      <th>1</th>\n      <td>Nigeria</td>\n      <td>NGA</td>\n      <td>2006</td>\n      <td>Agricultural machinery, tractors</td>\n      <td>AG.AGR.TRAC.NO</td>\n      <td>23999.0</td>\n    </tr>\n    <tr>\n      <th>2</th>\n      <td>Nigeria</td>\n      <td>NGA</td>\n      <td>2005</td>\n      <td>Agricultural machinery, tractors</td>\n      <td>AG.AGR.TRAC.NO</td>\n      <td>23000.0</td>\n    </tr>\n    <tr>\n      <th>3</th>\n      <td>Nigeria</td>\n      <td>NGA</td>\n      <td>2004</td>\n      <td>Agricultural machinery, tractors</td>\n      <td>AG.AGR.TRAC.NO</td>\n      <td>23000.0</td>\n    </tr>\n    <tr>\n      <th>4</th>\n      <td>Nigeria</td>\n      <td>NGA</td>\n      <td>2003</td>\n      <td>Agricultural machinery, tractors</td>\n      <td>AG.AGR.TRAC.NO</td>\n      <td>22000.0</td>\n    </tr>\n  </tbody>\n</table>\n</div>"
     },
     "metadata": {},
     "execution_count": 9
    }
   ],
   "source": [
    "file.rename(columns={'indicator_name': 'Indicator Tags'}, inplace=True)\n",
    "file.head()"
   ]
  },
  {
   "cell_type": "code",
   "execution_count": 10,
   "metadata": {},
   "outputs": [
    {
     "output_type": "execute_result",
     "data": {
      "text/plain": "1322439603.309291"
     },
     "metadata": {},
     "execution_count": 10
    }
   ],
   "source": [
    "file.value.mean()"
   ]
  },
  {
   "cell_type": "code",
   "execution_count": 11,
   "metadata": {},
   "outputs": [
    {
     "output_type": "execute_result",
     "data": {
      "text/plain": "-26734880186.1829"
     },
     "metadata": {},
     "execution_count": 11
    }
   ],
   "source": [
    "file.value.min()"
   ]
  },
  {
   "cell_type": "code",
   "execution_count": 12,
   "metadata": {},
   "outputs": [
    {
     "output_type": "execute_result",
     "data": {
      "text/plain": "114473909728.746"
     },
     "metadata": {},
     "execution_count": 12
    }
   ],
   "source": [
    "file.value.max()"
   ]
  },
  {
   "cell_type": "code",
   "execution_count": 20,
   "metadata": {},
   "outputs": [
    {
     "output_type": "execute_result",
     "data": {
      "text/plain": "<bound method NDFrame.head of 0                        Agricultural machinery, tractors\n1                        Agricultural machinery, tractors\n2                        Agricultural machinery, tractors\n3                        Agricultural machinery, tractors\n4                        Agricultural machinery, tractors\n                              ...                        \n4995    Grants, excluding technical cooperation (BoP, ...\n4996    Grants, excluding technical cooperation (BoP, ...\n4997    Grants, excluding technical cooperation (BoP, ...\n4998    Grants, excluding technical cooperation (BoP, ...\n4999    Grants, excluding technical cooperation (BoP, ...\nName: Indicator Tags, Length: 5000, dtype: object>"
     },
     "metadata": {},
     "execution_count": 20
    }
   ],
   "source": [
    "sulice = file['Indicator Tags']\n",
    "sulice.head"
   ]
  },
  {
   "cell_type": "code",
   "execution_count": 23,
   "metadata": {},
   "outputs": [],
   "source": [
    "feelter = file[file['Indicator Tags'].eq('Income share held by lowest 20%')]"
   ]
  },
  {
   "cell_type": "code",
   "execution_count": 24,
   "metadata": {},
   "outputs": [
    {
     "output_type": "execute_result",
     "data": {
      "text/plain": "(5, 6)"
     },
     "metadata": {},
     "execution_count": 24
    }
   ],
   "source": [
    "feelter.shape"
   ]
  },
  {
   "cell_type": "code",
   "execution_count": 27,
   "metadata": {},
   "outputs": [
    {
     "output_type": "execute_result",
     "data": {
      "text/plain": "array(['Agricultural machinery, tractors',\n       'Fertilizer consumption (% of fertilizer production)',\n       'Fertilizer consumption (kilograms per hectare of arable land)',\n       'Agricultural land (sq. km)', 'Agricultural land (% of land area)',\n       'Arable land (hectares)', 'Arable land (hectares per person)',\n       'Arable land (% of land area)',\n       'Land under cereal production (hectares)',\n       'Permanent cropland (% of land area)',\n       'Rural land area where elevation is below 5 meters (sq. km)',\n       'Rural land area where elevation is below 5 meters (% of total land area)',\n       'Forest area (sq. km)', 'Forest area (% of land area)',\n       'Agricultural irrigated land (% of total agricultural land)',\n       'Average precipitation in depth (mm per year)',\n       'Land area (sq. km)', 'Rural land area (sq. km)',\n       'Agricultural machinery, tractors per 100 sq. km of arable land',\n       'Cereal production (metric tons)',\n       'Crop production index (2004-2006 = 100)',\n       'Food production index (2004-2006 = 100)',\n       'Livestock production index (2004-2006 = 100)',\n       'Surface area (sq. km)', 'Cereal yield (kg per hectare)',\n       'Access to electricity, rural (% of rural population)',\n       'Agricultural methane emissions (thousand metric tons of CO2 equivalent)',\n       'Agricultural methane emissions (% of total)',\n       'Agricultural nitrous oxide emissions (thousand metric tons of CO2 equivalent)',\n       'Agricultural nitrous oxide emissions (% of total)',\n       'Rural population living in areas where elevation is below 5 meters (% of total population)',\n       'Annual freshwater withdrawals, agriculture (% of total freshwater withdrawal)',\n       'Agriculture, forestry, and fishing, value added (current US$)',\n       'Agriculture, forestry, and fishing, value added (% of GDP)',\n       'Rural poverty gap at national poverty lines (%)',\n       'Rural poverty headcount ratio at national poverty lines (% of rural population)',\n       'Employment in agriculture, female (% of female employment) (modeled ILO estimate)',\n       'Employment in agriculture, male (% of male employment) (modeled ILO estimate)',\n       'Employment in agriculture (% of total employment) (modeled ILO estimate)',\n       'Rural population', 'Rural population growth (annual %)',\n       'Rural population (% of total population)',\n       'Agricultural raw materials imports (% of merchandise imports)',\n       'Agricultural raw materials exports (% of merchandise exports)',\n       'Economically active population in agriculture (number)',\n       'Grants, excluding technical cooperation (BoP, current US$)',\n       'Technical cooperation grants (BoP, current US$)',\n       'Net bilateral aid flows from DAC donors, Australia (current US$)',\n       'Net bilateral aid flows from DAC donors, Austria (current US$)',\n       'Net bilateral aid flows from DAC donors, Belgium (current US$)',\n       'Net bilateral aid flows from DAC donors, Canada (current US$)',\n       'Net bilateral aid flows from DAC donors, European Union institutions (current US$)',\n       'Net bilateral aid flows from DAC donors, Switzerland (current US$)',\n       'Net bilateral aid flows from DAC donors, Czech Republic (current US$)',\n       'Net bilateral aid flows from DAC donors, Germany (current US$)',\n       'Net bilateral aid flows from DAC donors, Denmark (current US$)',\n       'Net bilateral aid flows from DAC donors, Spain (current US$)',\n       'Net bilateral aid flows from DAC donors, Finland (current US$)',\n       'Net bilateral aid flows from DAC donors, France (current US$)',\n       'Net bilateral aid flows from DAC donors, United Kingdom (current US$)',\n       'Net bilateral aid flows from DAC donors, Greece (current US$)',\n       'Net bilateral aid flows from DAC donors, Ireland (current US$)',\n       'Net bilateral aid flows from DAC donors, Italy (current US$)',\n       'Net bilateral aid flows from DAC donors, Japan (current US$)',\n       'Net bilateral aid flows from DAC donors, Korea, Rep. (current US$)',\n       'Net bilateral aid flows from DAC donors, Luxembourg (current US$)',\n       'Net bilateral aid flows from DAC donors, Netherlands (current US$)',\n       'Net bilateral aid flows from DAC donors, Norway (current US$)',\n       'Net bilateral aid flows from DAC donors, New Zealand (current US$)',\n       'Net bilateral aid flows from DAC donors, Poland (current US$)',\n       'Net bilateral aid flows from DAC donors, Portugal (current US$)',\n       'Net bilateral aid flows from DAC donors, Slovak Republic (current US$)',\n       'Net bilateral aid flows from DAC donors, Slovenia (current US$)',\n       'Net bilateral aid flows from DAC donors, Sweden (current US$)',\n       'Net bilateral aid flows from DAC donors, Total (current US$)',\n       'Net bilateral aid flows from DAC donors, United States (current US$)',\n       'Net official flows from UN agencies, FAO (current US$)',\n       'Net official flows from UN agencies, IAEA (current US$)',\n       'Net official flows from UN agencies, IFAD (current US$)',\n       'Net official flows from UN agencies, ILO (current US$)',\n       'Net official flows from UN agencies, UNAIDS (current US$)',\n       'Net official flows from UN agencies, UNICEF (current US$)',\n       'Net official flows from UN agencies, UNHCR (current US$)',\n       'Net official flows from UN agencies, UNDP (current US$)',\n       'Net official flows from UN agencies, UNFPA (current US$)',\n       'Net official flows from UN agencies, UNTA (current US$)',\n       'Net official flows from UN agencies, WFP (current US$)',\n       'Net official flows from UN agencies, WHO (current US$)',\n       'Net official development assistance and official aid received (current US$)',\n       'Net official development assistance and official aid received (constant 2015 US$)',\n       'Net official development assistance received (current US$)',\n       'Net ODA received (% of gross capital formation)',\n       'Net ODA received (% of GNI)',\n       'Net official development assistance received (constant 2015 US$)',\n       'Net ODA received (% of imports of goods, services and primary income)',\n       'Net ODA received per capita (current US$)',\n       'School enrollment, primary and secondary (gross), gender parity index (GPI)',\n       'Primary completion rate, total (% of relevant age group)',\n       'Prevalence of HIV, total (% of population ages 15-49)',\n       'Mortality rate, under-5 (per 1,000 live births)',\n       'Pregnant women receiving prenatal care (%)',\n       'Maternal mortality ratio (modeled estimate, per 100,000 live births)',\n       'Prevalence of stunting, height for age (% of children under 5)',\n       'Incidence of tuberculosis (per 100,000 people)',\n       'Income share held by lowest 20%',\n       'Poverty headcount ratio at $1.90 a day (2011 PPP) (% of population)',\n       'Vulnerable employment, total (% of total employment) (modeled ILO estimate)',\n       'Net migration', 'IDA grants (current US$)',\n       'Debt forgiveness grants (current US$)',\n       'Trade in services (% of GDP)',\n       'Communications, computer, etc. (% of service imports, BoP)',\n       'Primary income payments (BoP, current US$)',\n       'Imports of goods and services (BoP, current US$)',\n       'Insurance and financial services (% of service imports, BoP)',\n       'Goods imports (BoP, current US$)',\n       'Service imports (BoP, current US$)',\n       'Charges for the use of intellectual property, payments (BoP, current US$)',\n       'Imports of goods, services and primary income (BoP, current US$)',\n       'Transport services (% of service imports, BoP)',\n       'Travel services (% of service imports, BoP)',\n       'Foreign direct investment, net outflows (BoP, current US$)',\n       'Foreign direct investment, net outflows (% of GDP)',\n       'Secondary income, other sectors, payments (BoP, current US$)',\n       'Personal remittances, paid (current US$)',\n       'Current account balance (BoP, current US$)',\n       'Current account balance (% of GDP)',\n       'Net financial account (BoP, current US$)',\n       'Net primary income (BoP, current US$)',\n       'Net trade in goods and services (BoP, current US$)',\n       'Net trade in goods (BoP, current US$)',\n       'Net errors and omissions (BoP, current US$)',\n       'Foreign direct investment, net (BoP, current US$)',\n       'Portfolio investment, net (BoP, current US$)',\n       'Reserves and related items (BoP, current US$)',\n       'Net secondary income (BoP, current US$)',\n       'Net capital account (BoP, current US$)'], dtype=object)"
     },
     "metadata": {},
     "execution_count": 27
    }
   ],
   "source": [
    "#learn the different unique indicator tags \n",
    "file['Indicator Tags'].unique()"
   ]
  },
  {
   "cell_type": "code",
   "execution_count": 29,
   "metadata": {},
   "outputs": [
    {
     "output_type": "execute_result",
     "data": {
      "text/plain": "     country_name country code(iso3)  ...  indicator_code  value\n3775      Nigeria                NGA  ...     SH.TBS.INCD  219.0\n3776      Nigeria                NGA  ...     SH.TBS.INCD  219.0\n3777      Nigeria                NGA  ...     SH.TBS.INCD  219.0\n3778      Nigeria                NGA  ...     SH.TBS.INCD  219.0\n3779      Nigeria                NGA  ...     SH.TBS.INCD  219.0\n3780      Nigeria                NGA  ...     SH.TBS.INCD  219.0\n3781      Nigeria                NGA  ...     SH.TBS.INCD  219.0\n3782      Nigeria                NGA  ...     SH.TBS.INCD  219.0\n3783      Nigeria                NGA  ...     SH.TBS.INCD  219.0\n3784      Nigeria                NGA  ...     SH.TBS.INCD  219.0\n3785      Nigeria                NGA  ...     SH.TBS.INCD  219.0\n3786      Nigeria                NGA  ...     SH.TBS.INCD  219.0\n3787      Nigeria                NGA  ...     SH.TBS.INCD  219.0\n3788      Nigeria                NGA  ...     SH.TBS.INCD  219.0\n3789      Nigeria                NGA  ...     SH.TBS.INCD  219.0\n3790      Nigeria                NGA  ...     SH.TBS.INCD  219.0\n3791      Nigeria                NGA  ...     SH.TBS.INCD  219.0\n3792      Nigeria                NGA  ...     SH.TBS.INCD  219.0\n3798      Nigeria                NGA  ...     SI.POV.DDAY   53.5\n3799      Nigeria                NGA  ...     SI.POV.DDAY   53.5\n3800      Nigeria                NGA  ...     SI.POV.DDAY   63.5\n3801      Nigeria                NGA  ...     SI.POV.DDAY   57.1\n3802      Nigeria                NGA  ...     SI.POV.DDAY   53.3\n\n[23 rows x 6 columns]",
      "text/html": "<div>\n<style scoped>\n    .dataframe tbody tr th:only-of-type {\n        vertical-align: middle;\n    }\n\n    .dataframe tbody tr th {\n        vertical-align: top;\n    }\n\n    .dataframe thead th {\n        text-align: right;\n    }\n</style>\n<table border=\"1\" class=\"dataframe\">\n  <thead>\n    <tr style=\"text-align: right;\">\n      <th></th>\n      <th>country_name</th>\n      <th>country code(iso3)</th>\n      <th>year</th>\n      <th>Indicator Tags</th>\n      <th>indicator_code</th>\n      <th>value</th>\n    </tr>\n  </thead>\n  <tbody>\n    <tr>\n      <th>3775</th>\n      <td>Nigeria</td>\n      <td>NGA</td>\n      <td>2017</td>\n      <td>Incidence of tuberculosis (per 100,000 people)</td>\n      <td>SH.TBS.INCD</td>\n      <td>219.0</td>\n    </tr>\n    <tr>\n      <th>3776</th>\n      <td>Nigeria</td>\n      <td>NGA</td>\n      <td>2016</td>\n      <td>Incidence of tuberculosis (per 100,000 people)</td>\n      <td>SH.TBS.INCD</td>\n      <td>219.0</td>\n    </tr>\n    <tr>\n      <th>3777</th>\n      <td>Nigeria</td>\n      <td>NGA</td>\n      <td>2015</td>\n      <td>Incidence of tuberculosis (per 100,000 people)</td>\n      <td>SH.TBS.INCD</td>\n      <td>219.0</td>\n    </tr>\n    <tr>\n      <th>3778</th>\n      <td>Nigeria</td>\n      <td>NGA</td>\n      <td>2014</td>\n      <td>Incidence of tuberculosis (per 100,000 people)</td>\n      <td>SH.TBS.INCD</td>\n      <td>219.0</td>\n    </tr>\n    <tr>\n      <th>3779</th>\n      <td>Nigeria</td>\n      <td>NGA</td>\n      <td>2013</td>\n      <td>Incidence of tuberculosis (per 100,000 people)</td>\n      <td>SH.TBS.INCD</td>\n      <td>219.0</td>\n    </tr>\n    <tr>\n      <th>3780</th>\n      <td>Nigeria</td>\n      <td>NGA</td>\n      <td>2012</td>\n      <td>Incidence of tuberculosis (per 100,000 people)</td>\n      <td>SH.TBS.INCD</td>\n      <td>219.0</td>\n    </tr>\n    <tr>\n      <th>3781</th>\n      <td>Nigeria</td>\n      <td>NGA</td>\n      <td>2011</td>\n      <td>Incidence of tuberculosis (per 100,000 people)</td>\n      <td>SH.TBS.INCD</td>\n      <td>219.0</td>\n    </tr>\n    <tr>\n      <th>3782</th>\n      <td>Nigeria</td>\n      <td>NGA</td>\n      <td>2010</td>\n      <td>Incidence of tuberculosis (per 100,000 people)</td>\n      <td>SH.TBS.INCD</td>\n      <td>219.0</td>\n    </tr>\n    <tr>\n      <th>3783</th>\n      <td>Nigeria</td>\n      <td>NGA</td>\n      <td>2009</td>\n      <td>Incidence of tuberculosis (per 100,000 people)</td>\n      <td>SH.TBS.INCD</td>\n      <td>219.0</td>\n    </tr>\n    <tr>\n      <th>3784</th>\n      <td>Nigeria</td>\n      <td>NGA</td>\n      <td>2008</td>\n      <td>Incidence of tuberculosis (per 100,000 people)</td>\n      <td>SH.TBS.INCD</td>\n      <td>219.0</td>\n    </tr>\n    <tr>\n      <th>3785</th>\n      <td>Nigeria</td>\n      <td>NGA</td>\n      <td>2007</td>\n      <td>Incidence of tuberculosis (per 100,000 people)</td>\n      <td>SH.TBS.INCD</td>\n      <td>219.0</td>\n    </tr>\n    <tr>\n      <th>3786</th>\n      <td>Nigeria</td>\n      <td>NGA</td>\n      <td>2006</td>\n      <td>Incidence of tuberculosis (per 100,000 people)</td>\n      <td>SH.TBS.INCD</td>\n      <td>219.0</td>\n    </tr>\n    <tr>\n      <th>3787</th>\n      <td>Nigeria</td>\n      <td>NGA</td>\n      <td>2005</td>\n      <td>Incidence of tuberculosis (per 100,000 people)</td>\n      <td>SH.TBS.INCD</td>\n      <td>219.0</td>\n    </tr>\n    <tr>\n      <th>3788</th>\n      <td>Nigeria</td>\n      <td>NGA</td>\n      <td>2004</td>\n      <td>Incidence of tuberculosis (per 100,000 people)</td>\n      <td>SH.TBS.INCD</td>\n      <td>219.0</td>\n    </tr>\n    <tr>\n      <th>3789</th>\n      <td>Nigeria</td>\n      <td>NGA</td>\n      <td>2003</td>\n      <td>Incidence of tuberculosis (per 100,000 people)</td>\n      <td>SH.TBS.INCD</td>\n      <td>219.0</td>\n    </tr>\n    <tr>\n      <th>3790</th>\n      <td>Nigeria</td>\n      <td>NGA</td>\n      <td>2002</td>\n      <td>Incidence of tuberculosis (per 100,000 people)</td>\n      <td>SH.TBS.INCD</td>\n      <td>219.0</td>\n    </tr>\n    <tr>\n      <th>3791</th>\n      <td>Nigeria</td>\n      <td>NGA</td>\n      <td>2001</td>\n      <td>Incidence of tuberculosis (per 100,000 people)</td>\n      <td>SH.TBS.INCD</td>\n      <td>219.0</td>\n    </tr>\n    <tr>\n      <th>3792</th>\n      <td>Nigeria</td>\n      <td>NGA</td>\n      <td>2000</td>\n      <td>Incidence of tuberculosis (per 100,000 people)</td>\n      <td>SH.TBS.INCD</td>\n      <td>219.0</td>\n    </tr>\n    <tr>\n      <th>3798</th>\n      <td>Nigeria</td>\n      <td>NGA</td>\n      <td>2009</td>\n      <td>Poverty headcount ratio at $1.90 a day (2011 P...</td>\n      <td>SI.POV.DDAY</td>\n      <td>53.5</td>\n    </tr>\n    <tr>\n      <th>3799</th>\n      <td>Nigeria</td>\n      <td>NGA</td>\n      <td>2003</td>\n      <td>Poverty headcount ratio at $1.90 a day (2011 P...</td>\n      <td>SI.POV.DDAY</td>\n      <td>53.5</td>\n    </tr>\n    <tr>\n      <th>3800</th>\n      <td>Nigeria</td>\n      <td>NGA</td>\n      <td>1996</td>\n      <td>Poverty headcount ratio at $1.90 a day (2011 P...</td>\n      <td>SI.POV.DDAY</td>\n      <td>63.5</td>\n    </tr>\n    <tr>\n      <th>3801</th>\n      <td>Nigeria</td>\n      <td>NGA</td>\n      <td>1992</td>\n      <td>Poverty headcount ratio at $1.90 a day (2011 P...</td>\n      <td>SI.POV.DDAY</td>\n      <td>57.1</td>\n    </tr>\n    <tr>\n      <th>3802</th>\n      <td>Nigeria</td>\n      <td>NGA</td>\n      <td>1985</td>\n      <td>Poverty headcount ratio at $1.90 a day (2011 P...</td>\n      <td>SI.POV.DDAY</td>\n      <td>53.3</td>\n    </tr>\n  </tbody>\n</table>\n</div>"
     },
     "metadata": {},
     "execution_count": 29
    }
   ],
   "source": [
    "#let's look at poverty and health numbers \n",
    "\n",
    "poverty_and_health = file[file['Indicator Tags'].eq('Incidence of tuberculosis (per 100,000 people)')|file['Indicator Tags'].eq('Poverty headcount ratio at $1.90 a day (2011 PPP) (% of population)')]\n",
    "poverty_and_health.shape\n",
    "poverty_and_health"
   ]
  },
  {
   "cell_type": "code",
   "execution_count": 44,
   "metadata": {},
   "outputs": [
    {
     "output_type": "execute_result",
     "data": {
      "text/plain": "     country_name country code(iso3)  ...  indicator_code  value\n3775      Nigeria                NGA  ...     SH.TBS.INCD  219.0\n3776      Nigeria                NGA  ...     SH.TBS.INCD  219.0\n3777      Nigeria                NGA  ...     SH.TBS.INCD  219.0\n3778      Nigeria                NGA  ...     SH.TBS.INCD  219.0\n3779      Nigeria                NGA  ...     SH.TBS.INCD  219.0\n3780      Nigeria                NGA  ...     SH.TBS.INCD  219.0\n3781      Nigeria                NGA  ...     SH.TBS.INCD  219.0\n3782      Nigeria                NGA  ...     SH.TBS.INCD  219.0\n3783      Nigeria                NGA  ...     SH.TBS.INCD  219.0\n3784      Nigeria                NGA  ...     SH.TBS.INCD  219.0\n3785      Nigeria                NGA  ...     SH.TBS.INCD  219.0\n3786      Nigeria                NGA  ...     SH.TBS.INCD  219.0\n3787      Nigeria                NGA  ...     SH.TBS.INCD  219.0\n3788      Nigeria                NGA  ...     SH.TBS.INCD  219.0\n3789      Nigeria                NGA  ...     SH.TBS.INCD  219.0\n3790      Nigeria                NGA  ...     SH.TBS.INCD  219.0\n3791      Nigeria                NGA  ...     SH.TBS.INCD  219.0\n3792      Nigeria                NGA  ...     SH.TBS.INCD  219.0\n3798      Nigeria                NGA  ...     SI.POV.DDAY   53.5\n3799      Nigeria                NGA  ...     SI.POV.DDAY   53.5\n3800      Nigeria                NGA  ...     SI.POV.DDAY   63.5\n3801      Nigeria                NGA  ...     SI.POV.DDAY   57.1\n3802      Nigeria                NGA  ...     SI.POV.DDAY   53.3\n\n[23 rows x 6 columns]",
      "text/html": "<div>\n<style scoped>\n    .dataframe tbody tr th:only-of-type {\n        vertical-align: middle;\n    }\n\n    .dataframe tbody tr th {\n        vertical-align: top;\n    }\n\n    .dataframe thead th {\n        text-align: right;\n    }\n</style>\n<table border=\"1\" class=\"dataframe\">\n  <thead>\n    <tr style=\"text-align: right;\">\n      <th></th>\n      <th>country_name</th>\n      <th>country code(iso3)</th>\n      <th>year</th>\n      <th>Indicator Tags</th>\n      <th>indicator_code</th>\n      <th>value</th>\n    </tr>\n  </thead>\n  <tbody>\n    <tr>\n      <th>3775</th>\n      <td>Nigeria</td>\n      <td>NGA</td>\n      <td>2017</td>\n      <td>Incidence of tuberculosis (per 100,000 people)</td>\n      <td>SH.TBS.INCD</td>\n      <td>219.0</td>\n    </tr>\n    <tr>\n      <th>3776</th>\n      <td>Nigeria</td>\n      <td>NGA</td>\n      <td>2016</td>\n      <td>Incidence of tuberculosis (per 100,000 people)</td>\n      <td>SH.TBS.INCD</td>\n      <td>219.0</td>\n    </tr>\n    <tr>\n      <th>3777</th>\n      <td>Nigeria</td>\n      <td>NGA</td>\n      <td>2015</td>\n      <td>Incidence of tuberculosis (per 100,000 people)</td>\n      <td>SH.TBS.INCD</td>\n      <td>219.0</td>\n    </tr>\n    <tr>\n      <th>3778</th>\n      <td>Nigeria</td>\n      <td>NGA</td>\n      <td>2014</td>\n      <td>Incidence of tuberculosis (per 100,000 people)</td>\n      <td>SH.TBS.INCD</td>\n      <td>219.0</td>\n    </tr>\n    <tr>\n      <th>3779</th>\n      <td>Nigeria</td>\n      <td>NGA</td>\n      <td>2013</td>\n      <td>Incidence of tuberculosis (per 100,000 people)</td>\n      <td>SH.TBS.INCD</td>\n      <td>219.0</td>\n    </tr>\n    <tr>\n      <th>3780</th>\n      <td>Nigeria</td>\n      <td>NGA</td>\n      <td>2012</td>\n      <td>Incidence of tuberculosis (per 100,000 people)</td>\n      <td>SH.TBS.INCD</td>\n      <td>219.0</td>\n    </tr>\n    <tr>\n      <th>3781</th>\n      <td>Nigeria</td>\n      <td>NGA</td>\n      <td>2011</td>\n      <td>Incidence of tuberculosis (per 100,000 people)</td>\n      <td>SH.TBS.INCD</td>\n      <td>219.0</td>\n    </tr>\n    <tr>\n      <th>3782</th>\n      <td>Nigeria</td>\n      <td>NGA</td>\n      <td>2010</td>\n      <td>Incidence of tuberculosis (per 100,000 people)</td>\n      <td>SH.TBS.INCD</td>\n      <td>219.0</td>\n    </tr>\n    <tr>\n      <th>3783</th>\n      <td>Nigeria</td>\n      <td>NGA</td>\n      <td>2009</td>\n      <td>Incidence of tuberculosis (per 100,000 people)</td>\n      <td>SH.TBS.INCD</td>\n      <td>219.0</td>\n    </tr>\n    <tr>\n      <th>3784</th>\n      <td>Nigeria</td>\n      <td>NGA</td>\n      <td>2008</td>\n      <td>Incidence of tuberculosis (per 100,000 people)</td>\n      <td>SH.TBS.INCD</td>\n      <td>219.0</td>\n    </tr>\n    <tr>\n      <th>3785</th>\n      <td>Nigeria</td>\n      <td>NGA</td>\n      <td>2007</td>\n      <td>Incidence of tuberculosis (per 100,000 people)</td>\n      <td>SH.TBS.INCD</td>\n      <td>219.0</td>\n    </tr>\n    <tr>\n      <th>3786</th>\n      <td>Nigeria</td>\n      <td>NGA</td>\n      <td>2006</td>\n      <td>Incidence of tuberculosis (per 100,000 people)</td>\n      <td>SH.TBS.INCD</td>\n      <td>219.0</td>\n    </tr>\n    <tr>\n      <th>3787</th>\n      <td>Nigeria</td>\n      <td>NGA</td>\n      <td>2005</td>\n      <td>Incidence of tuberculosis (per 100,000 people)</td>\n      <td>SH.TBS.INCD</td>\n      <td>219.0</td>\n    </tr>\n    <tr>\n      <th>3788</th>\n      <td>Nigeria</td>\n      <td>NGA</td>\n      <td>2004</td>\n      <td>Incidence of tuberculosis (per 100,000 people)</td>\n      <td>SH.TBS.INCD</td>\n      <td>219.0</td>\n    </tr>\n    <tr>\n      <th>3789</th>\n      <td>Nigeria</td>\n      <td>NGA</td>\n      <td>2003</td>\n      <td>Incidence of tuberculosis (per 100,000 people)</td>\n      <td>SH.TBS.INCD</td>\n      <td>219.0</td>\n    </tr>\n    <tr>\n      <th>3790</th>\n      <td>Nigeria</td>\n      <td>NGA</td>\n      <td>2002</td>\n      <td>Incidence of tuberculosis (per 100,000 people)</td>\n      <td>SH.TBS.INCD</td>\n      <td>219.0</td>\n    </tr>\n    <tr>\n      <th>3791</th>\n      <td>Nigeria</td>\n      <td>NGA</td>\n      <td>2001</td>\n      <td>Incidence of tuberculosis (per 100,000 people)</td>\n      <td>SH.TBS.INCD</td>\n      <td>219.0</td>\n    </tr>\n    <tr>\n      <th>3792</th>\n      <td>Nigeria</td>\n      <td>NGA</td>\n      <td>2000</td>\n      <td>Incidence of tuberculosis (per 100,000 people)</td>\n      <td>SH.TBS.INCD</td>\n      <td>219.0</td>\n    </tr>\n    <tr>\n      <th>3798</th>\n      <td>Nigeria</td>\n      <td>NGA</td>\n      <td>2009</td>\n      <td>Poverty headcount ratio at $1.90 a day (2011 P...</td>\n      <td>SI.POV.DDAY</td>\n      <td>53.5</td>\n    </tr>\n    <tr>\n      <th>3799</th>\n      <td>Nigeria</td>\n      <td>NGA</td>\n      <td>2003</td>\n      <td>Poverty headcount ratio at $1.90 a day (2011 P...</td>\n      <td>SI.POV.DDAY</td>\n      <td>53.5</td>\n    </tr>\n    <tr>\n      <th>3800</th>\n      <td>Nigeria</td>\n      <td>NGA</td>\n      <td>1996</td>\n      <td>Poverty headcount ratio at $1.90 a day (2011 P...</td>\n      <td>SI.POV.DDAY</td>\n      <td>63.5</td>\n    </tr>\n    <tr>\n      <th>3801</th>\n      <td>Nigeria</td>\n      <td>NGA</td>\n      <td>1992</td>\n      <td>Poverty headcount ratio at $1.90 a day (2011 P...</td>\n      <td>SI.POV.DDAY</td>\n      <td>57.1</td>\n    </tr>\n    <tr>\n      <th>3802</th>\n      <td>Nigeria</td>\n      <td>NGA</td>\n      <td>1985</td>\n      <td>Poverty headcount ratio at $1.90 a day (2011 P...</td>\n      <td>SI.POV.DDAY</td>\n      <td>53.3</td>\n    </tr>\n  </tbody>\n</table>\n</div>"
     },
     "metadata": {},
     "execution_count": 44
    }
   ],
   "source": [
    "#ibid but without using the eq() function. Let's see if it works the same\n",
    "\n",
    "poverty_and_health = file[((file['Indicator Tags'] == 'Incidence of tuberculosis (per 100,000 people)')|(file['Indicator Tags'] == 'Poverty headcount ratio at $1.90 a day (2011 PPP) (% of population)'))]\n",
    "poverty_and_health.shape\n",
    "poverty_and_health\n",
    "\n",
    "# I had a bit of challenge here, and had to make sure that I had the grouped expressions on either side of the boolean in parentheses"
   ]
  },
  {
   "cell_type": "code",
   "execution_count": 46,
   "metadata": {},
   "outputs": [
    {
     "output_type": "execute_result",
     "data": {
      "text/plain": "     country_name country code(iso3)  ...  indicator_code  value\n3775      Nigeria                NGA  ...     SH.TBS.INCD  219.0\n3776      Nigeria                NGA  ...     SH.TBS.INCD  219.0\n3777      Nigeria                NGA  ...     SH.TBS.INCD  219.0\n3778      Nigeria                NGA  ...     SH.TBS.INCD  219.0\n3779      Nigeria                NGA  ...     SH.TBS.INCD  219.0\n3780      Nigeria                NGA  ...     SH.TBS.INCD  219.0\n3781      Nigeria                NGA  ...     SH.TBS.INCD  219.0\n3782      Nigeria                NGA  ...     SH.TBS.INCD  219.0\n3783      Nigeria                NGA  ...     SH.TBS.INCD  219.0\n3784      Nigeria                NGA  ...     SH.TBS.INCD  219.0\n3785      Nigeria                NGA  ...     SH.TBS.INCD  219.0\n3786      Nigeria                NGA  ...     SH.TBS.INCD  219.0\n3787      Nigeria                NGA  ...     SH.TBS.INCD  219.0\n3788      Nigeria                NGA  ...     SH.TBS.INCD  219.0\n3789      Nigeria                NGA  ...     SH.TBS.INCD  219.0\n3790      Nigeria                NGA  ...     SH.TBS.INCD  219.0\n3791      Nigeria                NGA  ...     SH.TBS.INCD  219.0\n3792      Nigeria                NGA  ...     SH.TBS.INCD  219.0\n3798      Nigeria                NGA  ...     SI.POV.DDAY   53.5\n3799      Nigeria                NGA  ...     SI.POV.DDAY   53.5\n3800      Nigeria                NGA  ...     SI.POV.DDAY   63.5\n3801      Nigeria                NGA  ...     SI.POV.DDAY   57.1\n3802      Nigeria                NGA  ...     SI.POV.DDAY   53.3\n\n[23 rows x 6 columns]",
      "text/html": "<div>\n<style scoped>\n    .dataframe tbody tr th:only-of-type {\n        vertical-align: middle;\n    }\n\n    .dataframe tbody tr th {\n        vertical-align: top;\n    }\n\n    .dataframe thead th {\n        text-align: right;\n    }\n</style>\n<table border=\"1\" class=\"dataframe\">\n  <thead>\n    <tr style=\"text-align: right;\">\n      <th></th>\n      <th>country_name</th>\n      <th>country code(iso3)</th>\n      <th>year</th>\n      <th>Indicator Tags</th>\n      <th>indicator_code</th>\n      <th>value</th>\n    </tr>\n  </thead>\n  <tbody>\n    <tr>\n      <th>3775</th>\n      <td>Nigeria</td>\n      <td>NGA</td>\n      <td>2017</td>\n      <td>Incidence of tuberculosis (per 100,000 people)</td>\n      <td>SH.TBS.INCD</td>\n      <td>219.0</td>\n    </tr>\n    <tr>\n      <th>3776</th>\n      <td>Nigeria</td>\n      <td>NGA</td>\n      <td>2016</td>\n      <td>Incidence of tuberculosis (per 100,000 people)</td>\n      <td>SH.TBS.INCD</td>\n      <td>219.0</td>\n    </tr>\n    <tr>\n      <th>3777</th>\n      <td>Nigeria</td>\n      <td>NGA</td>\n      <td>2015</td>\n      <td>Incidence of tuberculosis (per 100,000 people)</td>\n      <td>SH.TBS.INCD</td>\n      <td>219.0</td>\n    </tr>\n    <tr>\n      <th>3778</th>\n      <td>Nigeria</td>\n      <td>NGA</td>\n      <td>2014</td>\n      <td>Incidence of tuberculosis (per 100,000 people)</td>\n      <td>SH.TBS.INCD</td>\n      <td>219.0</td>\n    </tr>\n    <tr>\n      <th>3779</th>\n      <td>Nigeria</td>\n      <td>NGA</td>\n      <td>2013</td>\n      <td>Incidence of tuberculosis (per 100,000 people)</td>\n      <td>SH.TBS.INCD</td>\n      <td>219.0</td>\n    </tr>\n    <tr>\n      <th>3780</th>\n      <td>Nigeria</td>\n      <td>NGA</td>\n      <td>2012</td>\n      <td>Incidence of tuberculosis (per 100,000 people)</td>\n      <td>SH.TBS.INCD</td>\n      <td>219.0</td>\n    </tr>\n    <tr>\n      <th>3781</th>\n      <td>Nigeria</td>\n      <td>NGA</td>\n      <td>2011</td>\n      <td>Incidence of tuberculosis (per 100,000 people)</td>\n      <td>SH.TBS.INCD</td>\n      <td>219.0</td>\n    </tr>\n    <tr>\n      <th>3782</th>\n      <td>Nigeria</td>\n      <td>NGA</td>\n      <td>2010</td>\n      <td>Incidence of tuberculosis (per 100,000 people)</td>\n      <td>SH.TBS.INCD</td>\n      <td>219.0</td>\n    </tr>\n    <tr>\n      <th>3783</th>\n      <td>Nigeria</td>\n      <td>NGA</td>\n      <td>2009</td>\n      <td>Incidence of tuberculosis (per 100,000 people)</td>\n      <td>SH.TBS.INCD</td>\n      <td>219.0</td>\n    </tr>\n    <tr>\n      <th>3784</th>\n      <td>Nigeria</td>\n      <td>NGA</td>\n      <td>2008</td>\n      <td>Incidence of tuberculosis (per 100,000 people)</td>\n      <td>SH.TBS.INCD</td>\n      <td>219.0</td>\n    </tr>\n    <tr>\n      <th>3785</th>\n      <td>Nigeria</td>\n      <td>NGA</td>\n      <td>2007</td>\n      <td>Incidence of tuberculosis (per 100,000 people)</td>\n      <td>SH.TBS.INCD</td>\n      <td>219.0</td>\n    </tr>\n    <tr>\n      <th>3786</th>\n      <td>Nigeria</td>\n      <td>NGA</td>\n      <td>2006</td>\n      <td>Incidence of tuberculosis (per 100,000 people)</td>\n      <td>SH.TBS.INCD</td>\n      <td>219.0</td>\n    </tr>\n    <tr>\n      <th>3787</th>\n      <td>Nigeria</td>\n      <td>NGA</td>\n      <td>2005</td>\n      <td>Incidence of tuberculosis (per 100,000 people)</td>\n      <td>SH.TBS.INCD</td>\n      <td>219.0</td>\n    </tr>\n    <tr>\n      <th>3788</th>\n      <td>Nigeria</td>\n      <td>NGA</td>\n      <td>2004</td>\n      <td>Incidence of tuberculosis (per 100,000 people)</td>\n      <td>SH.TBS.INCD</td>\n      <td>219.0</td>\n    </tr>\n    <tr>\n      <th>3789</th>\n      <td>Nigeria</td>\n      <td>NGA</td>\n      <td>2003</td>\n      <td>Incidence of tuberculosis (per 100,000 people)</td>\n      <td>SH.TBS.INCD</td>\n      <td>219.0</td>\n    </tr>\n    <tr>\n      <th>3790</th>\n      <td>Nigeria</td>\n      <td>NGA</td>\n      <td>2002</td>\n      <td>Incidence of tuberculosis (per 100,000 people)</td>\n      <td>SH.TBS.INCD</td>\n      <td>219.0</td>\n    </tr>\n    <tr>\n      <th>3791</th>\n      <td>Nigeria</td>\n      <td>NGA</td>\n      <td>2001</td>\n      <td>Incidence of tuberculosis (per 100,000 people)</td>\n      <td>SH.TBS.INCD</td>\n      <td>219.0</td>\n    </tr>\n    <tr>\n      <th>3792</th>\n      <td>Nigeria</td>\n      <td>NGA</td>\n      <td>2000</td>\n      <td>Incidence of tuberculosis (per 100,000 people)</td>\n      <td>SH.TBS.INCD</td>\n      <td>219.0</td>\n    </tr>\n    <tr>\n      <th>3798</th>\n      <td>Nigeria</td>\n      <td>NGA</td>\n      <td>2009</td>\n      <td>Poverty headcount ratio at $1.90 a day (2011 P...</td>\n      <td>SI.POV.DDAY</td>\n      <td>53.5</td>\n    </tr>\n    <tr>\n      <th>3799</th>\n      <td>Nigeria</td>\n      <td>NGA</td>\n      <td>2003</td>\n      <td>Poverty headcount ratio at $1.90 a day (2011 P...</td>\n      <td>SI.POV.DDAY</td>\n      <td>53.5</td>\n    </tr>\n    <tr>\n      <th>3800</th>\n      <td>Nigeria</td>\n      <td>NGA</td>\n      <td>1996</td>\n      <td>Poverty headcount ratio at $1.90 a day (2011 P...</td>\n      <td>SI.POV.DDAY</td>\n      <td>63.5</td>\n    </tr>\n    <tr>\n      <th>3801</th>\n      <td>Nigeria</td>\n      <td>NGA</td>\n      <td>1992</td>\n      <td>Poverty headcount ratio at $1.90 a day (2011 P...</td>\n      <td>SI.POV.DDAY</td>\n      <td>57.1</td>\n    </tr>\n    <tr>\n      <th>3802</th>\n      <td>Nigeria</td>\n      <td>NGA</td>\n      <td>1985</td>\n      <td>Poverty headcount ratio at $1.90 a day (2011 P...</td>\n      <td>SI.POV.DDAY</td>\n      <td>53.3</td>\n    </tr>\n  </tbody>\n</table>\n</div>"
     },
     "metadata": {},
     "execution_count": 46
    }
   ],
   "source": [
    "#ibid but without using the eq() function and used 'isin()' function. Let's see if it works the same\n",
    "\n",
    "poverty_and_health = file[((file['Indicator Tags'] == 'Incidence of tuberculosis (per 100,000 people)')|(file['Indicator Tags'].isin(['Poverty headcount ratio at $1.90 a day (2011 PPP) (% of population)'])))]\n",
    "poverty_and_health.shape\n",
    "poverty_and_health\n",
    "\n",
    "# It worked, but I had to be careful about putting the tags I wanted to filter by, in a list. As a string throws up an error. "
   ]
  },
  {
   "cell_type": "code",
   "execution_count": 57,
   "metadata": {},
   "outputs": [
    {
     "output_type": "execute_result",
     "data": {
      "text/plain": "country_name                                                    Nigeria\ncountry code(iso3)                                                  NGA\nyear                                                               2003\nIndicator Tags        Grants, excluding technical cooperation (BoP, ...\nindicator_code                                        BX.GRT.EXTA.CD.WD\nvalue                                                        1.1486e+08\nName: 4999, dtype: object"
     },
     "metadata": {},
     "execution_count": 57
    }
   ],
   "source": [
    "#Transitioning to iloc now \n",
    "\n",
    "file.iloc[4994:4999]\n",
    "\n",
    "# Looks like iloc functions almost like you would list"
   ]
  },
  {
   "cell_type": "code",
   "execution_count": 58,
   "metadata": {},
   "outputs": [
    {
     "output_type": "execute_result",
     "data": {
      "text/plain": "'BM.GSR.GNFS.CD'"
     },
     "metadata": {},
     "execution_count": 58
    }
   ],
   "source": [
    "file.iloc[4094,4]\n",
    "#only that in this case, it's 2 dimensional. So you can get exact row and column positions for each element in the DF."
   ]
  },
  {
   "cell_type": "code",
   "execution_count": 59,
   "metadata": {},
   "outputs": [
    {
     "output_type": "execute_result",
     "data": {
      "text/plain": "4994    BX.GRT.EXTA.CD.WD\n4995    BX.GRT.EXTA.CD.WD\n4996    BX.GRT.EXTA.CD.WD\n4997    BX.GRT.EXTA.CD.WD\n4998    BX.GRT.EXTA.CD.WD\nName: indicator_code, dtype: object"
     },
     "metadata": {},
     "execution_count": 59
    }
   ],
   "source": [
    "file.iloc[4994:4999,4]\n",
    "\n",
    "#Looks like we can also filter with this "
   ]
  },
  {
   "cell_type": "code",
   "execution_count": 60,
   "metadata": {},
   "outputs": [
    {
     "output_type": "execute_result",
     "data": {
      "text/plain": "     country_name country code(iso3)  ...     indicator_code         value\n54        Nigeria                NGA  ...  AG.CON.FERT.PT.ZS  2.135078e+02\n62        Nigeria                NGA  ...     AG.CON.FERT.ZS  5.261031e+00\n77        Nigeria                NGA  ...     AG.LND.AGRI.K2  6.900000e+05\n133       Nigeria                NGA  ...     AG.LND.AGRI.ZS  7.576007e+01\n189       Nigeria                NGA  ...     AG.LND.ARBL.HA  3.200000e+07\n...           ...                ...  ...                ...           ...\n4825      Nigeria                NGA  ...     BN.KLT.DINV.CD -7.029619e+09\n4866      Nigeria                NGA  ...     BN.KLT.PTXL.CD  3.452547e+08\n4900      Nigeria                NGA  ...     BN.RES.INCL.CD -1.051451e+10\n4941      Nigeria                NGA  ...     BN.TRF.CURR.CD  1.936164e+10\n4993      Nigeria                NGA  ...  BX.GRT.EXTA.CD.WD  9.347400e+08\n\n[114 rows x 6 columns]",
      "text/html": "<div>\n<style scoped>\n    .dataframe tbody tr th:only-of-type {\n        vertical-align: middle;\n    }\n\n    .dataframe tbody tr th {\n        vertical-align: top;\n    }\n\n    .dataframe thead th {\n        text-align: right;\n    }\n</style>\n<table border=\"1\" class=\"dataframe\">\n  <thead>\n    <tr style=\"text-align: right;\">\n      <th></th>\n      <th>country_name</th>\n      <th>country code(iso3)</th>\n      <th>year</th>\n      <th>Indicator Tags</th>\n      <th>indicator_code</th>\n      <th>value</th>\n    </tr>\n  </thead>\n  <tbody>\n    <tr>\n      <th>54</th>\n      <td>Nigeria</td>\n      <td>NGA</td>\n      <td>2009</td>\n      <td>Fertilizer consumption (% of fertilizer produc...</td>\n      <td>AG.CON.FERT.PT.ZS</td>\n      <td>2.135078e+02</td>\n    </tr>\n    <tr>\n      <th>62</th>\n      <td>Nigeria</td>\n      <td>NGA</td>\n      <td>2009</td>\n      <td>Fertilizer consumption (kilograms per hectare ...</td>\n      <td>AG.CON.FERT.ZS</td>\n      <td>5.261031e+00</td>\n    </tr>\n    <tr>\n      <th>77</th>\n      <td>Nigeria</td>\n      <td>NGA</td>\n      <td>2009</td>\n      <td>Agricultural land (sq. km)</td>\n      <td>AG.LND.AGRI.K2</td>\n      <td>6.900000e+05</td>\n    </tr>\n    <tr>\n      <th>133</th>\n      <td>Nigeria</td>\n      <td>NGA</td>\n      <td>2009</td>\n      <td>Agricultural land (% of land area)</td>\n      <td>AG.LND.AGRI.ZS</td>\n      <td>7.576007e+01</td>\n    </tr>\n    <tr>\n      <th>189</th>\n      <td>Nigeria</td>\n      <td>NGA</td>\n      <td>2009</td>\n      <td>Arable land (hectares)</td>\n      <td>AG.LND.ARBL.HA</td>\n      <td>3.200000e+07</td>\n    </tr>\n    <tr>\n      <th>...</th>\n      <td>...</td>\n      <td>...</td>\n      <td>...</td>\n      <td>...</td>\n      <td>...</td>\n      <td>...</td>\n    </tr>\n    <tr>\n      <th>4825</th>\n      <td>Nigeria</td>\n      <td>NGA</td>\n      <td>2009</td>\n      <td>Foreign direct investment, net (BoP, current US$)</td>\n      <td>BN.KLT.DINV.CD</td>\n      <td>-7.029619e+09</td>\n    </tr>\n    <tr>\n      <th>4866</th>\n      <td>Nigeria</td>\n      <td>NGA</td>\n      <td>2009</td>\n      <td>Portfolio investment, net (BoP, current US$)</td>\n      <td>BN.KLT.PTXL.CD</td>\n      <td>3.452547e+08</td>\n    </tr>\n    <tr>\n      <th>4900</th>\n      <td>Nigeria</td>\n      <td>NGA</td>\n      <td>2009</td>\n      <td>Reserves and related items (BoP, current US$)</td>\n      <td>BN.RES.INCL.CD</td>\n      <td>-1.051451e+10</td>\n    </tr>\n    <tr>\n      <th>4941</th>\n      <td>Nigeria</td>\n      <td>NGA</td>\n      <td>2009</td>\n      <td>Net secondary income (BoP, current US$)</td>\n      <td>BN.TRF.CURR.CD</td>\n      <td>1.936164e+10</td>\n    </tr>\n    <tr>\n      <th>4993</th>\n      <td>Nigeria</td>\n      <td>NGA</td>\n      <td>2009</td>\n      <td>Grants, excluding technical cooperation (BoP, ...</td>\n      <td>BX.GRT.EXTA.CD.WD</td>\n      <td>9.347400e+08</td>\n    </tr>\n  </tbody>\n</table>\n<p>114 rows × 6 columns</p>\n</div>"
     },
     "metadata": {},
     "execution_count": 60
    }
   ],
   "source": [
    "file[file.iloc[:,2] == 2009]\n",
    "\n",
    "# More filtering"
   ]
  },
  {
   "cell_type": "code",
   "execution_count": null,
   "metadata": {},
   "outputs": [],
   "source": [
    "(file[file.iloc[:,2] == 2009]).shape"
   ]
  },
  {
   "cell_type": "code",
   "execution_count": 63,
   "metadata": {},
   "outputs": [
    {
     "output_type": "execute_result",
     "data": {
      "text/plain": "     country_name country code(iso3)  ...     indicator_code         value\n0         Nigeria                NGA  ...     AG.AGR.TRAC.NO  2.480000e+04\n1         Nigeria                NGA  ...     AG.AGR.TRAC.NO  2.399900e+04\n2         Nigeria                NGA  ...     AG.AGR.TRAC.NO  2.300000e+04\n3         Nigeria                NGA  ...     AG.AGR.TRAC.NO  2.300000e+04\n4         Nigeria                NGA  ...     AG.AGR.TRAC.NO  2.200000e+04\n...           ...                ...  ...                ...           ...\n4995      Nigeria                NGA  ...  BX.GRT.EXTA.CD.WD  1.304920e+09\n4996      Nigeria                NGA  ...  BX.GRT.EXTA.CD.WD  1.138818e+10\n4997      Nigeria                NGA  ...  BX.GRT.EXTA.CD.WD  5.840000e+09\n4998      Nigeria                NGA  ...  BX.GRT.EXTA.CD.WD  1.651300e+08\n4999      Nigeria                NGA  ...  BX.GRT.EXTA.CD.WD  1.148600e+08\n\n[5000 rows x 6 columns]",
      "text/html": "<div>\n<style scoped>\n    .dataframe tbody tr th:only-of-type {\n        vertical-align: middle;\n    }\n\n    .dataframe tbody tr th {\n        vertical-align: top;\n    }\n\n    .dataframe thead th {\n        text-align: right;\n    }\n</style>\n<table border=\"1\" class=\"dataframe\">\n  <thead>\n    <tr style=\"text-align: right;\">\n      <th></th>\n      <th>country_name</th>\n      <th>country code(iso3)</th>\n      <th>year</th>\n      <th>Indicator Tags</th>\n      <th>indicator_code</th>\n      <th>value</th>\n    </tr>\n  </thead>\n  <tbody>\n    <tr>\n      <th>0</th>\n      <td>Nigeria</td>\n      <td>NGA</td>\n      <td>2007</td>\n      <td>Agricultural machinery, tractors</td>\n      <td>AG.AGR.TRAC.NO</td>\n      <td>2.480000e+04</td>\n    </tr>\n    <tr>\n      <th>1</th>\n      <td>Nigeria</td>\n      <td>NGA</td>\n      <td>2006</td>\n      <td>Agricultural machinery, tractors</td>\n      <td>AG.AGR.TRAC.NO</td>\n      <td>2.399900e+04</td>\n    </tr>\n    <tr>\n      <th>2</th>\n      <td>Nigeria</td>\n      <td>NGA</td>\n      <td>2005</td>\n      <td>Agricultural machinery, tractors</td>\n      <td>AG.AGR.TRAC.NO</td>\n      <td>2.300000e+04</td>\n    </tr>\n    <tr>\n      <th>3</th>\n      <td>Nigeria</td>\n      <td>NGA</td>\n      <td>2004</td>\n      <td>Agricultural machinery, tractors</td>\n      <td>AG.AGR.TRAC.NO</td>\n      <td>2.300000e+04</td>\n    </tr>\n    <tr>\n      <th>4</th>\n      <td>Nigeria</td>\n      <td>NGA</td>\n      <td>2003</td>\n      <td>Agricultural machinery, tractors</td>\n      <td>AG.AGR.TRAC.NO</td>\n      <td>2.200000e+04</td>\n    </tr>\n    <tr>\n      <th>...</th>\n      <td>...</td>\n      <td>...</td>\n      <td>...</td>\n      <td>...</td>\n      <td>...</td>\n      <td>...</td>\n    </tr>\n    <tr>\n      <th>4995</th>\n      <td>Nigeria</td>\n      <td>NGA</td>\n      <td>2007</td>\n      <td>Grants, excluding technical cooperation (BoP, ...</td>\n      <td>BX.GRT.EXTA.CD.WD</td>\n      <td>1.304920e+09</td>\n    </tr>\n    <tr>\n      <th>4996</th>\n      <td>Nigeria</td>\n      <td>NGA</td>\n      <td>2006</td>\n      <td>Grants, excluding technical cooperation (BoP, ...</td>\n      <td>BX.GRT.EXTA.CD.WD</td>\n      <td>1.138818e+10</td>\n    </tr>\n    <tr>\n      <th>4997</th>\n      <td>Nigeria</td>\n      <td>NGA</td>\n      <td>2005</td>\n      <td>Grants, excluding technical cooperation (BoP, ...</td>\n      <td>BX.GRT.EXTA.CD.WD</td>\n      <td>5.840000e+09</td>\n    </tr>\n    <tr>\n      <th>4998</th>\n      <td>Nigeria</td>\n      <td>NGA</td>\n      <td>2004</td>\n      <td>Grants, excluding technical cooperation (BoP, ...</td>\n      <td>BX.GRT.EXTA.CD.WD</td>\n      <td>1.651300e+08</td>\n    </tr>\n    <tr>\n      <th>4999</th>\n      <td>Nigeria</td>\n      <td>NGA</td>\n      <td>2003</td>\n      <td>Grants, excluding technical cooperation (BoP, ...</td>\n      <td>BX.GRT.EXTA.CD.WD</td>\n      <td>1.148600e+08</td>\n    </tr>\n  </tbody>\n</table>\n<p>5000 rows × 6 columns</p>\n</div>"
     },
     "metadata": {},
     "execution_count": 63
    }
   ],
   "source": [
    "#Transitioning from iloc to loc. It looks like loc involves the use of labels, instead of the specific address of the row/column if you (more than likely) don't know what that is\n",
    "\n",
    "file.loc[file['country_name'].isin(['Nigeria'])]"
   ]
  },
  {
   "cell_type": "code",
   "execution_count": 65,
   "metadata": {},
   "outputs": [
    {
     "output_type": "execute_result",
     "data": {
      "text/plain": "Index(['country_name', 'country code(iso3)', 'year', 'Indicator Tags',\n       'indicator_code', 'value', 'Random Column'],\n      dtype='object')"
     },
     "metadata": {},
     "execution_count": 65
    }
   ],
   "source": [
    "# Introducing a new column now, and filling it with random values, to try out the ability to manipulate new columns. But I am using another assignment to keep the original DF intact\n",
    "\n",
    "new_df = file\n",
    "new_df['Random Column'] = np.random.rand(5000,1)\n",
    "new_df.columns"
   ]
  },
  {
   "cell_type": "code",
   "execution_count": 67,
   "metadata": {},
   "outputs": [
    {
     "output_type": "execute_result",
     "data": {
      "text/plain": "  country_name country code(iso3)  year  ...    value Random Column  To Be Deleted\n0      Nigeria                NGA  2007  ...  24800.0      0.362392      10.362392\n1      Nigeria                NGA  2006  ...  23999.0      0.083006      10.083006\n2      Nigeria                NGA  2005  ...  23000.0      0.016505      10.016505\n3      Nigeria                NGA  2004  ...  23000.0      0.127628      10.127628\n4      Nigeria                NGA  2003  ...  22000.0      0.129805      10.129805\n\n[5 rows x 8 columns]",
      "text/html": "<div>\n<style scoped>\n    .dataframe tbody tr th:only-of-type {\n        vertical-align: middle;\n    }\n\n    .dataframe tbody tr th {\n        vertical-align: top;\n    }\n\n    .dataframe thead th {\n        text-align: right;\n    }\n</style>\n<table border=\"1\" class=\"dataframe\">\n  <thead>\n    <tr style=\"text-align: right;\">\n      <th></th>\n      <th>country_name</th>\n      <th>country code(iso3)</th>\n      <th>year</th>\n      <th>Indicator Tags</th>\n      <th>indicator_code</th>\n      <th>value</th>\n      <th>Random Column</th>\n      <th>To Be Deleted</th>\n    </tr>\n  </thead>\n  <tbody>\n    <tr>\n      <th>0</th>\n      <td>Nigeria</td>\n      <td>NGA</td>\n      <td>2007</td>\n      <td>Agricultural machinery, tractors</td>\n      <td>AG.AGR.TRAC.NO</td>\n      <td>24800.0</td>\n      <td>0.362392</td>\n      <td>10.362392</td>\n    </tr>\n    <tr>\n      <th>1</th>\n      <td>Nigeria</td>\n      <td>NGA</td>\n      <td>2006</td>\n      <td>Agricultural machinery, tractors</td>\n      <td>AG.AGR.TRAC.NO</td>\n      <td>23999.0</td>\n      <td>0.083006</td>\n      <td>10.083006</td>\n    </tr>\n    <tr>\n      <th>2</th>\n      <td>Nigeria</td>\n      <td>NGA</td>\n      <td>2005</td>\n      <td>Agricultural machinery, tractors</td>\n      <td>AG.AGR.TRAC.NO</td>\n      <td>23000.0</td>\n      <td>0.016505</td>\n      <td>10.016505</td>\n    </tr>\n    <tr>\n      <th>3</th>\n      <td>Nigeria</td>\n      <td>NGA</td>\n      <td>2004</td>\n      <td>Agricultural machinery, tractors</td>\n      <td>AG.AGR.TRAC.NO</td>\n      <td>23000.0</td>\n      <td>0.127628</td>\n      <td>10.127628</td>\n    </tr>\n    <tr>\n      <th>4</th>\n      <td>Nigeria</td>\n      <td>NGA</td>\n      <td>2003</td>\n      <td>Agricultural machinery, tractors</td>\n      <td>AG.AGR.TRAC.NO</td>\n      <td>22000.0</td>\n      <td>0.129805</td>\n      <td>10.129805</td>\n    </tr>\n  </tbody>\n</table>\n</div>"
     },
     "metadata": {},
     "execution_count": 67
    }
   ],
   "source": [
    "new_df['To Be Deleted'] = new_df['Random Column']+10\n",
    "new_df.head(5)\n",
    "\n",
    "#created a new column from 'Random Column' to practice manipulations on Columns and eventually deletion \n"
   ]
  },
  {
   "cell_type": "code",
   "execution_count": 70,
   "metadata": {},
   "outputs": [
    {
     "output_type": "execute_result",
     "data": {
      "text/plain": "  country_name country code(iso3)  year  ...  indicator_code    value  Random Column\n0      Nigeria                NGA  2007  ...  AG.AGR.TRAC.NO  24800.0       0.362392\n1      Nigeria                NGA  2006  ...  AG.AGR.TRAC.NO  23999.0       0.083006\n2      Nigeria                NGA  2005  ...  AG.AGR.TRAC.NO  23000.0       0.016505\n3      Nigeria                NGA  2004  ...  AG.AGR.TRAC.NO  23000.0       0.127628\n4      Nigeria                NGA  2003  ...  AG.AGR.TRAC.NO  22000.0       0.129805\n\n[5 rows x 7 columns]",
      "text/html": "<div>\n<style scoped>\n    .dataframe tbody tr th:only-of-type {\n        vertical-align: middle;\n    }\n\n    .dataframe tbody tr th {\n        vertical-align: top;\n    }\n\n    .dataframe thead th {\n        text-align: right;\n    }\n</style>\n<table border=\"1\" class=\"dataframe\">\n  <thead>\n    <tr style=\"text-align: right;\">\n      <th></th>\n      <th>country_name</th>\n      <th>country code(iso3)</th>\n      <th>year</th>\n      <th>Indicator Tags</th>\n      <th>indicator_code</th>\n      <th>value</th>\n      <th>Random Column</th>\n    </tr>\n  </thead>\n  <tbody>\n    <tr>\n      <th>0</th>\n      <td>Nigeria</td>\n      <td>NGA</td>\n      <td>2007</td>\n      <td>Agricultural machinery, tractors</td>\n      <td>AG.AGR.TRAC.NO</td>\n      <td>24800.0</td>\n      <td>0.362392</td>\n    </tr>\n    <tr>\n      <th>1</th>\n      <td>Nigeria</td>\n      <td>NGA</td>\n      <td>2006</td>\n      <td>Agricultural machinery, tractors</td>\n      <td>AG.AGR.TRAC.NO</td>\n      <td>23999.0</td>\n      <td>0.083006</td>\n    </tr>\n    <tr>\n      <th>2</th>\n      <td>Nigeria</td>\n      <td>NGA</td>\n      <td>2005</td>\n      <td>Agricultural machinery, tractors</td>\n      <td>AG.AGR.TRAC.NO</td>\n      <td>23000.0</td>\n      <td>0.016505</td>\n    </tr>\n    <tr>\n      <th>3</th>\n      <td>Nigeria</td>\n      <td>NGA</td>\n      <td>2004</td>\n      <td>Agricultural machinery, tractors</td>\n      <td>AG.AGR.TRAC.NO</td>\n      <td>23000.0</td>\n      <td>0.127628</td>\n    </tr>\n    <tr>\n      <th>4</th>\n      <td>Nigeria</td>\n      <td>NGA</td>\n      <td>2003</td>\n      <td>Agricultural machinery, tractors</td>\n      <td>AG.AGR.TRAC.NO</td>\n      <td>22000.0</td>\n      <td>0.129805</td>\n    </tr>\n  </tbody>\n</table>\n</div>"
     },
     "metadata": {},
     "execution_count": 70
    }
   ],
   "source": [
    "new_df = new_df.drop(['To Be Deleted'],axis=1)\n",
    "new_df.head(5)"
   ]
  },
  {
   "cell_type": "code",
   "execution_count": null,
   "metadata": {},
   "outputs": [],
   "source": []
  }
 ],
 "metadata": {
  "language_info": {
   "codemirror_mode": {
    "name": "ipython",
    "version": 3
   },
   "file_extension": ".py",
   "mimetype": "text/x-python",
   "name": "python",
   "nbconvert_exporter": "python",
   "pygments_lexer": "ipython3",
   "version": "3.7.2-final"
  },
  "orig_nbformat": 2,
  "kernelspec": {
   "name": "python3",
   "display_name": "Python 3"
  }
 },
 "nbformat": 4,
 "nbformat_minor": 2
}