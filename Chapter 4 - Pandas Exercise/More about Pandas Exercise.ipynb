{
 "cells": [
  {
   "cell_type": "markdown",
   "metadata": {},
   "source": [
    "# Time for some practice!\n",
    "\n",
    "Time to put to practice what we have just covered. We need to start off by reading three csvs; naijaprop.csv, proppro.csv and trovit.csv. Save each of these dataframes as naijaprop, proppro and trovit respectively.\n",
    "\n",
    "Print out the first 5 rows of each dataframe and descriptive information regarding the columns in each dataframe"
   ]
  },
  {
   "cell_type": "code",
   "execution_count": 53,
   "metadata": {},
   "outputs": [],
   "source": [
    "#answer here"
   ]
  },
  {
   "cell_type": "markdown",
   "metadata": {},
   "source": [
    "## Question 1\n",
    "\n",
    "Create a new column for each dataframe, name this column <strong><i>source</i></strong> and label the values in the column based on the source of the listing. For example, all the listings in castles should be labeled as castles in the column we named <strong><i>source</i></strong>"
   ]
  },
  {
   "cell_type": "code",
   "execution_count": 31,
   "metadata": {},
   "outputs": [],
   "source": [
    "#answer here"
   ]
  },
  {
   "cell_type": "markdown",
   "metadata": {},
   "source": [
    "## Question 2\n",
    "\n",
    "Now, concatenate all the dataframes you have just read into one dataframe. This would be the equivalent of an outer merge, you should have a dataframe with <strong>18357 rows</strong> and <strong>6 columns</strong>, assign this to a variable named merged_df."
   ]
  },
  {
   "cell_type": "code",
   "execution_count": 32,
   "metadata": {},
   "outputs": [],
   "source": [
    "#answer here"
   ]
  },
  {
   "cell_type": "markdown",
   "metadata": {},
   "source": [
    "## Question 3\n",
    "\n",
    "We are going to do a bit of data cleaning, we need to remove the Naira sign from all the prices in our price column. This is a good add that for every issue you may encounter when writing code there is a good probability that someone has experienced something similar. If you do not know how to remove non numerical characters from a column, try Google this query with the phrase <strong><i>site:stackoverflow.com</i></strong> added to the end of your query and read a few answers with people trying different solutions and customize one of those for this question."
   ]
  },
  {
   "cell_type": "code",
   "execution_count": 59,
   "metadata": {},
   "outputs": [],
   "source": [
    "#answer here"
   ]
  },
  {
   "cell_type": "markdown",
   "metadata": {},
   "source": [
    "## Question 4 \n",
    "\n",
    "Find the missing and NaN values in the bedrooms and baths columns, how do you want to treat these missing values, there is no right or wrong answer. Find the most appropriate solution and explain your logic, ie why did you choose that particular method, what impact might it have on the accuracy and integrity of our data?"
   ]
  },
  {
   "cell_type": "code",
   "execution_count": 62,
   "metadata": {},
   "outputs": [],
   "source": [
    "#answer here"
   ]
  },
  {
   "cell_type": "markdown",
   "metadata": {},
   "source": [
    "## Question 5\n",
    "\n",
    "You will notice that some listings do not have a state, instead the state is included in the location. Select all rows in the dataset where the value in the location columns contains the word <strong><i>State</i></strong> and where the state column contains an NaN value"
   ]
  },
  {
   "cell_type": "code",
   "execution_count": 69,
   "metadata": {},
   "outputs": [],
   "source": [
    "#answer here"
   ]
  },
  {
   "cell_type": "markdown",
   "metadata": {},
   "source": [
    "## Question 6 \n",
    "\n",
    "Ok, we are going to think of a way to clean up our data. Where we have an NaN value in the state column we are going to extract the state from the location column and append the value to the state column.\n",
    "We are going to try and find a simple solution for this.\n",
    "\n",
    "Let's start off by listing all unique states values in our merged_df dataframe"
   ]
  },
  {
   "cell_type": "code",
   "execution_count": 76,
   "metadata": {},
   "outputs": [],
   "source": [
    "#answer here"
   ]
  },
  {
   "cell_type": "markdown",
   "metadata": {},
   "source": [
    "## Question 7\n",
    "\n",
    "We are going to make the assumption that the list we just created is a list of all the states detailed in our list. Remember only about a third of listings have no state, we can assume that the remainder of the 2/3rd would probably have listings from all the states covered in our merged_df dataframe. Let's check how accurate our assumption is.\n",
    "\n",
    "You need to find all rows under the column <strong><i>'location'</i></strong> containing the strings in the list we created in Question 6 and replace the NaN value in state with the name of the state that the row contains\n",
    "\n",
    "For example if a row has the value <strong>Lagos State</strong> rename the state column with the value <strong>Lagos</strong>\n",
    "\n",
    "Here is a tip, convert all the strings in location column to lower case and then search for strings that contain the values you found in Question 6 (convert these to lower case too)"
   ]
  },
  {
   "cell_type": "code",
   "execution_count": 109,
   "metadata": {},
   "outputs": [],
   "source": [
    "#answer here"
   ]
  },
  {
   "cell_type": "markdown",
   "metadata": {},
   "source": [
    "## Question 8\n",
    "\n",
    "Let' check how many NaN values we have under the state column now"
   ]
  },
  {
   "cell_type": "code",
   "execution_count": 97,
   "metadata": {},
   "outputs": [],
   "source": [
    "#answer here"
   ]
  },
  {
   "cell_type": "markdown",
   "metadata": {},
   "source": [
    "## Question 9\n",
    "\n",
    "Ok, so we still have NaN values, print out all the unique values in the <strong><i>location</i></strong> column for rows that still have an NaN values under the <strong><i>state</i></strong> column. You will notice that there actually aren't too many unique states. There are however, a lot of unique locations. Let's try and rename the states column based on the unique states we identify. Keep checking whether or not you have filled all NaN values under state.\n",
    "\n",
    "<i>Please document your solution, explain what you did and why</i>"
   ]
  },
  {
   "cell_type": "code",
   "execution_count": 111,
   "metadata": {},
   "outputs": [],
   "source": [
    "#answer here"
   ]
  },
  {
   "cell_type": "markdown",
   "metadata": {},
   "source": [
    "## Question 10 \n",
    "\n",
    "Which state has the most expensive listing?\n",
    "\n",
    "<i>Show the code you used to find this listing</i>"
   ]
  },
  {
   "cell_type": "code",
   "execution_count": 112,
   "metadata": {},
   "outputs": [],
   "source": [
    "#answer here"
   ]
  },
  {
   "cell_type": "markdown",
   "metadata": {},
   "source": [
    "## Question 11\n",
    "\n",
    "Which state has the least expensive listing?\n",
    "\n",
    "<i>Show the code you used to find this listing</i>"
   ]
  },
  {
   "cell_type": "code",
   "execution_count": 115,
   "metadata": {},
   "outputs": [],
   "source": [
    "#answer here"
   ]
  },
  {
   "cell_type": "markdown",
   "metadata": {},
   "source": [
    "## Question 12\n",
    "\n",
    "Save <strong>merged_df</strong> as a csv file in your computer, use whatever name you will feel comfortable with"
   ]
  },
  {
   "cell_type": "code",
   "execution_count": 117,
   "metadata": {},
   "outputs": [],
   "source": [
    "#answer here"
   ]
  },
  {
   "cell_type": "code",
   "execution_count": 118,
   "metadata": {},
   "outputs": [
    {
     "data": {
      "text/html": [
       "<div>\n",
       "<style scoped>\n",
       "    .dataframe tbody tr th:only-of-type {\n",
       "        vertical-align: middle;\n",
       "    }\n",
       "\n",
       "    .dataframe tbody tr th {\n",
       "        vertical-align: top;\n",
       "    }\n",
       "\n",
       "    .dataframe thead th {\n",
       "        text-align: right;\n",
       "    }\n",
       "</style>\n",
       "<table border=\"1\" class=\"dataframe\">\n",
       "  <thead>\n",
       "    <tr style=\"text-align: right;\">\n",
       "      <th></th>\n",
       "      <th>price</th>\n",
       "      <th>unit</th>\n",
       "      <th>location</th>\n",
       "      <th>bedrooms</th>\n",
       "      <th>baths</th>\n",
       "      <th>state</th>\n",
       "    </tr>\n",
       "  </thead>\n",
       "  <tbody>\n",
       "    <tr>\n",
       "      <th>0</th>\n",
       "      <td>1000000</td>\n",
       "      <td>per Year</td>\n",
       "      <td>15 - 17 bolaji balogun street, ayonusi estate,...</td>\n",
       "      <td>5</td>\n",
       "      <td>6</td>\n",
       "      <td>Ogun</td>\n",
       "    </tr>\n",
       "    <tr>\n",
       "      <th>1</th>\n",
       "      <td>600000</td>\n",
       "      <td>per Year</td>\n",
       "      <td>15 - 17 bolaji balogun street, ayonusi estate,...</td>\n",
       "      <td>3</td>\n",
       "      <td>3</td>\n",
       "      <td>Lagos</td>\n",
       "    </tr>\n",
       "    <tr>\n",
       "      <th>2</th>\n",
       "      <td>250000</td>\n",
       "      <td>per Year</td>\n",
       "      <td>badore,owode and addo roads,</td>\n",
       "      <td>1</td>\n",
       "      <td>1</td>\n",
       "      <td>Lagos</td>\n",
       "    </tr>\n",
       "    <tr>\n",
       "      <th>3</th>\n",
       "      <td>1000000</td>\n",
       "      <td>per Year</td>\n",
       "      <td>ilupeju,</td>\n",
       "      <td>3</td>\n",
       "      <td>2</td>\n",
       "      <td>Lagos</td>\n",
       "    </tr>\n",
       "    <tr>\n",
       "      <th>4</th>\n",
       "      <td>600000</td>\n",
       "      <td>per Year</td>\n",
       "      <td>badore road,</td>\n",
       "      <td>NaN</td>\n",
       "      <td>NaN</td>\n",
       "      <td>Lagos</td>\n",
       "    </tr>\n",
       "    <tr>\n",
       "      <th>...</th>\n",
       "      <td>...</td>\n",
       "      <td>...</td>\n",
       "      <td>...</td>\n",
       "      <td>...</td>\n",
       "      <td>...</td>\n",
       "      <td>...</td>\n",
       "    </tr>\n",
       "    <tr>\n",
       "      <th>6692</th>\n",
       "      <td>80000</td>\n",
       "      <td>per Year</td>\n",
       "      <td>ikorodu, lagos state</td>\n",
       "      <td>1</td>\n",
       "      <td>1</td>\n",
       "      <td>Lagos</td>\n",
       "    </tr>\n",
       "    <tr>\n",
       "      <th>6693</th>\n",
       "      <td>1500000</td>\n",
       "      <td>per Year</td>\n",
       "      <td>ajah, eti osa, lagos state</td>\n",
       "      <td>4</td>\n",
       "      <td>4</td>\n",
       "      <td>Lagos</td>\n",
       "    </tr>\n",
       "    <tr>\n",
       "      <th>6694</th>\n",
       "      <td>1500000</td>\n",
       "      <td>per Year</td>\n",
       "      <td>lekki, ibeju lekki, lagos state</td>\n",
       "      <td>3</td>\n",
       "      <td>3</td>\n",
       "      <td>Lagos</td>\n",
       "    </tr>\n",
       "    <tr>\n",
       "      <th>6695</th>\n",
       "      <td>1200000</td>\n",
       "      <td>per Year</td>\n",
       "      <td>lekki, ibeju lekki, lagos state</td>\n",
       "      <td>2</td>\n",
       "      <td>2</td>\n",
       "      <td>Lagos</td>\n",
       "    </tr>\n",
       "    <tr>\n",
       "      <th>6696</th>\n",
       "      <td>80000</td>\n",
       "      <td>per Year</td>\n",
       "      <td>ikorodu, lagos state</td>\n",
       "      <td>1</td>\n",
       "      <td>1</td>\n",
       "      <td>Lagos</td>\n",
       "    </tr>\n",
       "  </tbody>\n",
       "</table>\n",
       "<p>18357 rows × 6 columns</p>\n",
       "</div>"
      ],
      "text/plain": [
       "        price      unit                                           location  \\\n",
       "0     1000000  per Year  15 - 17 bolaji balogun street, ayonusi estate,...   \n",
       "1      600000  per Year  15 - 17 bolaji balogun street, ayonusi estate,...   \n",
       "2      250000  per Year                       badore,owode and addo roads,   \n",
       "3     1000000  per Year                                           ilupeju,   \n",
       "4      600000  per Year                                       badore road,   \n",
       "...       ...       ...                                                ...   \n",
       "6692    80000  per Year                              ikorodu, lagos state    \n",
       "6693  1500000  per Year                        ajah, eti osa, lagos state    \n",
       "6694  1500000  per Year                   lekki, ibeju lekki, lagos state    \n",
       "6695  1200000  per Year                   lekki, ibeju lekki, lagos state    \n",
       "6696    80000  per Year                              ikorodu, lagos state    \n",
       "\n",
       "     bedrooms baths  state  \n",
       "0           5     6   Ogun  \n",
       "1           3     3  Lagos  \n",
       "2           1     1  Lagos  \n",
       "3           3     2  Lagos  \n",
       "4         NaN   NaN  Lagos  \n",
       "...       ...   ...    ...  \n",
       "6692        1     1  Lagos  \n",
       "6693        4     4  Lagos  \n",
       "6694        3     3  Lagos  \n",
       "6695        2     2  Lagos  \n",
       "6696        1     1  Lagos  \n",
       "\n",
       "[18357 rows x 6 columns]"
      ]
     },
     "execution_count": 118,
     "metadata": {},
     "output_type": "execute_result"
    }
   ],
   "source": [
    "merged_df"
   ]
  },
  {
   "cell_type": "code",
   "execution_count": null,
   "metadata": {},
   "outputs": [],
   "source": []
  }
 ],
 "metadata": {
  "kernelspec": {
   "display_name": "Python 3",
   "language": "python",
   "name": "python3"
  },
  "language_info": {
   "codemirror_mode": {
    "name": "ipython",
    "version": 3
   },
   "file_extension": ".py",
   "mimetype": "text/x-python",
   "name": "python",
   "nbconvert_exporter": "python",
   "pygments_lexer": "ipython3",
   "version": "3.7.4"
  }
 },
 "nbformat": 4,
 "nbformat_minor": 2
}
