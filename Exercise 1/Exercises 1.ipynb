{
 "cells": [
  {
   "cell_type": "markdown",
   "metadata": {},
   "source": [
    "# Exercises Questions\n"
   ]
  },
  {
   "cell_type": "markdown",
   "metadata": {},
   "source": [
    "Please answer the questions using this notebook and submit the complete notebook in a GitHub repository dedicated to exercises you will complete through the duration of this course.\n",
    "\n",
    "You can read about more about creating a GitHub repository here: https://help.github.com/en/github/getting-started-with-github/create-a-repo"
   ]
  },
  {
   "cell_type": "markdown",
   "metadata": {},
   "source": [
    "## Question 1"
   ]
  },
  {
   "cell_type": "code",
   "execution_count": 2,
   "metadata": {},
   "outputs": [
    {
     "data": {
      "text/plain": [
       "814471773534943547598756548608272275987944627634927846084978327244914126428094842750310923263253963158764697469505788607657059335713212252604794324849441254805414578498542865427347373506933411977831915004187889117435656506638058288057962568606638553915120059317734277658413587810876445004285354311004817344962611544743401419447976766464423849905020410881849965697678480471460214573415887090590790517745435665132105919700807506271345940865615420541492014596304313090357315370048951799571718855831184123058759504517868568437735015577348681058460044017882707783817141597481282668826365627251951071743402884044787701353595195556030748739356518137472757606630088034735865860252822009013829195169569724942589304116864668034940593658895116876350193659182774495216053341962490803070861615793619377493867123056466626629518783008053517675725595970474887032709382839483734418973315068962567775592062522459308968819826983483116861046451238529988222522638492335914246946607553355815594426763416624490080448107193408654090958628968871894896817068414900249289631095792164864566906179130608191314917429583791471312765213137878174427955850530129022691925575223726065420751589257997920327696401732777082778787137354204615804959447352059032579071014640570046475205279653236703217456615834320263246885306617304453870088574070922587024265044751467126551946894558836965301784324213466457075365713854607860051675770630397963890849987161272256919865434925583768252087143658580607314657024583936213683013934971260249323219559201956775115810626601416136524245334022992076119232810500682898231300709367243998481566239662012812765499611397817828261815225208385771534859810197898270453865832026661548759794752516349486477156137773745611643139549020956609645737266289841426336325340554510448434596624801377516142949444620657380041471697436877309374000296423932039173604713455201546605101981090838467600320947169891634599474807487454408571031929721573176440790160717512851793424979662205390664261943516064330210341309439168430341242411234678658147411406421719117848063306450717092735279637346687082548693394486430203569230036949709649891653058122124736155926024240657738717264338341145351868274398156642485217219692297044066510249383006961197405051830703405660648113819066178303955428505049491200044653815158841288372796152420244625548780657430912304438199343704285413688274484240091288462435182805554672705152179334495362678791013306293511671144559398993103658197777817196937551920549128762477288828952597663901556983877834440818224770808247962070624275593199046794744875607906669863318784721308758526241291627952370071600733129248952844416347249408095939299124981350756465812491143560803225692924705951160027191231748572948585682289417848280088780801802934049328649414233682807529743491605745113216763959937789350752022144880887228784407720463696080886479980987347622019385621591971895597110802834711979639524316042393450972374193047410183654750269748213391551998545157755941936116181469510936366703199828684052655506555206967220574776247099533891121706137196951226996632047989582747526885943632053911740847106672355445618840341479039771632446801015696328496179680611883390659990248103225720491656313059695393107705975747930479855764811982942304074155556379481537732282619634490893718047865603517556929354689997399625887189986381869135622708905447754957434966702434125568590172673795737950679371663808514771178279748560740166727096035279172287623105896649964545226645033896835819219085607174337108436575782790110344149914290745648740248115631852204785634584226194267768283737848186427758779147077286546990021195341229949114791338271895194659629778089650393961407983894480682980013142659235261668891502015889210473839204816610014612549535475796997747755199193098783734546142463547879050127605424247388865252638586316903208832081201050826557282604637121715300337851929768157160088076887414448331326105799337359726281310748717101433332076326009333535071103113059413466921534569247556740505370407639023769029703880032122710617469275465426909852583510977500175739873237661550828607555277116657552056813758677542378946039705672766921844627954891008719528699448018628101461015179172322783152538479144422883483105570694194495732004690709158689573842940960319832462550018457909839376094826815695659255382626778062879744194487830553569451603104779152833532976384731492982313629450385863285862859658849338376921328107971617040142028058133974645303891791525228636086771077587898023734769022085221262978049387333877324848383231171535625048740129515799036719322811398208338582238637030169116780501055488997505335592359700772699567777979075204985085702004459829785534481009130942423408995352690920213821849215565796849450860713006464427477073648893032138887575571548634170338390923792867637526988753620613845293460343560800180303364879175551639829067242471879322285692610510933085412178383469613935016109630623451695225590624313050003929072139193717916236607520107145568390900922837997691844652105861672450880524160992715713938315444501284327669504707583966463853677293698881843475030300389033881681098906962103480415277388744220147468883449710300726510152538294981469131056385561147666644755082590419487121550392962228997512623611568775647277880024383410281959288526213670300096365936014952433022384571875199216090611109224176247740469258033094463945154165163254165660579099666579783533031318568069224765235441694395053402797110554078470743044394580558338108199925295513360854687475144119660884363128294865663286836213441421140549137476832736097500279045487549781394307732075394118759668065454920899246550193170475439752638259889120419252865866562609222089138871701766755250301747512056885841765816212893469103330273237305999626432151304308541417612597036921829879433266709784843351521190962759666366246101553790255937305152184749941320600608037827220289981845108623321201148153553017325723838081873034820673815308727142773532032792609071316845423982076170705736406189874523030652909966669079084638433883979244616981567479629622213651813605009503809745212117142502328524600268210852165096940264294155129774373893703111518051681990292868032992616205543542263308703767301719206069745189436034312101323030376159545045932234642248331067414249708027290999949536421531213422377527462903546798373603700955681875610987948704060002082183635176603293795720987607184807199744429459223618213867455261478713908425963760388842109953318536963742576393902513653555612388851568224981013216223482089941143915390513113853930646518160646734812209978345464512169519401554665945404746699838010250429616674969855649212459701880073850679537628981711259184308342604555925169127960243397780039795695548334839458141212386511537009428756278716948862354783000831417124143343120265304098007274565557272671571828639799977825900258292751516732214882298086492668955552215284752851480280964380536327527125580225288962770480776250804631078806478590305329846367870134355744440434909532105014264098650430075350098704626573924615622623595637161012403302287068989327738153166377244706241916690515732167366256877105729339537386576985255211671193478573538722177617459678627699778452867528259587622228368977384591194531845494050224787776540019233674427880524862539490319501754032660688794408969020559068007688862076959110000990928977172934932393008853846917872469923789164099975427805054087393167364025762347186646596865586586316774764089977803875765685281794957496828739185203567387048332006813072615099497306143052484780937155711477680379084221463145286236507352934338195824392942951069509411363985235873111611059120957706022647708786477695384355448597622231266288438904186200062868919753507071639841816411360897237737068059515035204244793584434461521629347779000887093469884954823019696642095406267494894898481821501998066730605401360985937060831661553096719247812317134605630427891676479978048948816874133886161840300052439459078637466681610495096674143212159329410904985472471216377326878174520424748145780650165776617680501696099618698608358859485905642825418066332023635224063000425133286799950457809998764730212978186740406158212206668801204893646476990852435747611225555481611651539555112521196361142486153282912608162351849529967242150590471707378637412764518896656791417009938710035837964504793592806085886424628943977797704794697400980777130496603611246802269535405197245109180938640141950234287639960799288584139734885820789604450678720876838229185388530720397918425788613979569654128488865781570085706553496977452304742987951533449224903420292136244210884470339407160901347371160594716192659548669255688576983661915100196182222211263361861128980680082595958278172847106441898346068536762887914362605054132084754553883368517439023613505002775919394819349383735943351509253841416569218673015384618599131997264701316576365448967753902525783132045165079675670799207071482444082704973252454178854824437927156735534341882281529625556282960296113518587987011742701922726909946478572998008697636327075467685062815290385936585790343897684640703573185354098242584455779399044057704"
      ]
     },
     "execution_count": 2,
     "metadata": {},
     "output_type": "execute_result"
    }
   ],
   "source": [
    "#only run this once as it will generate a random integer each time it is run\n",
    "import random \n",
    "nums = random.randint(10**5000,10**9000)\n",
    "nums"
   ]
  },
  {
   "cell_type": "markdown",
   "metadata": {},
   "source": [
    "Find the sum of all the numbers in variable 'nums', and then find the sum of the first 5 digits of this number. Notice that nums is an integer, think about how you can iterate through an integer or alternatively if you may need to convert this into a different data type. If you are stuck initially start off by noting the error message you are receiving to guide your solution, if this fails post your questions on Slack and someone will help guide you to the correct answer"
   ]
  },
  {
   "cell_type": "code",
   "execution_count": 9,
   "metadata": {},
   "outputs": [
    {
     "data": {
      "text/plain": [
       "(40880, 24)"
      ]
     },
     "execution_count": 9,
     "metadata": {},
     "output_type": "execute_result"
    }
   ],
   "source": [
    "#Enter your answer here:\n",
    "list_num = [int(x) for x in str(nums)]\n",
    "sum_of_all = sum(list_num)\n",
    "sum_of_first_five = sum(list_num[:5])\n",
    "\n",
    "sum_of_all, sum_of_first_five "
   ]
  },
  {
   "cell_type": "markdown",
   "metadata": {},
   "source": [
    "## Question 2"
   ]
  },
  {
   "cell_type": "code",
   "execution_count": 10,
   "metadata": {},
   "outputs": [
    {
     "data": {
      "text/plain": [
       "[5,\n",
       " 0,\n",
       " 7,\n",
       " 4,\n",
       " 7,\n",
       " 4,\n",
       " 2,\n",
       " 9,\n",
       " 0,\n",
       " 8,\n",
       " 10,\n",
       " 2,\n",
       " 6,\n",
       " 0,\n",
       " 5,\n",
       " 4,\n",
       " 10,\n",
       " 1,\n",
       " 4,\n",
       " 5,\n",
       " 10,\n",
       " 3,\n",
       " 3,\n",
       " 3,\n",
       " 4,\n",
       " 10,\n",
       " 4,\n",
       " 0,\n",
       " 3,\n",
       " 6,\n",
       " 4,\n",
       " 7,\n",
       " 10,\n",
       " 8,\n",
       " 4,\n",
       " 0,\n",
       " 0,\n",
       " 3,\n",
       " 6,\n",
       " 2,\n",
       " 10,\n",
       " 7,\n",
       " 1,\n",
       " 0,\n",
       " 8,\n",
       " 3,\n",
       " 5,\n",
       " 10,\n",
       " 3,\n",
       " 4]"
      ]
     },
     "execution_count": 10,
     "metadata": {},
     "output_type": "execute_result"
    }
   ],
   "source": [
    "list_nums = [random.randint(0,10) for iter in range(50)]\n",
    "list_nums"
   ]
  },
  {
   "cell_type": "markdown",
   "metadata": {},
   "source": [
    "Print out a list of numbers in list_nums of numbers that are less than or equals to 4. Write the solution out in one line"
   ]
  },
  {
   "cell_type": "code",
   "execution_count": 13,
   "metadata": {},
   "outputs": [
    {
     "name": "stdout",
     "output_type": "stream",
     "text": [
      "<built-in method sort of list object at 0x10a23da48>\n"
     ]
    }
   ],
   "source": [
    "#Enter your answer here:\n",
    "list_less_4 = [i for i in list_nums if i <= 4]\n",
    "\n"
   ]
  },
  {
   "cell_type": "markdown",
   "metadata": {},
   "source": [
    "## Question 3"
   ]
  },
  {
   "cell_type": "markdown",
   "metadata": {},
   "source": [
    "Write a program to generate a dictionary that contains (i, i*i) such that if the value 8 is assigned to the variable input_var your dictionary should generate the following output:\n",
    "\n",
    "{1:1, 2:4, 3:9, 4:16, 5:25, 6:36, 7:49, 8:64}"
   ]
  },
  {
   "cell_type": "code",
   "execution_count": 14,
   "metadata": {},
   "outputs": [],
   "source": [
    "input_var = random.randint(5,20)"
   ]
  },
  {
   "cell_type": "code",
   "execution_count": 18,
   "metadata": {},
   "outputs": [],
   "source": [
    "#Enter your answer here:\n",
    "\n",
    "answer_dict = {x: x**2 for x in range(1,input_var+1)}"
   ]
  },
  {
   "cell_type": "code",
   "execution_count": 19,
   "metadata": {},
   "outputs": [
    {
     "data": {
      "text/plain": [
       "{1: 1, 2: 4, 3: 9, 4: 16, 5: 25}"
      ]
     },
     "execution_count": 19,
     "metadata": {},
     "output_type": "execute_result"
    }
   ],
   "source": [
    "answer_dict"
   ]
  },
  {
   "cell_type": "markdown",
   "metadata": {},
   "source": [
    "## Question 4"
   ]
  },
  {
   "cell_type": "markdown",
   "metadata": {},
   "source": [
    "You are driving along the N1 a little faster than you should be and a police officer stops your vehicle. Write a function that will compute the fine you will be required to pay depending on how fast you were travelling. For each 10kilometres above the limit you will be required to pay R50 on top of a base fine of R1000. \n",
    "\n",
    "Limitations:\n",
    "* the speed limit is 80km/hr\n",
    "* Prior offenses affect the fine you will be required to pay. If you have a single prior driving offence you will be required to pay 25% more for each 10 km/hr over the speed limit, if you have two prior offences you will be required to pay 40% more and if you have 3 or more prior offences you will be required to pay 60% more.\n",
    "\n"
   ]
  },
  {
   "cell_type": "code",
   "execution_count": 8,
   "metadata": {},
   "outputs": [
    {
     "name": "stdout",
     "output_type": "stream",
     "text": [
      "Enter Commuter Speed:80\n",
      "Enter number of previous offences:1\n",
      "No fine\n"
     ]
    },
    {
     "data": {
      "text/plain": [
       "0"
      ]
     },
     "execution_count": 8,
     "metadata": {},
     "output_type": "execute_result"
    }
   ],
   "source": [
    "# Enter your answer: \n",
    "\n",
    "entry1 = int(input('Enter Commuter Speed:'))\n",
    "entry2 = int(input('Enter number of previous offences:'))\n",
    "\n",
    "\n",
    "def fine(speed, offences): \n",
    "    ticket = 0\n",
    "    base_fine = 1000+(((speed-80)//10)*50))\n",
    "    if speed <= 80: \n",
    "        print(\"No fine\")\n",
    "    elif speed > 80 and offences == 0: \n",
    "        ticket = base_fine\n",
    "    elif speed > 80 and  offences == 1: \n",
    "        ticket = base_fine + (base_fine*(((speed-80)//10)*1.25))\n",
    "    elif speed > 80 and offences == 2: \n",
    "        ticket = base_fine + (base_fine*(((speed-80)//10)*1.4))\n",
    "    elif speed > 80 and offences >= 3: \n",
    "        ticket = base_fine + (base_fine*(((speed-80)//10)*1.6))\n",
    "    else: \n",
    "          ticket = base_fine \n",
    "    return ticket\n",
    "\n",
    "fine(entry1, entry2)"
   ]
  },
  {
   "cell_type": "markdown",
   "metadata": {},
   "source": [
    "#### Comment\n",
    "- remember to subtract the speed from the speed limit and then divide the result by 10 and multiply that by R50\n",
    "- the reason being that you will be charged R50 for each 10 kilometer over the speed limit. With the current calculation you are dividing the speed by 10 and then multiplying by 50 \n",
    "- for calculating the additional fine based on number of offences you will also need to start off by finding out how much over the limit the person is travelling at, dividing that by 10, multiplying this result by for example 25% (depending on number of offences) then multiplying this by the fine and adding this to the total from the previous formula"
   ]
  },
  {
   "cell_type": "markdown",
   "metadata": {},
   "source": [
    "## Question 5"
   ]
  },
  {
   "cell_type": "markdown",
   "metadata": {},
   "source": [
    "Regular expressions or regex/regexp in short is a special text string used to describe a search pattern. You can use regex to find and/or replace a specified pattern in a given expression. Regular expressions make finding information a lot easier.\n",
    "\n",
    "You can use a regexp to search through a text file to find email addresses or to verify if email addresses you have received are valid email addresses\n",
    "\n",
    "For more information on regular expressions please read these sources:\n",
    "* Regular Expressions | A Complete Beginners Tutorial https://blog.usejournal.com/regular-expressions-a-complete-beginners-tutorial-c7327b9fd8eb\n",
    "* RE - Regular Expression Operations: https://docs.python.org/3/library/re.html\n",
    "* Regex Cheat Sheet: A Quick Guide to Regular Expressions in Python\n",
    "https://www.dataquest.io/blog/regex-cheatsheet/\n",
    "\n",
    "For this question, assume you have receive the passwords in variable password_list. For each password verify the validity of the password according to the rules of validation listed below. If the password is valid print or return the password along with a message \"password is valid\", if the password is invalid print or return the password along with the message \"password is not valid\".\n",
    "\n",
    "Rules of validation\n",
    "* The password must have atleast 1 (one) letter in the english alphabet \n",
    "* The password must have atleast 1 capitalized letter in the english alphabet\n",
    "* The password must atleast 1 special character from the list of these characters: (%$@^#)\n",
    "* The password must be atleast 7 characters but not exceed 20 characters in length\n",
    "* The password must not be the word: password or contain the user's firstname"
   ]
  },
  {
   "cell_type": "code",
   "execution_count": 19,
   "metadata": {},
   "outputs": [],
   "source": [
    "#you only need to run this once as it will generate a list of 100 randomly generated passwords each time you click run\n",
    "import random \n",
    "import string\n",
    "def randompassword(length):\n",
    "    password = string.ascii_letters + string.digits + string.punctuation\n",
    "    return ''.join(random.choice(password) for i in range(length))\n",
    "password_list = [randompassword(random.randint(0,30)) for iter in range(0,100)]"
   ]
  },
  {
   "cell_type": "code",
   "execution_count": 34,
   "metadata": {},
   "outputs": [
    {
     "name": "stdout",
     "output_type": "stream",
     "text": [
      "k~r=,o7FU@b'Y9.o-/LhmRDZF8Jr is a valid password\n",
      "''CrKE is not a valid Password\n",
      "c|PDe&5Of1t'A]+rA&fjUV81u*{ug8 is a valid password\n",
      " is not a valid Password\n",
      " is not a valid Password\n",
      "B4\"#Hq)zqxoDJR$mT]Y.NZ* is a valid password\n",
      "y!~Bv,YH^[i{6J!U+lf[z0{Tz(w^af is a valid password\n",
      "v)u0E'q|8%!^`FP is not a valid Password\n",
      ",f=|D7sds'Z]_5` is not a valid Password\n",
      "`ScIpVPJuU5#V:LO7L1xS is a valid password\n",
      "?8+u>_}`1oqF$ is not a valid Password\n",
      "6=V\\|.J)B\\VFr9NSH{X is a valid password\n",
      "k8 is not a valid Password\n",
      "TSOs</D6h|~- is not a valid Password\n",
      ";;o is not a valid Password\n",
      "T,n95,fdY~RGU22T:V8Yn-0 is not a valid Password\n",
      "{XK7\\'-%gX&Q is not a valid Password\n",
      "/'!d~[j17j\\iN`<.`M;;#3Z=j<*qj is not a valid Password\n",
      "P*LH77!'[X%y is not a valid Password\n",
      "b<2ye+ISqCzfLHO8ssrF<Eu)|Q is a valid password\n",
      "0xj is not a valid Password\n",
      " is not a valid Password\n",
      "`!A[B is not a valid Password\n",
      "\\ZyR is not a valid Password\n",
      "qwpj#]Ut9!H,,LnN)K is not a valid Password\n",
      "\\]*rpS*+:\\^_.yMQiFF#F+Lc[S is a valid password\n",
      "T\"nHb6i]Na\\ is not a valid Password\n",
      "h$A09D[GW8T9S6i$xA!/At\\C:hEV(v is a valid password\n",
      "^3*sH_T-_+/>ub\\i' is not a valid Password\n",
      "3Fu0kTRelMl(p_;>-^ is a valid password\n",
      "4H2I_g?cZF^Q67_gg@d'ffKhIjTg7 is a valid password\n",
      " is not a valid Password\n",
      ",z:0\"/fO!C=)Z3B>A~`R is not a valid Password\n",
      "9BIkSnRq1{$vwRH42Zt is a valid password\n",
      "exez/Id~(\\RsvQ7!Ddqm.s\\8\\{!T] is not a valid Password\n",
      "q2zhq_d$.%=B+s)GaDvv%` is a valid password\n",
      "[=3Ti>0+)tyff\"WTaa>44 is not a valid Password\n",
      "0?KPlyT6Js)58h;<\\gx is a valid password\n",
      "C, is not a valid Password\n",
      "Jc]'Y*L] is not a valid Password\n",
      "ph is not a valid Password\n",
      "\\)@%'^2ndm3?sp@w is not a valid Password\n",
      "H:xuOx:%zz;`g)2X<!!^o!&`= is not a valid Password\n",
      "~['M<-p8.,s[_VS#h@XMo[ is a valid password\n",
      ";8Ih#MTx~9_{S-q is a valid password\n",
      "WB4hAtI3|0 is a valid password\n",
      "v*-R|-|D; is not a valid Password\n",
      "46Y-`{{{wb?**_8b9*9,]-&J\"k{>T is not a valid Password\n",
      "re is not a valid Password\n",
      "Wi] is not a valid Password\n",
      "Ov#4JEr+ZfIS@81NMoqnUF-q(q5N[ is a valid password\n",
      "ug2>y+K_[xT^>- is not a valid Password\n",
      "C(uyc3%fr@O=|P is a valid password\n",
      "]lbkTa\"ptt)r)f/+A7 is a valid password\n",
      "1XxW>\"hIcdN4^(be=1QQk is a valid password\n",
      "LJ[/}wyHmfI8n[AoM-oeYm`gw is a valid password\n",
      "0_E@Q`]ZWo[_qM>51IkR& is not a valid Password\n",
      "+^}*PQT7iltM^:4 is a valid password\n",
      "}];L.R=1|25G*K61d=65C`wC# is not a valid Password\n",
      "Eg70+\":w{Vt$lJiv8%*B\" is a valid password\n",
      "$2vW]936Sdgl]JiA4*fJ] is a valid password\n",
      "\\ho5SYU(Z is a valid password\n",
      "qI9y^9>H_uzbRGyCHEb is a valid password\n",
      "1V is not a valid Password\n",
      "&UD%|wd@lTsvFyjG.!(4|n}b| is a valid password\n",
      "Q:WOoC/+B?;(T&Y(bXsfiG is a valid password\n",
      "1yw=6Q is not a valid Password\n",
      "m*hM`!#cejml is not a valid Password\n",
      "t=mJH0zOL^u_6d0:1 is a valid password\n",
      "m%?.}JstXdkH8rHlhO6*\"_{lb is a valid password\n",
      " is not a valid Password\n",
      "NyOQ0/#=\\)-!xgSz is not a valid Password\n",
      "t:^@#D8*Hu is not a valid Password\n",
      "90YRi'',kLYw)BmZ4& is a valid password\n",
      "k|~B(_DaYQuQ#(8XI<*Vq]wz\" is a valid password\n",
      "B)tf,BDj@4r* is not a valid Password\n",
      "t:h:kLYYk|2 is not a valid Password\n",
      "_aQ+{zrvvEw}J^3D is not a valid Password\n",
      "8H,1*'s3Ae|s+YE is not a valid Password\n",
      "\\4L*`JZ,Q]ra4>74I!s is not a valid Password\n",
      "/Kpl is not a valid Password\n",
      "Wyf'X@frSZ6il!!?Us'*b is a valid password\n",
      "6Y9{vJcf4M7k<F+,|(}!.S,EC\\ is a valid password\n",
      "l)wU~D@b|~VVx!K%b+nbI}13`ww is not a valid Password\n",
      "Bo7;FZlg,yK_D!g0bnLEfCjXFxV is a valid password\n",
      " is not a valid Password\n",
      "X0?<i-p+S is not a valid Password\n",
      "nCr!F/ytM;FfPBz is not a valid Password\n",
      "2]$nKw1?>K6>\"a is not a valid Password\n",
      "kf,0G9\"t+\"6&o%;uN(yEQM]b is a valid password\n",
      ",W1e@pq9!2AiBzN is a valid password\n",
      "Z'5z*/JY%P>a&w@'{KE\"]^\"-P is not a valid Password\n",
      "AI65f$xMqem|W2q7cbl?W1 is a valid password\n",
      "'<1g2|'1.G5px2 is not a valid Password\n",
      "M!yy:5tkwEC\\p%df1Tp is a valid password\n",
      ".4$FhG; is not a valid Password\n",
      "QavZPao~6 is a valid password\n",
      "[Y:O0q^pKfYib+Dcn7.QJ.l\\\"F#iv{ is a valid password\n",
      "@c.W),rS\\[f>S is not a valid Password\n",
      ">|Q_f(;U3OI<]V is not a valid Password\n"
     ]
    }
   ],
   "source": [
    "#Enter your answer here:\n",
    "import re\n",
    "r = re.compile(\"[(A-Za-z%$@^#)0-9][^password]{7,20}\")\n",
    "for i in range(len(password_list)):\n",
    "    if re.search(r'[(A-Za-z%$@^#)0-9]{7,20}', password_list[i]):\n",
    "        print('{} is a valid password'.format(password_list[i]))\n",
    "    else:\n",
    "            print('{} is not a valid Password'.format(password_list[i]))\n",
    "   "
   ]
  },
  {
   "cell_type": "markdown",
   "metadata": {},
   "source": [
    "## Question 6"
   ]
  },
  {
   "cell_type": "markdown",
   "metadata": {},
   "source": [
    "Write a function that will take an input of three numerical values and returns the largest and the lowest of the three values. Build this funciton without using the Python max() or min() function"
   ]
  },
  {
   "cell_type": "code",
   "execution_count": 3,
   "metadata": {},
   "outputs": [
    {
     "name": "stdout",
     "output_type": "stream",
     "text": [
      "The largest of the 3 numbers is :  9\n",
      "The smallest of the 3 numbers is :  4\n"
     ]
    }
   ],
   "source": [
    "num1 = int(input('Enter First number : '))\n",
    "num2 = int(input('Enter Second number : '))\n",
    "num3 = int(input('Enter Third number : '))\n",
    "def largest(nr1, nr2, nr3):\n",
    "    if (nr1 > nr2) and (nr1 > nr3):\n",
    "        largest_num = nr1\n",
    "    elif (nr2 > nr1) and (nr2 > nr3):\n",
    "        largest_num = nr2\n",
    "    else:\n",
    "        largest_num = nr3\n",
    "    print(\"The largest of the 3 numbers is : \", largest_num)\n",
    "def smallest(nr1, nr2, nr3):\n",
    "    if (nr1 < nr2) and (nr1 < nr3):\n",
    "        smallest_num = nr1\n",
    "    elif (nr2 < nr1) and (nr2 < nr3):\n",
    "        smallest_num = nr2\n",
    "    else:\n",
    "        smallest_num = nr3\n",
    "    print(\"The lowest of the 3 numbers is : \", smallest_num)\n",
    "largest(num1, num2, num3)\n",
    "smallest(num1, num2, num3)"
   ]
  },
  {
   "cell_type": "markdown",
   "metadata": {},
   "source": [
    "## Question 7\n"
   ]
  },
  {
   "cell_type": "markdown",
   "metadata": {},
   "source": [
    "Create a function that takes a dictionary of peoples names and then returns a list of all the names in alphabetic order"
   ]
  },
  {
   "cell_type": "code",
   "execution_count": 43,
   "metadata": {},
   "outputs": [],
   "source": [
    "#Enter your answer here:\n",
    "\n",
    "peoples_names = {'Ajibola', 'Jumoke', 'Andrea', 'Malik'}"
   ]
  },
  {
   "cell_type": "code",
   "execution_count": 45,
   "metadata": {},
   "outputs": [
    {
     "data": {
      "text/plain": [
       "['Ajibola', 'Andrea', 'Jumoke', 'Malik']"
      ]
     },
     "execution_count": 45,
     "metadata": {},
     "output_type": "execute_result"
    }
   ],
   "source": [
    "answerssss = sorted(list(peoples_names))\n",
    "answerssss"
   ]
  },
  {
   "cell_type": "markdown",
   "metadata": {},
   "source": [
    "## Question 8"
   ]
  },
  {
   "cell_type": "markdown",
   "metadata": {},
   "source": [
    "Write a program which will find all numbers which are divisible by 7 but are not a multiple of 5, between 2000 and 4200 (both included)."
   ]
  },
  {
   "cell_type": "code",
   "execution_count": 32,
   "metadata": {},
   "outputs": [],
   "source": [
    "#Enter your answer here:\n",
    "num_div_7 = [i for i in range(2000,4201) if (i%7==0 and i%5>0)]"
   ]
  },
  {
   "cell_type": "markdown",
   "metadata": {},
   "source": [
    "## Question 9"
   ]
  },
  {
   "cell_type": "markdown",
   "metadata": {},
   "source": [
    "Write a program which accepts a sequence of comma-separated numbers and then generates a list which contains every number in the sequence.\n",
    "\n",
    "Suppose the following input is supplied to the program:\n",
    "\n",
    "**sequence = '34,67,55,33,12,98'**\n",
    "\n",
    "Then, the output should be:\n",
    "\n",
    "**[34,67,55,33,12,98]**"
   ]
  },
  {
   "cell_type": "code",
   "execution_count": 2,
   "metadata": {},
   "outputs": [],
   "source": [
    "sequence = ';99,100,2,3,4,6,7,12,35,65,76,8,989,0,9,2,12,1,67,55,33,12,98;'"
   ]
  },
  {
   "cell_type": "code",
   "execution_count": 3,
   "metadata": {},
   "outputs": [],
   "source": [
    "#Enter your answer here:\n",
    "new_sequence = sequence.split(',')"
   ]
  },
  {
   "cell_type": "code",
   "execution_count": 7,
   "metadata": {},
   "outputs": [
    {
     "output_type": "execute_result",
     "data": {
      "text/plain": "[';99',\n '100',\n '2',\n '3',\n '4',\n '6',\n '7',\n '12',\n '35',\n '65',\n '76',\n '8',\n '989',\n '0',\n '9',\n '2',\n '12',\n '1',\n '67',\n '55',\n '33',\n '12',\n '98;']"
     },
     "metadata": {},
     "execution_count": 7
    }
   ],
   "source": [
    "new_sequence\n"
   ]
  },
  {
   "cell_type": "markdown",
   "metadata": {},
   "source": [
    "#### Comment\n",
    "- I think you mistakenly removed the trailing semi-colons in the string\n",
    "- You can use the split() method to remove these"
   ]
  },
  {
   "cell_type": "code",
   "execution_count": 11,
   "metadata": {},
   "outputs": [],
   "source": [
    "l = [i.split(';') for i in new_sequence]\n",
    "\n",
    "# I tried to hack around having the inconvenient columns by splitting them again"
   ]
  },
  {
   "cell_type": "code",
   "execution_count": 13,
   "metadata": {},
   "outputs": [],
   "source": [
    "#and then deleting the empty elements that they left behind \n",
    "del l[0][0]"
   ]
  },
  {
   "cell_type": "code",
   "execution_count": 15,
   "metadata": {},
   "outputs": [],
   "source": [
    "#I did this, individually for both elements at the beginning and end of the list \n",
    "\n",
    "del l[-1][1]"
   ]
  },
  {
   "cell_type": "code",
   "execution_count": 16,
   "metadata": {},
   "outputs": [
    {
     "output_type": "execute_result",
     "data": {
      "text/plain": "[['99'],\n ['100'],\n ['2'],\n ['3'],\n ['4'],\n ['6'],\n ['7'],\n ['12'],\n ['35'],\n ['65'],\n ['76'],\n ['8'],\n ['989'],\n ['0'],\n ['9'],\n ['2'],\n ['12'],\n ['1'],\n ['67'],\n ['55'],\n ['33'],\n ['12'],\n ['98']]"
     },
     "metadata": {},
     "execution_count": 16
    }
   ],
   "source": [
    "l"
   ]
  },
  {
   "cell_type": "code",
   "execution_count": 17,
   "metadata": {},
   "outputs": [
    {
     "output_type": "stream",
     "name": "stdout",
     "text": "['99', '100', '2', '3', '4', '6', '7', '12', '35', '65', '76', '8', '989', '0', '9', '2', '12', '1', '67', '55', '33', '12', '98']\n"
    }
   ],
   "source": [
    "#And then I unpacked the list of lists to bring us to the final answer \n",
    "\n",
    "import itertools\n",
    "print(list(itertools.chain(*l)))"
   ]
  },
  {
   "cell_type": "markdown",
   "metadata": {},
   "source": [
    "## Question 10"
   ]
  },
  {
   "cell_type": "markdown",
   "metadata": {},
   "source": [
    "Write a program that translates the following words into any words of a language of your choosing and prints out a message notifying the end user of the language the words have been translated to"
   ]
  },
  {
   "cell_type": "code",
   "execution_count": 1,
   "metadata": {},
   "outputs": [],
   "source": [
    "#Enter your answer here:\n",
    "\n",
    "words = ['hello','this','that','there','where','who','how','start','stop','line','think','dream']"
   ]
  },
  {
   "cell_type": "code",
   "execution_count": 2,
   "metadata": {},
   "outputs": [
    {
     "output_type": "error",
     "ename": "ModuleNotFoundError",
     "evalue": "No module named 'googletrans'",
     "traceback": [
      "\u001b[0;31m---------------------------------------------------------------------------\u001b[0m",
      "\u001b[0;31mModuleNotFoundError\u001b[0m                       Traceback (most recent call last)",
      "\u001b[0;32m<ipython-input-2-52b9e564ba79>\u001b[0m in \u001b[0;36m<module>\u001b[0;34m\u001b[0m\n\u001b[0;32m----> 1\u001b[0;31m \u001b[0;32mfrom\u001b[0m \u001b[0mgoogletrans\u001b[0m \u001b[0;32mimport\u001b[0m \u001b[0mTranslator\u001b[0m\u001b[0;34m\u001b[0m\u001b[0;34m\u001b[0m\u001b[0m\n\u001b[0m\u001b[1;32m      2\u001b[0m \u001b[0mtranslator\u001b[0m \u001b[0;34m=\u001b[0m \u001b[0mTranslator\u001b[0m\u001b[0;34m(\u001b[0m\u001b[0;34m)\u001b[0m\u001b[0;34m\u001b[0m\u001b[0;34m\u001b[0m\u001b[0m\n\u001b[1;32m      3\u001b[0m \u001b[0mtranslated_result\u001b[0m \u001b[0;34m=\u001b[0m \u001b[0mtranslator\u001b[0m\u001b[0;34m.\u001b[0m\u001b[0mtranslate\u001b[0m\u001b[0;34m(\u001b[0m\u001b[0mwords\u001b[0m\u001b[0;34m,\u001b[0m \u001b[0mdest\u001b[0m\u001b[0;34m=\u001b[0m\u001b[0;34m'fr'\u001b[0m\u001b[0;34m,\u001b[0m \u001b[0msrc\u001b[0m\u001b[0;34m=\u001b[0m\u001b[0;34m'auto'\u001b[0m\u001b[0;34m)\u001b[0m\u001b[0;34m\u001b[0m\u001b[0;34m\u001b[0m\u001b[0m\n\u001b[1;32m      4\u001b[0m \u001b[0mtranslated_result\u001b[0m\u001b[0;34m.\u001b[0m\u001b[0mdest\u001b[0m\u001b[0;34m\u001b[0m\u001b[0;34m\u001b[0m\u001b[0m\n\u001b[1;32m      5\u001b[0m \u001b[0mprint\u001b[0m\u001b[0;34m(\u001b[0m\u001b[0;34m'Hello, Your words have been translated to {}'\u001b[0m\u001b[0;34m.\u001b[0m\u001b[0mformat\u001b[0m\u001b[0;34m(\u001b[0m\u001b[0mtranslated_result\u001b[0m\u001b[0;34m.\u001b[0m\u001b[0mdest\u001b[0m\u001b[0;34m)\u001b[0m\u001b[0;34m)\u001b[0m\u001b[0;34m\u001b[0m\u001b[0;34m\u001b[0m\u001b[0m\n",
      "\u001b[0;31mModuleNotFoundError\u001b[0m: No module named 'googletrans'"
     ]
    }
   ],
   "source": [
    "from googletrans import Translator\n",
    "translator = Translator()\n",
    "translated_result = translator.translate(words, dest='fr', src='auto')\n",
    "print('Hello, Your words have been translated to {}'.format(translated_result.dest)) \n",
    "print('Here they are: {}'.format(words))"
   ]
  },
  {
   "cell_type": "markdown",
   "metadata": {},
   "source": [
    "#### Comment\n",
    "- Have a look at this answer on Stackoverflow;\n",
    "https://stackoverflow.com/questions/22587001/best-way-of-using-google-translation-by-python"
   ]
  },
  {
   "cell_type": "code",
   "execution_count": null,
   "metadata": {},
   "outputs": [],
   "source": [
    "\n"
   ]
  }
 ],
 "metadata": {
  "kernelspec": {
   "display_name": "Python 3",
   "language": "python",
   "name": "python3"
  },
  "language_info": {
   "codemirror_mode": {
    "name": "ipython",
    "version": 3
   },
   "file_extension": ".py",
   "mimetype": "text/x-python",
   "name": "python",
   "nbconvert_exporter": "python",
   "pygments_lexer": "ipython3",
   "version": "3.7.2-final"
  }
 },
 "nbformat": 4,
 "nbformat_minor": 2
}